{
 "cells": [
  {
   "cell_type": "markdown",
   "metadata": {
    "_uuid": "d7396efb3a93915ad52b65601b4ee167476ada2d"
   },
   "source": [
    "# xgboost with different data preprocessing and training parameter\n",
    "* This method have the score on LeaderBoard = 0.88338"
   ]
  },
  {
   "cell_type": "markdown",
   "metadata": {},
   "source": [
    "# Load the data"
   ]
  },
  {
   "cell_type": "code",
   "execution_count": 2,
   "metadata": {
    "_uuid": "50d6de7d338002b358397845fb15f490f224b37a"
   },
   "outputs": [],
   "source": [
    "import pandas as pd\n",
    "import numpy as np\n",
    "import gc\n",
    "import itertools\n",
    "from tqdm import tqdm_notebook\n",
    "import seaborn as sns\n",
    "import matplotlib.pyplot as plt\n",
    "%matplotlib inline\n",
    "\n",
    "import os\n",
    "DATA_FOLDER = '../input/'\n",
    "train     = pd.read_csv(os.path.join(DATA_FOLDER, 'sales_train_v2.csv'))\n",
    "items     = pd.read_csv(os.path.join(DATA_FOLDER, 'items.csv'))\n",
    "item_cats = pd.read_csv(os.path.join(DATA_FOLDER, 'item_categories.csv'))\n",
    "shops     = pd.read_csv(os.path.join(DATA_FOLDER, 'shops.csv'))\n",
    "test      = pd.read_csv(os.path.join(DATA_FOLDER, 'test.csv'))\n",
    "test['date_block_num'] = 34\n",
    "groupby_cols = ['date_block_num', 'shop_id', 'item_id']"
   ]
  },
  {
   "cell_type": "markdown",
   "metadata": {
    "_uuid": "7edd17e1972f85b384dcd13c17fae0b5929aabd1"
   },
   "source": [
    "# Add some features\n",
    "\n",
    "I did not extract too much information from text fields, just 2 features:\n",
    "**city** (which is also encoded in **shop_id**),\n",
    "and **meta_cat** (some meta category, higher level aggregation of a **category** field)"
   ]
  },
  {
   "cell_type": "code",
   "execution_count": 3,
   "metadata": {
    "_uuid": "930b7285014176e475312a1114320e41c2f68f9a"
   },
   "outputs": [],
   "source": [
    "#category\n",
    "cat = items[['item_id', 'item_category_id']].drop_duplicates()\n",
    "cat.set_index(['item_id'], inplace=True)\n",
    "cat = cat.item_category_id\n",
    "train['cat'] = train.item_id.map(cat)\n",
    "\n",
    "#meta_category   games, gifts, work, etc.\n",
    "item_cats['meta_cat'] = item_cats.item_category_name.apply(lambda x: x.split(' ')[0])\n",
    "item_cats['meta_cat'] = pd.Categorical(item_cats.meta_cat).codes\n",
    "item_cats.set_index(['item_category_id'], inplace=True)\n",
    "meta_cat = item_cats.meta_cat\n",
    "train['meta_cat'] = train.cat.map(meta_cat)\n",
    "\n",
    "#city\n",
    "shops['city'] = shops.shop_name.apply(lambda x: str.replace(x, '!', '')).apply(lambda x: x.split(' ')[0])\n",
    "shops['city'] = pd.Categorical(shops['city']).codes\n",
    "city = shops.city\n",
    "train['city'] = train.shop_id.map(city)\n",
    "\n",
    "#year\n",
    "year = pd.concat([train.date_block_num, train.date.apply(lambda x: int(x.split('.')[2]))], axis=1).drop_duplicates()\n",
    "year.set_index(['date_block_num'], inplace=True)\n",
    "year = year.date.append( pd.Series([2015], index=[34]) )\n",
    "\n",
    "#month\n",
    "month = pd.concat([train.date_block_num, train.date.apply(lambda x: int(x.split('.')[1]))], axis=1).drop_duplicates()\n",
    "month.set_index(['date_block_num'], inplace=True)\n",
    "month = month.date.append( pd.Series([11], index=[34]) )"
   ]
  },
  {
   "cell_type": "code",
   "execution_count": 4,
   "metadata": {
    "_uuid": "2e79fceb9498b99523292171924a3dcec9e07d6f"
   },
   "outputs": [
    {
     "name": "stderr",
     "output_type": "stream",
     "text": [
      "e:\\pycharmproject\\dsai\\venv\\lib\\site-packages\\pandas\\core\\frame.py:6692: FutureWarning: Sorting because non-concatenation axis is not aligned. A future version\n",
      "of pandas will change to not sort by default.\n",
      "\n",
      "To accept the future behavior, pass 'sort=False'.\n",
      "\n",
      "To retain the current behavior and silence the warning, pass 'sort=True'.\n",
      "\n",
      "  sort=sort)\n"
     ]
    }
   ],
   "source": [
    "all_shops_items = []\n",
    "\n",
    "for block_num in train['date_block_num'].unique():\n",
    "    unique_shops = train[ train['date_block_num']==block_num ]['shop_id'].unique()\n",
    "    unique_items = train[ train['date_block_num']==block_num ]['item_id'].unique()\n",
    "    all_shops_items.append( np.array( list( itertools.product([block_num], unique_shops, unique_items) ), dtype='int32' ) )\n",
    "\n",
    "df = pd.DataFrame( np.vstack( all_shops_items ), columns=groupby_cols , dtype='int32')\n",
    "df = df.append(test )\n",
    "\n",
    "df['ID'] = df.ID.fillna(-1).astype('int32')\n",
    "\n",
    "df['year'] = df.date_block_num.map(year)\n",
    "df['month'] = df.date_block_num.map(month)\n",
    "df['cat'] = df.item_id.map(cat)\n",
    "df['meta_cat'] = df.cat.map(meta_cat)\n",
    "df['city'] = df.shop_id.map(city)\n",
    "train['cat'] = train.item_id.map(cat)"
   ]
  },
  {
   "cell_type": "code",
   "execution_count": 5,
   "metadata": {
    "_uuid": "7a2518066e4c36b1db41a7b6eca04534a1115018"
   },
   "outputs": [
    {
     "data": {
      "text/html": [
       "<div>\n",
       "<style scoped>\n",
       "    .dataframe tbody tr th:only-of-type {\n",
       "        vertical-align: middle;\n",
       "    }\n",
       "\n",
       "    .dataframe tbody tr th {\n",
       "        vertical-align: top;\n",
       "    }\n",
       "\n",
       "    .dataframe thead th {\n",
       "        text-align: right;\n",
       "    }\n",
       "</style>\n",
       "<table border=\"1\" class=\"dataframe\">\n",
       "  <thead>\n",
       "    <tr style=\"text-align: right;\">\n",
       "      <th></th>\n",
       "      <th>ID</th>\n",
       "      <th>date_block_num</th>\n",
       "      <th>item_id</th>\n",
       "      <th>shop_id</th>\n",
       "      <th>year</th>\n",
       "      <th>month</th>\n",
       "      <th>cat</th>\n",
       "      <th>meta_cat</th>\n",
       "      <th>city</th>\n",
       "    </tr>\n",
       "  </thead>\n",
       "  <tbody>\n",
       "    <tr>\n",
       "      <th>1700944</th>\n",
       "      <td>-1</td>\n",
       "      <td>4</td>\n",
       "      <td>2108</td>\n",
       "      <td>50</td>\n",
       "      <td>2013</td>\n",
       "      <td>5</td>\n",
       "      <td>55</td>\n",
       "      <td>9</td>\n",
       "      <td>24</td>\n",
       "    </tr>\n",
       "    <tr>\n",
       "      <th>8272334</th>\n",
       "      <td>-1</td>\n",
       "      <td>23</td>\n",
       "      <td>16542</td>\n",
       "      <td>30</td>\n",
       "      <td>2014</td>\n",
       "      <td>12</td>\n",
       "      <td>55</td>\n",
       "      <td>9</td>\n",
       "      <td>13</td>\n",
       "    </tr>\n",
       "    <tr>\n",
       "      <th>2966124</th>\n",
       "      <td>-1</td>\n",
       "      <td>7</td>\n",
       "      <td>8285</td>\n",
       "      <td>2</td>\n",
       "      <td>2013</td>\n",
       "      <td>8</td>\n",
       "      <td>40</td>\n",
       "      <td>7</td>\n",
       "      <td>0</td>\n",
       "    </tr>\n",
       "    <tr>\n",
       "      <th>5404202</th>\n",
       "      <td>-1</td>\n",
       "      <td>14</td>\n",
       "      <td>10407</td>\n",
       "      <td>41</td>\n",
       "      <td>2014</td>\n",
       "      <td>3</td>\n",
       "      <td>40</td>\n",
       "      <td>7</td>\n",
       "      <td>18</td>\n",
       "    </tr>\n",
       "    <tr>\n",
       "      <th>8246201</th>\n",
       "      <td>-1</td>\n",
       "      <td>23</td>\n",
       "      <td>4701</td>\n",
       "      <td>27</td>\n",
       "      <td>2014</td>\n",
       "      <td>12</td>\n",
       "      <td>57</td>\n",
       "      <td>9</td>\n",
       "      <td>13</td>\n",
       "    </tr>\n",
       "  </tbody>\n",
       "</table>\n",
       "</div>"
      ],
      "text/plain": [
       "         ID  date_block_num  item_id  shop_id  year  month  cat  meta_cat  \\\n",
       "1700944  -1               4     2108       50  2013      5   55         9   \n",
       "8272334  -1              23    16542       30  2014     12   55         9   \n",
       "2966124  -1               7     8285        2  2013      8   40         7   \n",
       "5404202  -1              14    10407       41  2014      3   40         7   \n",
       "8246201  -1              23     4701       27  2014     12   57         9   \n",
       "\n",
       "         city  \n",
       "1700944    24  \n",
       "8272334    13  \n",
       "2966124     0  \n",
       "5404202    18  \n",
       "8246201    13  "
      ]
     },
     "execution_count": 5,
     "metadata": {},
     "output_type": "execute_result"
    }
   ],
   "source": [
    "df.sample(5)"
   ]
  },
  {
   "cell_type": "markdown",
   "metadata": {
    "_uuid": "3828dea4b64a9bd3f1e5fd8eaff8e26be6273738"
   },
   "source": [
    "# Some plots.\n",
    "Overall trend - the sales are decreasing. Peaks on December. date_block_num's [0: 12] contain quite a lot of training data, it is useful to keep them in the training set."
   ]
  },
  {
   "cell_type": "code",
   "execution_count": 6,
   "metadata": {
    "_uuid": "0098f5c3dda4e925c18261613dbf1dc66a980f65"
   },
   "outputs": [
    {
     "data": {
      "text/plain": [
       "<matplotlib.axes._subplots.AxesSubplot at 0x18308235860>"
      ]
     },
     "execution_count": 6,
     "metadata": {},
     "output_type": "execute_result"
    },
    {
     "data": {
      "image/png": "[encoded data removed]",
      "text/plain": [
       "<Figure size 432x288 with 1 Axes>"
      ]
     },
     "metadata": {
      "needs_background": "light"
     },
     "output_type": "display_data"
    }
   ],
   "source": [
    "gb = train.groupby(by=['date_block_num'], as_index=False).agg({ 'item_cnt_day': ['sum']})\n",
    "sns.barplot(x=gb['date_block_num'], y=gb['item_cnt_day']['sum'])"
   ]
  },
  {
   "cell_type": "markdown",
   "metadata": {
    "_uuid": "37b698e7d92333e2d16b3259e1ff500a6480c5e9"
   },
   "source": [
    "Most of the target values are just Zeros."
   ]
  },
  {
   "cell_type": "code",
   "execution_count": 7,
   "metadata": {
    "_uuid": "7a7069bd4176bc8efa2c0a66968a8f6cd77590e5"
   },
   "outputs": [
    {
     "data": {
      "text/plain": [
       "<matplotlib.axes._subplots.AxesSubplot at 0x1830048bda0>"
      ]
     },
     "execution_count": 7,
     "metadata": {},
     "output_type": "execute_result"
    },
    {
     "data": {
      "image/png": "[encoded data removed]",
      "text/plain": [
       "<Figure size 432x288 with 1 Axes>"
      ]
     },
     "metadata": {
      "needs_background": "light"
     },
     "output_type": "display_data"
    }
   ],
   "source": [
    "sns.distplot(train['item_cnt_day'])"
   ]
  },
  {
   "cell_type": "markdown",
   "metadata": {
    "_uuid": "e87b88f84eef8cb25ad3f92400cfa15b74cb9491"
   },
   "source": [
    "Zeros and ones are just dominating."
   ]
  },
  {
   "cell_type": "code",
   "execution_count": 8,
   "metadata": {
    "_uuid": "e6d63d8f488683bc8aea4d4bccc6828d298d0162"
   },
   "outputs": [
    {
     "data": {
      "text/plain": [
       "<matplotlib.axes._subplots.AxesSubplot at 0x18300577358>"
      ]
     },
     "execution_count": 8,
     "metadata": {},
     "output_type": "execute_result"
    },
    {
     "data": {
      "image/png": "[encoded data removed]",
      "text/plain": [
       "<Figure size 432x288 with 1 Axes>"
      ]
     },
     "metadata": {
      "needs_background": "light"
     },
     "output_type": "display_data"
    }
   ],
   "source": [
    "sns.distplot( train[ train['item_cnt_day'] > 0 ]['item_cnt_day'].clip(0, 20) )"
   ]
  },
  {
   "cell_type": "markdown",
   "metadata": {
    "_uuid": "08cbc6746ccd6b4207227deb819f827d71ec5344"
   },
   "source": [
    "# Calculating different aggregations"
   ]
  },
  {
   "cell_type": "code",
   "execution_count": 9,
   "metadata": {
    "_uuid": "3e48859dce636c1d35cec059c01dccd4a45ea700"
   },
   "outputs": [],
   "source": [
    "gb = train.groupby(by=groupby_cols, as_index=False).agg({ 'item_cnt_day': ['sum']})\n",
    "gb.columns = [val[0] if val[-1]=='' else '_'.join(val) for val in gb.columns.values]\n",
    "gb.rename(columns={'item_cnt_day_sum':'target'}, inplace=True)\n",
    "df = pd.merge(df, gb, how='left', on=groupby_cols)\n",
    "\n",
    "gb = train.groupby(by=['date_block_num', 'item_id'], as_index=False).agg({'item_cnt_day':['sum']})\n",
    "gb.columns = [val[0] if val[-1]=='' else '_'.join(val) for val in gb.columns.values]\n",
    "gb.rename(columns={'item_cnt_day_sum':'target_item'}, inplace=True)\n",
    "df = pd.merge(df, gb, how='left', on=['date_block_num', 'item_id'])\n",
    "\n",
    "gb = train.groupby(by=['date_block_num', 'shop_id'], as_index=False).agg({'item_cnt_day':['sum']})\n",
    "gb.columns = [val[0] if val[-1]=='' else '_'.join(val) for val in gb.columns.values]\n",
    "gb.rename(columns={'item_cnt_day_sum':'target_shop'}, inplace=True)\n",
    "df = pd.merge(df, gb, how='left', on=['date_block_num', 'shop_id'])\n",
    "\n",
    "gb = train.groupby( by=['date_block_num', 'cat'], as_index=False).agg({ 'item_cnt_day': ['sum'] })\n",
    "gb.columns = [val[0] if val[-1]=='' else '_'.join(val) for val in gb.columns.values]\n",
    "gb.rename(columns={'item_cnt_day_sum':'target_cat'}, inplace=True)\n",
    "df = pd.merge(df, gb, how='left', on=['date_block_num', 'cat'])\n",
    "\n",
    "gb = train.groupby(by=['date_block_num', 'item_id'], as_index=False).agg({'item_price':['mean', 'max']})\n",
    "gb.columns = [val[0] if val[-1]=='' else '_'.join(val) for val in gb.columns.values]\n",
    "gb.rename(columns={'item_price_mean':'target_price_mean', 'item_price_max':'target_price_max'}, inplace=True)\n",
    "df = pd.merge(df, gb, how='left', on=['date_block_num', 'item_id'])"
   ]
  },
  {
   "cell_type": "markdown",
   "metadata": {
    "_uuid": "dcb1bb256c0c72b8f6f321a54163c3736c23b14d"
   },
   "source": [
    "# Clipping some outlier prices"
   ]
  },
  {
   "cell_type": "code",
   "execution_count": 10,
   "metadata": {
    "_uuid": "8a3610afd19f2f9ecaf03346c880030a2008f6b7"
   },
   "outputs": [
    {
     "name": "stderr",
     "output_type": "stream",
     "text": [
      "e:\\pycharmproject\\dsai\\venv\\lib\\site-packages\\ipykernel_launcher.py:1: RuntimeWarning: invalid value encountered in minimum\n",
      "  \"\"\"Entry point for launching an IPython kernel.\n",
      "e:\\pycharmproject\\dsai\\venv\\lib\\site-packages\\ipykernel_launcher.py:2: RuntimeWarning: invalid value encountered in minimum\n",
      "  \n"
     ]
    }
   ],
   "source": [
    "df['target_price_mean'] = np.minimum(df['target_price_mean'], df['target_price_mean'].quantile(0.99))\n",
    "df['target_price_max'] = np.minimum(df['target_price_max'], df['target_price_max'].quantile(0.99))\n",
    "\n",
    "df.fillna(0, inplace=True)\n",
    "df['target'] = df['target'].clip(0, 20)\n",
    "df['target_zero'] = (df['target'] > 0).astype(\"int32\")"
   ]
  },
  {
   "cell_type": "markdown",
   "metadata": {
    "_uuid": "32105b35366e1e73c496c65a9822bdc3cc565490"
   },
   "source": [
    "# Mean Encodings"
   ]
  },
  {
   "cell_type": "code",
   "execution_count": 11,
   "metadata": {
    "_uuid": "acd9fa75a7d8216ccea0df4ec8448548911b41d1"
   },
   "outputs": [
    {
     "name": "stdout",
     "output_type": "stream",
     "text": [
      "enc_shop_id_cat enc_max_shop_id_cat\n"
     ]
    },
    {
     "data": {
      "application/vnd.jupyter.widget-view+json": {
       "model_id": "0031569c9ddf4652b70ce97570831ef9",
       "version_major": 2,
       "version_minor": 0
      },
      "text/plain": [
       "HBox(children=(IntProgress(value=0, max=35), HTML(value='')))"
      ]
     },
     "metadata": {},
     "output_type": "display_data"
    },
    {
     "name": "stdout",
     "output_type": "stream",
     "text": [
      "\n",
      "enc_shop_id_item_id enc_max_shop_id_item_id\n"
     ]
    },
    {
     "data": {
      "application/vnd.jupyter.widget-view+json": {
       "model_id": "5eb4f1a01b754c26914d8f6d613e3070",
       "version_major": 2,
       "version_minor": 0
      },
      "text/plain": [
       "HBox(children=(IntProgress(value=0, max=35), HTML(value='')))"
      ]
     },
     "metadata": {},
     "output_type": "display_data"
    },
    {
     "name": "stdout",
     "output_type": "stream",
     "text": [
      "\n",
      "enc_shop_id enc_max_shop_id\n"
     ]
    },
    {
     "data": {
      "application/vnd.jupyter.widget-view+json": {
       "model_id": "3e370e7d82294511865a7b31f917407a",
       "version_major": 2,
       "version_minor": 0
      },
      "text/plain": [
       "HBox(children=(IntProgress(value=0, max=35), HTML(value='')))"
      ]
     },
     "metadata": {},
     "output_type": "display_data"
    },
    {
     "name": "stdout",
     "output_type": "stream",
     "text": [
      "\n",
      "enc_item_id enc_max_item_id\n"
     ]
    },
    {
     "data": {
      "application/vnd.jupyter.widget-view+json": {
       "model_id": "e3a5ec4cba254019a1e66db829aa1d2a",
       "version_major": 2,
       "version_minor": 0
      },
      "text/plain": [
       "HBox(children=(IntProgress(value=0, max=35), HTML(value='')))"
      ]
     },
     "metadata": {},
     "output_type": "display_data"
    },
    {
     "name": "stdout",
     "output_type": "stream",
     "text": [
      "\n",
      "Wall time: 4min 46s\n"
     ]
    }
   ],
   "source": [
    "%%time\n",
    "for enc_cols in [['shop_id', 'cat'], ['shop_id', 'item_id'], ['shop_id'], ['item_id']]:\n",
    "    \n",
    "    col = '_'.join(['enc', *enc_cols])\n",
    "    col2 = '_'.join(['enc_max', *enc_cols])\n",
    "    df[col] = np.nan\n",
    "    df[col2] = np.nan\n",
    "    \n",
    "    print(col, col2)\n",
    "    \n",
    "    for d in tqdm_notebook(df.date_block_num.unique()):\n",
    "        \n",
    "\n",
    "        f1 = df.date_block_num < d\n",
    "        f2 = df.date_block_num == d\n",
    "\n",
    "        gb = df.loc[f1].groupby(enc_cols)[['target']].mean().reset_index()\n",
    "        enc = df.loc[f2][enc_cols].merge(gb, on=enc_cols, how='left' )[['target']].copy()\n",
    "        enc.set_index(df.loc[f2].index, inplace=True)\n",
    "        df.loc[f2, col] = enc['target']\n",
    "        \n",
    "        gb = df.loc[f1].groupby(enc_cols)[['target']].max().reset_index()\n",
    "        enc = df.loc[f2][enc_cols].merge(gb, on=enc_cols, how='left' )[['target']].copy()\n",
    "        enc.set_index(df.loc[f2].index, inplace=True)\n",
    "        df.loc[f2, col2] = enc['target']\n",
    "        "
   ]
  },
  {
   "cell_type": "code",
   "execution_count": 12,
   "metadata": {
    "_uuid": "61d1589d71469250aab1d85cde8ce149d652f4df"
   },
   "outputs": [],
   "source": [
    "def downcast_dtypes(df):\n",
    "    '''\n",
    "        Changes column types in the dataframe: \n",
    "                \n",
    "                `float64` type to `float32`\n",
    "                `int64`   type to `int32`\n",
    "    '''\n",
    "    \n",
    "    # Select columns to downcast\n",
    "    float32_cols = [c for c in df if df[c].dtype == \"float64\"]\n",
    "    int32_cols = [c for c in df if df[c].dtype in [\"int64\", \"int16\", \"int8\"] ]\n",
    "            \n",
    "    # Downcast\n",
    "    df[float32_cols] = df[float32_cols].astype(np.float32)\n",
    "    df[int32_cols]   = df[int32_cols].astype(np.int32)\n",
    "        \n",
    "    return df"
   ]
  },
  {
   "cell_type": "code",
   "execution_count": 13,
   "metadata": {
    "_uuid": "9e81606ef442f104cecb3d8099b70f062e62871e"
   },
   "outputs": [],
   "source": [
    "df.fillna(0, inplace=True)\n",
    "df = downcast_dtypes(df)"
   ]
  },
  {
   "cell_type": "markdown",
   "metadata": {
    "_uuid": "b820a86a1e5eed3edc5767accac596d45a16d75a"
   },
   "source": [
    "# Historical values"
   ]
  },
  {
   "cell_type": "code",
   "execution_count": 18,
   "metadata": {
    "_uuid": "80152e6508c3bc836d78c5ecd22b4de774fc3f7e"
   },
   "outputs": [
    {
     "name": "stdout",
     "output_type": "stream",
     "text": [
      "['target', 'target_item', 'target_shop', 'target_cat', 'target_price_mean', 'target_price_max', 'target_zero']\n"
     ]
    }
   ],
   "source": [
    "import pandas as pd\n",
    "import numpy as np\n",
    "from tqdm import tqdm_notebook\n",
    "import os\n",
    "import gc\n",
    "from time import sleep\n",
    "\n",
    "groupby_cols = ['date_block_num', 'shop_id', 'item_id']\n",
    "shift_range = [1, 2, 3, 4, 5, 12]\n",
    "shifted_columns = [c for c in df if 'target' in c]\n",
    "print(shifted_columns)"
   ]
  },
  {
   "cell_type": "code",
   "execution_count": 23,
   "metadata": {
    "_uuid": "590855e988e77c12c31e04d7a5cc4d2adbb9c05e"
   },
   "outputs": [
    {
     "data": {
      "application/vnd.jupyter.widget-view+json": {
       "model_id": "7fe72c9922334438a6a0cc30b49aeaf4",
       "version_major": 2,
       "version_minor": 0
      },
      "text/plain": [
       "HBox(children=(IntProgress(value=0, max=6), HTML(value='')))"
      ]
     },
     "metadata": {},
     "output_type": "display_data"
    },
    {
     "name": "stdout",
     "output_type": "stream",
     "text": [
      "1\n",
      "2\n",
      "3\n",
      "4\n",
      "5\n",
      "12\n",
      "\n"
     ]
    }
   ],
   "source": [
    "#%%time\n",
    "for shift in tqdm_notebook(shift_range):\n",
    "    print(shift)\n",
    "    shifted_data = df[groupby_cols + shifted_columns].copy()\n",
    "    shifted_data['date_block_num'] = shifted_data['date_block_num'] + shift\n",
    "    \n",
    "    foo = lambda x: '{}_lag_{}'.format(x, shift) if x in shifted_columns else x\n",
    "    shifted_data = shifted_data.rename(columns=foo)\n",
    "    \n",
    "    \n",
    "    df = pd.merge(df, shifted_data, how='left', on=groupby_cols).fillna(0)\n",
    "    df = downcast_dtypes(df)\n",
    "\n",
    "    del shifted_data\n",
    "    gc.collect()\n",
    "    sleep(1)"
   ]
  },
  {
   "cell_type": "markdown",
   "metadata": {
    "_uuid": "d1eadefd3618b8228cb2bb2130510525c5d2f299"
   },
   "source": [
    "# Features Interaction\n",
    "A big breakthrough happened, when i encoded these interactions."
   ]
  },
  {
   "cell_type": "code",
   "execution_count": 24,
   "metadata": {
    "_uuid": "dd93d74516e079f6d68ae9694ccbc1425f6be889"
   },
   "outputs": [],
   "source": [
    "df['target_trend_1_2'] = df['target_lag_1'] - df['target_lag_2']\n",
    "df['target_predict_1_2'] = df['target_lag_1']*2 - df['target_lag_2']\n",
    "\n",
    "df['target_trend_3_4'] = df['target_lag_1'] + df['target_lag_2'] - df['target_lag_3'] - df['target_lag_4']\n",
    "df['target_predict_3_4'] = (df['target_lag_1'] + df['target_lag_2'])*2 - df['target_lag_3'] - df['target_lag_4']\n",
    "\n",
    "df['target_item_trend_1_2'] = df['target_item_lag_1'] - df['target_item_lag_2']\n",
    "df['target_item_trend_3_4'] = df['target_item_lag_1'] + df['target_item_lag_2'] - df['target_item_lag_3'] - df['target_item_lag_4']\n",
    "df['target_shop_trend_1_2'] = df['target_shop_lag_1'] - df['target_shop_lag_2']\n",
    "df['target_shop_trend_3_4'] = df['target_shop_lag_1'] + df['target_shop_lag_2'] - df['target_shop_lag_3'] - df['target_shop_lag_4']"
   ]
  },
  {
   "cell_type": "code",
   "execution_count": 25,
   "metadata": {
    "_uuid": "a32cf11e3fa66b2e1b282e34a4e11f8c671d991e"
   },
   "outputs": [],
   "source": [
    "df = downcast_dtypes(df)\n",
    "df.to_pickle(\"df.pkl\")"
   ]
  },
  {
   "cell_type": "markdown",
   "metadata": {
    "_uuid": "1e6e2ea4020d19b0f5a26133b75564a8010d9ca6"
   },
   "source": [
    "# XGBoost part"
   ]
  },
  {
   "cell_type": "code",
   "execution_count": 1,
   "metadata": {
    "_uuid": "8fef6e29f9f68652e1731cb3ddd28487f13a8f99"
   },
   "outputs": [],
   "source": [
    "import pandas as pd\n",
    "import numpy as np\n",
    "import os\n",
    "from sklearn.metrics import mean_squared_error, log_loss, accuracy_score, roc_curve, roc_auc_score\n",
    "import gc\n",
    "import xgboost as xgb\n",
    "from sklearn.model_selection import train_test_split\n",
    "import scipy.stats as st\n",
    "import seaborn as sns\n",
    "import matplotlib.pyplot as plt\n",
    "import pickle\n",
    "%matplotlib inline"
   ]
  },
  {
   "cell_type": "code",
   "execution_count": 2,
   "metadata": {
    "_uuid": "94672e7385a95cbe805f31b91adfee548ca16576"
   },
   "outputs": [],
   "source": [
    "df = pd.read_pickle(\"df.pkl\")\n",
    "\n",
    "drop_columns = [c for c in df if c[-1] not in ['1', '2', '3', '4', '5', '6', '7', '8', '9', '0'] and c.startswith('target')]\n",
    "drop_columns += ['ID']\n",
    "features = df.columns.difference( drop_columns )\n",
    "\n",
    "f0 = df.date_block_num < 34\n",
    "f1 = df.date_block_num == 34\n",
    "\n",
    "train, val = train_test_split(df[f0], test_size=0.2, stratify=df[f0]['target'])\n",
    "test = df[f1]\n"
   ]
  },
  {
   "cell_type": "code",
   "execution_count": 3,
   "metadata": {
    "_uuid": "8a6b574f8d0520f7b8e1b4cd2417748c2f960a92"
   },
   "outputs": [
    {
     "name": "stderr",
     "output_type": "stream",
     "text": [
      "e:\\pycharmproject\\dsai\\venv\\lib\\site-packages\\xgboost-0.83.dev0-py3.6.egg\\xgboost\\core.py:587: FutureWarning: Series.base is deprecated and will be removed in a future version\n",
      "  if getattr(data, 'base', None) is not None and \\\n",
      "e:\\pycharmproject\\dsai\\venv\\lib\\site-packages\\xgboost-0.83.dev0-py3.6.egg\\xgboost\\core.py:588: FutureWarning: Series.base is deprecated and will be removed in a future version\n",
      "  data.base is not None and isinstance(data, np.ndarray) \\\n"
     ]
    }
   ],
   "source": [
    "Train = xgb.DMatrix( train[features], train['target'] )\n",
    "Val = xgb.DMatrix( val[features], val['target'] )\n",
    "Test = xgb.DMatrix( test[features])"
   ]
  },
  {
   "cell_type": "code",
   "execution_count": 4,
   "metadata": {
    "_uuid": "b3591ea190e85a84e38bd6b40e29ed9a6c5ed80e"
   },
   "outputs": [
    {
     "data": {
      "text/plain": [
       "25"
      ]
     },
     "execution_count": 4,
     "metadata": {},
     "output_type": "execute_result"
    }
   ],
   "source": [
    "del df\n",
    "gc.collect()"
   ]
  },
  {
   "cell_type": "markdown",
   "metadata": {
    "_uuid": "4bcd9c3ec6dfd55b32b9224fb22c79036e26d2e4"
   },
   "source": [
    "Here are the selected parameters, which turned out to be optimal."
   ]
  },
  {
   "cell_type": "code",
   "execution_count": 5,
   "metadata": {
    "_uuid": "082909d70241f64d4bd990e337bd6c582dc3fcd8"
   },
   "outputs": [
    {
     "name": "stdout",
     "output_type": "stream",
     "text": [
      "[20:46:04] WARNING: C:/dev/libs/xgboost/src/objective/regression_obj.cu:152: reg:linear is now deprecated in favor of reg:squarederror.\n",
      "[0]\tTrain-rmse:1.18924\tVal-rmse:1.1891\n",
      "Multiple eval metrics have been passed: 'Val-rmse' will be used for early stopping.\n",
      "\n",
      "Will train until Val-rmse hasn't improved in 10 rounds.\n",
      "[1]\tTrain-rmse:1.14701\tVal-rmse:1.14669\n",
      "[2]\tTrain-rmse:1.11123\tVal-rmse:1.11081\n",
      "[3]\tTrain-rmse:1.08084\tVal-rmse:1.08035\n",
      "[4]\tTrain-rmse:1.05544\tVal-rmse:1.05485\n",
      "[5]\tTrain-rmse:1.03378\tVal-rmse:1.03311\n",
      "[6]\tTrain-rmse:1.01555\tVal-rmse:1.0148\n",
      "[7]\tTrain-rmse:0.999778\tVal-rmse:0.998947\n",
      "[8]\tTrain-rmse:0.986123\tVal-rmse:0.985228\n",
      "[9]\tTrain-rmse:0.97511\tVal-rmse:0.974233\n",
      "[10]\tTrain-rmse:0.965795\tVal-rmse:0.965012\n",
      "[11]\tTrain-rmse:0.95738\tVal-rmse:0.956592\n",
      "[12]\tTrain-rmse:0.950346\tVal-rmse:0.9496\n",
      "[13]\tTrain-rmse:0.944233\tVal-rmse:0.943498\n",
      "[14]\tTrain-rmse:0.939017\tVal-rmse:0.938309\n",
      "[15]\tTrain-rmse:0.934614\tVal-rmse:0.933898\n",
      "[16]\tTrain-rmse:0.930771\tVal-rmse:0.930121\n",
      "[17]\tTrain-rmse:0.927575\tVal-rmse:0.92695\n",
      "[18]\tTrain-rmse:0.924521\tVal-rmse:0.92392\n",
      "[19]\tTrain-rmse:0.921954\tVal-rmse:0.92137\n",
      "[20]\tTrain-rmse:0.919535\tVal-rmse:0.918965\n",
      "[21]\tTrain-rmse:0.917419\tVal-rmse:0.916841\n",
      "[22]\tTrain-rmse:0.915154\tVal-rmse:0.914646\n",
      "[23]\tTrain-rmse:0.913514\tVal-rmse:0.91306\n",
      "[24]\tTrain-rmse:0.911672\tVal-rmse:0.911224\n",
      "[25]\tTrain-rmse:0.910271\tVal-rmse:0.909843\n",
      "[26]\tTrain-rmse:0.90903\tVal-rmse:0.908624\n",
      "[27]\tTrain-rmse:0.90757\tVal-rmse:0.90719\n",
      "[28]\tTrain-rmse:0.90648\tVal-rmse:0.906146\n",
      "[29]\tTrain-rmse:0.905416\tVal-rmse:0.905131\n",
      "[30]\tTrain-rmse:0.904306\tVal-rmse:0.904109\n",
      "[31]\tTrain-rmse:0.903273\tVal-rmse:0.903084\n",
      "[32]\tTrain-rmse:0.902429\tVal-rmse:0.902311\n",
      "[33]\tTrain-rmse:0.901681\tVal-rmse:0.901591\n",
      "[34]\tTrain-rmse:0.900751\tVal-rmse:0.900733\n",
      "[35]\tTrain-rmse:0.899973\tVal-rmse:0.900046\n",
      "[36]\tTrain-rmse:0.899266\tVal-rmse:0.899383\n",
      "[37]\tTrain-rmse:0.898511\tVal-rmse:0.8987\n",
      "[38]\tTrain-rmse:0.897675\tVal-rmse:0.8979\n",
      "[39]\tTrain-rmse:0.897016\tVal-rmse:0.897283\n",
      "[40]\tTrain-rmse:0.89653\tVal-rmse:0.896826\n",
      "[41]\tTrain-rmse:0.895907\tVal-rmse:0.896264\n",
      "[42]\tTrain-rmse:0.895067\tVal-rmse:0.895469\n",
      "[43]\tTrain-rmse:0.89459\tVal-rmse:0.895017\n",
      "[44]\tTrain-rmse:0.894125\tVal-rmse:0.894611\n",
      "[45]\tTrain-rmse:0.893566\tVal-rmse:0.894067\n",
      "[46]\tTrain-rmse:0.893187\tVal-rmse:0.893723\n",
      "[47]\tTrain-rmse:0.892585\tVal-rmse:0.893145\n",
      "[48]\tTrain-rmse:0.89209\tVal-rmse:0.892683\n",
      "[49]\tTrain-rmse:0.891559\tVal-rmse:0.892248\n",
      "[50]\tTrain-rmse:0.891225\tVal-rmse:0.891958\n",
      "[51]\tTrain-rmse:0.890843\tVal-rmse:0.891595\n",
      "[52]\tTrain-rmse:0.890353\tVal-rmse:0.89111\n",
      "[53]\tTrain-rmse:0.889236\tVal-rmse:0.890042\n",
      "[54]\tTrain-rmse:0.888634\tVal-rmse:0.889444\n",
      "[55]\tTrain-rmse:0.88795\tVal-rmse:0.888792\n",
      "[56]\tTrain-rmse:0.887577\tVal-rmse:0.888453\n",
      "[57]\tTrain-rmse:0.887309\tVal-rmse:0.888243\n",
      "[58]\tTrain-rmse:0.886363\tVal-rmse:0.887391\n",
      "[59]\tTrain-rmse:0.886044\tVal-rmse:0.887093\n",
      "[60]\tTrain-rmse:0.885703\tVal-rmse:0.886824\n",
      "[61]\tTrain-rmse:0.88551\tVal-rmse:0.886653\n",
      "[62]\tTrain-rmse:0.885334\tVal-rmse:0.886494\n",
      "[63]\tTrain-rmse:0.885028\tVal-rmse:0.88621\n",
      "[64]\tTrain-rmse:0.884867\tVal-rmse:0.886102\n",
      "[65]\tTrain-rmse:0.884315\tVal-rmse:0.885594\n",
      "[66]\tTrain-rmse:0.884033\tVal-rmse:0.885311\n",
      "[67]\tTrain-rmse:0.883464\tVal-rmse:0.884777\n",
      "[68]\tTrain-rmse:0.883287\tVal-rmse:0.884633\n",
      "[69]\tTrain-rmse:0.882996\tVal-rmse:0.884368\n",
      "[70]\tTrain-rmse:0.882829\tVal-rmse:0.884261\n",
      "[71]\tTrain-rmse:0.882591\tVal-rmse:0.884042\n",
      "[72]\tTrain-rmse:0.882398\tVal-rmse:0.883855\n",
      "[73]\tTrain-rmse:0.882151\tVal-rmse:0.883652\n",
      "[74]\tTrain-rmse:0.881776\tVal-rmse:0.883327\n",
      "[75]\tTrain-rmse:0.8814\tVal-rmse:0.882989\n",
      "[76]\tTrain-rmse:0.881172\tVal-rmse:0.882801\n",
      "[77]\tTrain-rmse:0.880945\tVal-rmse:0.882594\n",
      "[78]\tTrain-rmse:0.880672\tVal-rmse:0.882361\n",
      "[79]\tTrain-rmse:0.88033\tVal-rmse:0.882052\n",
      "[80]\tTrain-rmse:0.880112\tVal-rmse:0.881882\n",
      "[81]\tTrain-rmse:0.8799\tVal-rmse:0.881682\n",
      "[82]\tTrain-rmse:0.879734\tVal-rmse:0.881526\n",
      "[83]\tTrain-rmse:0.879234\tVal-rmse:0.88108\n",
      "[84]\tTrain-rmse:0.879082\tVal-rmse:0.880944\n",
      "[85]\tTrain-rmse:0.878199\tVal-rmse:0.88018\n",
      "[86]\tTrain-rmse:0.878043\tVal-rmse:0.88007\n",
      "[87]\tTrain-rmse:0.877867\tVal-rmse:0.879926\n",
      "[88]\tTrain-rmse:0.877696\tVal-rmse:0.879803\n",
      "[89]\tTrain-rmse:0.877276\tVal-rmse:0.879437\n",
      "[90]\tTrain-rmse:0.87703\tVal-rmse:0.879199\n",
      "[91]\tTrain-rmse:0.876862\tVal-rmse:0.879059\n",
      "[92]\tTrain-rmse:0.876723\tVal-rmse:0.878954\n",
      "[93]\tTrain-rmse:0.876407\tVal-rmse:0.878691\n",
      "[94]\tTrain-rmse:0.876224\tVal-rmse:0.878538\n",
      "[95]\tTrain-rmse:0.875864\tVal-rmse:0.878227\n",
      "[96]\tTrain-rmse:0.875546\tVal-rmse:0.877945\n",
      "[97]\tTrain-rmse:0.875395\tVal-rmse:0.87783\n",
      "[98]\tTrain-rmse:0.875288\tVal-rmse:0.877737\n",
      "[99]\tTrain-rmse:0.875178\tVal-rmse:0.877648\n",
      "[100]\tTrain-rmse:0.875061\tVal-rmse:0.877554\n",
      "[101]\tTrain-rmse:0.87479\tVal-rmse:0.877342\n",
      "[102]\tTrain-rmse:0.874625\tVal-rmse:0.877217\n",
      "[103]\tTrain-rmse:0.874452\tVal-rmse:0.877063\n",
      "[104]\tTrain-rmse:0.87412\tVal-rmse:0.876762\n",
      "[105]\tTrain-rmse:0.874014\tVal-rmse:0.876665\n",
      "[106]\tTrain-rmse:0.873607\tVal-rmse:0.876318\n",
      "[107]\tTrain-rmse:0.873438\tVal-rmse:0.87618\n",
      "[108]\tTrain-rmse:0.873181\tVal-rmse:0.875976\n",
      "[109]\tTrain-rmse:0.87284\tVal-rmse:0.875661\n",
      "[110]\tTrain-rmse:0.872196\tVal-rmse:0.875067\n",
      "[111]\tTrain-rmse:0.872117\tVal-rmse:0.874996\n",
      "[112]\tTrain-rmse:0.872044\tVal-rmse:0.874944\n",
      "[113]\tTrain-rmse:0.871701\tVal-rmse:0.874659\n",
      "[114]\tTrain-rmse:0.871574\tVal-rmse:0.874568\n",
      "[115]\tTrain-rmse:0.871429\tVal-rmse:0.874436\n",
      "[116]\tTrain-rmse:0.870964\tVal-rmse:0.874017\n",
      "[117]\tTrain-rmse:0.870651\tVal-rmse:0.87374\n",
      "[118]\tTrain-rmse:0.870523\tVal-rmse:0.873647\n",
      "[119]\tTrain-rmse:0.870405\tVal-rmse:0.873559\n",
      "[120]\tTrain-rmse:0.869718\tVal-rmse:0.872932\n",
      "[121]\tTrain-rmse:0.869425\tVal-rmse:0.872635\n",
      "[122]\tTrain-rmse:0.869213\tVal-rmse:0.872445\n",
      "[123]\tTrain-rmse:0.868931\tVal-rmse:0.87217\n",
      "[124]\tTrain-rmse:0.868734\tVal-rmse:0.872006\n",
      "[125]\tTrain-rmse:0.868615\tVal-rmse:0.871891\n",
      "[126]\tTrain-rmse:0.867694\tVal-rmse:0.87101\n",
      "[127]\tTrain-rmse:0.867566\tVal-rmse:0.870907\n",
      "[128]\tTrain-rmse:0.867399\tVal-rmse:0.87076\n",
      "[129]\tTrain-rmse:0.867216\tVal-rmse:0.870619\n",
      "[130]\tTrain-rmse:0.86666\tVal-rmse:0.8702\n",
      "[131]\tTrain-rmse:0.8664\tVal-rmse:0.869976\n",
      "[132]\tTrain-rmse:0.866324\tVal-rmse:0.869931\n",
      "[133]\tTrain-rmse:0.866191\tVal-rmse:0.869844\n",
      "[134]\tTrain-rmse:0.865826\tVal-rmse:0.869504\n",
      "[135]\tTrain-rmse:0.865702\tVal-rmse:0.869426\n",
      "[136]\tTrain-rmse:0.865629\tVal-rmse:0.869396\n",
      "[137]\tTrain-rmse:0.865473\tVal-rmse:0.869258\n",
      "[138]\tTrain-rmse:0.865066\tVal-rmse:0.868895\n",
      "[139]\tTrain-rmse:0.864977\tVal-rmse:0.868832\n",
      "[140]\tTrain-rmse:0.864822\tVal-rmse:0.868698\n",
      "[141]\tTrain-rmse:0.864621\tVal-rmse:0.868545\n",
      "[142]\tTrain-rmse:0.864537\tVal-rmse:0.868482\n",
      "[143]\tTrain-rmse:0.863989\tVal-rmse:0.868004\n",
      "[144]\tTrain-rmse:0.863874\tVal-rmse:0.86791\n",
      "[145]\tTrain-rmse:0.863483\tVal-rmse:0.867554\n",
      "[146]\tTrain-rmse:0.863302\tVal-rmse:0.867392\n",
      "[147]\tTrain-rmse:0.863152\tVal-rmse:0.867273\n",
      "[148]\tTrain-rmse:0.86307\tVal-rmse:0.867214\n",
      "[149]\tTrain-rmse:0.862987\tVal-rmse:0.867168\n",
      "[150]\tTrain-rmse:0.862839\tVal-rmse:0.867022\n",
      "[151]\tTrain-rmse:0.862749\tVal-rmse:0.866957\n",
      "[152]\tTrain-rmse:0.862586\tVal-rmse:0.866802\n",
      "[153]\tTrain-rmse:0.862447\tVal-rmse:0.866707\n",
      "[154]\tTrain-rmse:0.862332\tVal-rmse:0.866606\n",
      "[155]\tTrain-rmse:0.861915\tVal-rmse:0.866245\n",
      "[156]\tTrain-rmse:0.861792\tVal-rmse:0.866184\n",
      "[157]\tTrain-rmse:0.861722\tVal-rmse:0.866145\n",
      "[158]\tTrain-rmse:0.861593\tVal-rmse:0.86605\n",
      "[159]\tTrain-rmse:0.861408\tVal-rmse:0.865891\n",
      "[160]\tTrain-rmse:0.861325\tVal-rmse:0.865822\n",
      "[161]\tTrain-rmse:0.861066\tVal-rmse:0.865625\n",
      "[162]\tTrain-rmse:0.860866\tVal-rmse:0.865431\n",
      "[163]\tTrain-rmse:0.86077\tVal-rmse:0.865349\n",
      "[164]\tTrain-rmse:0.860696\tVal-rmse:0.865298\n",
      "[165]\tTrain-rmse:0.860539\tVal-rmse:0.865188\n",
      "[166]\tTrain-rmse:0.860332\tVal-rmse:0.864994\n",
      "[167]\tTrain-rmse:0.860041\tVal-rmse:0.864755\n",
      "[168]\tTrain-rmse:0.859392\tVal-rmse:0.864121\n",
      "[169]\tTrain-rmse:0.859214\tVal-rmse:0.863996\n",
      "[170]\tTrain-rmse:0.859152\tVal-rmse:0.863958\n",
      "[171]\tTrain-rmse:0.858923\tVal-rmse:0.863741\n",
      "[172]\tTrain-rmse:0.858836\tVal-rmse:0.863675\n",
      "[173]\tTrain-rmse:0.858731\tVal-rmse:0.863609\n",
      "[174]\tTrain-rmse:0.858556\tVal-rmse:0.863458\n",
      "[175]\tTrain-rmse:0.858404\tVal-rmse:0.863359\n",
      "[176]\tTrain-rmse:0.858325\tVal-rmse:0.863308\n",
      "[177]\tTrain-rmse:0.858176\tVal-rmse:0.863163\n",
      "[178]\tTrain-rmse:0.858042\tVal-rmse:0.863076\n",
      "[179]\tTrain-rmse:0.857952\tVal-rmse:0.863003\n",
      "[180]\tTrain-rmse:0.857773\tVal-rmse:0.862864\n",
      "[181]\tTrain-rmse:0.857572\tVal-rmse:0.862679\n",
      "[182]\tTrain-rmse:0.857448\tVal-rmse:0.862566\n",
      "[183]\tTrain-rmse:0.857234\tVal-rmse:0.862364\n"
     ]
    },
    {
     "name": "stdout",
     "output_type": "stream",
     "text": [
      "[184]\tTrain-rmse:0.857118\tVal-rmse:0.86227\n",
      "[185]\tTrain-rmse:0.857064\tVal-rmse:0.862229\n",
      "[186]\tTrain-rmse:0.856717\tVal-rmse:0.8619\n",
      "[187]\tTrain-rmse:0.856593\tVal-rmse:0.861805\n",
      "[188]\tTrain-rmse:0.856444\tVal-rmse:0.861675\n",
      "[189]\tTrain-rmse:0.856356\tVal-rmse:0.861615\n",
      "[190]\tTrain-rmse:0.856206\tVal-rmse:0.861458\n",
      "[191]\tTrain-rmse:0.856061\tVal-rmse:0.861359\n",
      "[192]\tTrain-rmse:0.85599\tVal-rmse:0.861292\n",
      "[193]\tTrain-rmse:0.855931\tVal-rmse:0.861243\n",
      "[194]\tTrain-rmse:0.855878\tVal-rmse:0.861205\n",
      "[195]\tTrain-rmse:0.855321\tVal-rmse:0.860714\n",
      "[196]\tTrain-rmse:0.855181\tVal-rmse:0.860592\n",
      "[197]\tTrain-rmse:0.855072\tVal-rmse:0.860504\n",
      "[198]\tTrain-rmse:0.854946\tVal-rmse:0.860403\n",
      "[199]\tTrain-rmse:0.854849\tVal-rmse:0.860325\n",
      "[200]\tTrain-rmse:0.854607\tVal-rmse:0.860112\n",
      "[201]\tTrain-rmse:0.854476\tVal-rmse:0.860044\n",
      "[202]\tTrain-rmse:0.854391\tVal-rmse:0.859963\n",
      "[203]\tTrain-rmse:0.854264\tVal-rmse:0.859851\n",
      "[204]\tTrain-rmse:0.854129\tVal-rmse:0.85975\n",
      "[205]\tTrain-rmse:0.853779\tVal-rmse:0.859419\n",
      "[206]\tTrain-rmse:0.853709\tVal-rmse:0.859373\n",
      "[207]\tTrain-rmse:0.853654\tVal-rmse:0.859338\n",
      "[208]\tTrain-rmse:0.853577\tVal-rmse:0.859268\n",
      "[209]\tTrain-rmse:0.85346\tVal-rmse:0.859165\n",
      "[210]\tTrain-rmse:0.853302\tVal-rmse:0.85902\n",
      "[211]\tTrain-rmse:0.853221\tVal-rmse:0.858976\n",
      "[212]\tTrain-rmse:0.853029\tVal-rmse:0.858812\n",
      "[213]\tTrain-rmse:0.852746\tVal-rmse:0.858565\n",
      "[214]\tTrain-rmse:0.852496\tVal-rmse:0.85835\n",
      "[215]\tTrain-rmse:0.852415\tVal-rmse:0.85828\n",
      "[216]\tTrain-rmse:0.852323\tVal-rmse:0.858213\n",
      "[217]\tTrain-rmse:0.85225\tVal-rmse:0.858172\n",
      "[218]\tTrain-rmse:0.852121\tVal-rmse:0.858042\n",
      "[219]\tTrain-rmse:0.852004\tVal-rmse:0.857945\n",
      "[220]\tTrain-rmse:0.851863\tVal-rmse:0.857828\n",
      "[221]\tTrain-rmse:0.851646\tVal-rmse:0.857646\n",
      "[222]\tTrain-rmse:0.851595\tVal-rmse:0.857619\n",
      "[223]\tTrain-rmse:0.851423\tVal-rmse:0.857487\n",
      "[224]\tTrain-rmse:0.851327\tVal-rmse:0.857434\n",
      "[225]\tTrain-rmse:0.851244\tVal-rmse:0.857388\n",
      "[226]\tTrain-rmse:0.851188\tVal-rmse:0.857365\n",
      "[227]\tTrain-rmse:0.851083\tVal-rmse:0.857273\n",
      "[228]\tTrain-rmse:0.850981\tVal-rmse:0.857194\n",
      "[229]\tTrain-rmse:0.850745\tVal-rmse:0.857017\n",
      "[230]\tTrain-rmse:0.850672\tVal-rmse:0.856973\n",
      "[231]\tTrain-rmse:0.850616\tVal-rmse:0.856932\n",
      "[232]\tTrain-rmse:0.850508\tVal-rmse:0.856851\n",
      "[233]\tTrain-rmse:0.850405\tVal-rmse:0.856771\n",
      "[234]\tTrain-rmse:0.850337\tVal-rmse:0.856726\n",
      "[235]\tTrain-rmse:0.85029\tVal-rmse:0.856685\n",
      "[236]\tTrain-rmse:0.850239\tVal-rmse:0.856666\n",
      "[237]\tTrain-rmse:0.850145\tVal-rmse:0.856612\n",
      "[238]\tTrain-rmse:0.849685\tVal-rmse:0.856221\n",
      "[239]\tTrain-rmse:0.849544\tVal-rmse:0.856114\n",
      "[240]\tTrain-rmse:0.84945\tVal-rmse:0.856046\n",
      "[241]\tTrain-rmse:0.849398\tVal-rmse:0.856031\n",
      "[242]\tTrain-rmse:0.84922\tVal-rmse:0.855881\n",
      "[243]\tTrain-rmse:0.849118\tVal-rmse:0.855814\n",
      "[244]\tTrain-rmse:0.849033\tVal-rmse:0.85575\n",
      "[245]\tTrain-rmse:0.84898\tVal-rmse:0.85573\n",
      "[246]\tTrain-rmse:0.848885\tVal-rmse:0.855637\n",
      "[247]\tTrain-rmse:0.848736\tVal-rmse:0.855555\n",
      "[248]\tTrain-rmse:0.848706\tVal-rmse:0.855544\n",
      "[249]\tTrain-rmse:0.848599\tVal-rmse:0.855462\n",
      "[250]\tTrain-rmse:0.848501\tVal-rmse:0.855401\n",
      "[251]\tTrain-rmse:0.848431\tVal-rmse:0.855361\n",
      "[252]\tTrain-rmse:0.847943\tVal-rmse:0.854936\n",
      "[253]\tTrain-rmse:0.847752\tVal-rmse:0.854759\n",
      "[254]\tTrain-rmse:0.847573\tVal-rmse:0.85463\n",
      "[255]\tTrain-rmse:0.847528\tVal-rmse:0.854615\n",
      "[256]\tTrain-rmse:0.847363\tVal-rmse:0.854479\n",
      "[257]\tTrain-rmse:0.847263\tVal-rmse:0.854402\n",
      "[258]\tTrain-rmse:0.847066\tVal-rmse:0.854216\n",
      "[259]\tTrain-rmse:0.846971\tVal-rmse:0.854119\n",
      "[260]\tTrain-rmse:0.846849\tVal-rmse:0.854019\n",
      "[261]\tTrain-rmse:0.846824\tVal-rmse:0.85401\n",
      "[262]\tTrain-rmse:0.846776\tVal-rmse:0.853987\n",
      "[263]\tTrain-rmse:0.846661\tVal-rmse:0.853907\n",
      "[264]\tTrain-rmse:0.84659\tVal-rmse:0.853868\n",
      "[265]\tTrain-rmse:0.846477\tVal-rmse:0.853775\n",
      "[266]\tTrain-rmse:0.846369\tVal-rmse:0.853711\n",
      "[267]\tTrain-rmse:0.846183\tVal-rmse:0.853558\n",
      "[268]\tTrain-rmse:0.845982\tVal-rmse:0.853372\n",
      "[269]\tTrain-rmse:0.84592\tVal-rmse:0.853337\n",
      "[270]\tTrain-rmse:0.845803\tVal-rmse:0.853262\n",
      "[271]\tTrain-rmse:0.845783\tVal-rmse:0.853251\n",
      "[272]\tTrain-rmse:0.845763\tVal-rmse:0.853251\n",
      "[273]\tTrain-rmse:0.845669\tVal-rmse:0.853189\n",
      "[274]\tTrain-rmse:0.845554\tVal-rmse:0.853083\n",
      "[275]\tTrain-rmse:0.845476\tVal-rmse:0.853055\n",
      "[276]\tTrain-rmse:0.845389\tVal-rmse:0.85298\n",
      "[277]\tTrain-rmse:0.845095\tVal-rmse:0.852722\n",
      "[278]\tTrain-rmse:0.84506\tVal-rmse:0.852701\n",
      "[279]\tTrain-rmse:0.844886\tVal-rmse:0.852566\n",
      "[280]\tTrain-rmse:0.844814\tVal-rmse:0.85251\n",
      "[281]\tTrain-rmse:0.844714\tVal-rmse:0.852425\n",
      "[282]\tTrain-rmse:0.844623\tVal-rmse:0.852359\n",
      "[283]\tTrain-rmse:0.844432\tVal-rmse:0.852186\n",
      "[284]\tTrain-rmse:0.844275\tVal-rmse:0.852049\n",
      "[285]\tTrain-rmse:0.844071\tVal-rmse:0.851891\n",
      "[286]\tTrain-rmse:0.84386\tVal-rmse:0.851673\n",
      "[287]\tTrain-rmse:0.843809\tVal-rmse:0.851639\n",
      "[288]\tTrain-rmse:0.843727\tVal-rmse:0.851577\n",
      "[289]\tTrain-rmse:0.843597\tVal-rmse:0.851475\n",
      "[290]\tTrain-rmse:0.843558\tVal-rmse:0.851452\n",
      "[291]\tTrain-rmse:0.843261\tVal-rmse:0.851173\n",
      "[292]\tTrain-rmse:0.84314\tVal-rmse:0.851047\n",
      "[293]\tTrain-rmse:0.843058\tVal-rmse:0.850982\n",
      "[294]\tTrain-rmse:0.842935\tVal-rmse:0.850873\n",
      "[295]\tTrain-rmse:0.842876\tVal-rmse:0.850827\n",
      "[296]\tTrain-rmse:0.842841\tVal-rmse:0.850804\n",
      "[297]\tTrain-rmse:0.842776\tVal-rmse:0.850767\n",
      "[298]\tTrain-rmse:0.842742\tVal-rmse:0.850746\n",
      "[299]\tTrain-rmse:0.842622\tVal-rmse:0.850654\n",
      "[300]\tTrain-rmse:0.842301\tVal-rmse:0.850374\n",
      "[301]\tTrain-rmse:0.842206\tVal-rmse:0.850335\n",
      "[302]\tTrain-rmse:0.842086\tVal-rmse:0.850251\n",
      "[303]\tTrain-rmse:0.841926\tVal-rmse:0.850118\n",
      "[304]\tTrain-rmse:0.841605\tVal-rmse:0.849817\n",
      "[305]\tTrain-rmse:0.841416\tVal-rmse:0.849629\n",
      "[306]\tTrain-rmse:0.841306\tVal-rmse:0.849516\n",
      "[307]\tTrain-rmse:0.841251\tVal-rmse:0.849502\n",
      "[308]\tTrain-rmse:0.841171\tVal-rmse:0.849429\n",
      "[309]\tTrain-rmse:0.841091\tVal-rmse:0.849391\n",
      "[310]\tTrain-rmse:0.840996\tVal-rmse:0.849295\n",
      "[311]\tTrain-rmse:0.840919\tVal-rmse:0.849257\n",
      "[312]\tTrain-rmse:0.840802\tVal-rmse:0.849168\n",
      "[313]\tTrain-rmse:0.840787\tVal-rmse:0.849166\n",
      "[314]\tTrain-rmse:0.840772\tVal-rmse:0.849159\n",
      "[315]\tTrain-rmse:0.840727\tVal-rmse:0.849122\n",
      "[316]\tTrain-rmse:0.840676\tVal-rmse:0.849093\n",
      "[317]\tTrain-rmse:0.840515\tVal-rmse:0.848959\n",
      "[318]\tTrain-rmse:0.840396\tVal-rmse:0.848869\n",
      "[319]\tTrain-rmse:0.840101\tVal-rmse:0.848593\n",
      "[320]\tTrain-rmse:0.840018\tVal-rmse:0.848523\n",
      "[321]\tTrain-rmse:0.839965\tVal-rmse:0.848498\n",
      "[322]\tTrain-rmse:0.839918\tVal-rmse:0.84847\n",
      "[323]\tTrain-rmse:0.839869\tVal-rmse:0.84845\n",
      "[324]\tTrain-rmse:0.83982\tVal-rmse:0.848422\n",
      "[325]\tTrain-rmse:0.839768\tVal-rmse:0.848381\n",
      "[326]\tTrain-rmse:0.839552\tVal-rmse:0.848196\n",
      "[327]\tTrain-rmse:0.839469\tVal-rmse:0.84814\n",
      "[328]\tTrain-rmse:0.839327\tVal-rmse:0.84804\n",
      "[329]\tTrain-rmse:0.839286\tVal-rmse:0.848036\n",
      "[330]\tTrain-rmse:0.839252\tVal-rmse:0.848022\n",
      "[331]\tTrain-rmse:0.839197\tVal-rmse:0.847988\n",
      "[332]\tTrain-rmse:0.838964\tVal-rmse:0.847765\n",
      "[333]\tTrain-rmse:0.838683\tVal-rmse:0.847551\n",
      "[334]\tTrain-rmse:0.838637\tVal-rmse:0.847559\n",
      "[335]\tTrain-rmse:0.838552\tVal-rmse:0.847488\n",
      "[336]\tTrain-rmse:0.838452\tVal-rmse:0.847403\n",
      "[337]\tTrain-rmse:0.838351\tVal-rmse:0.847304\n",
      "[338]\tTrain-rmse:0.838221\tVal-rmse:0.847206\n",
      "[339]\tTrain-rmse:0.83813\tVal-rmse:0.847132\n",
      "[340]\tTrain-rmse:0.838013\tVal-rmse:0.847026\n",
      "[341]\tTrain-rmse:0.837939\tVal-rmse:0.846961\n",
      "[342]\tTrain-rmse:0.837912\tVal-rmse:0.84695\n",
      "[343]\tTrain-rmse:0.837878\tVal-rmse:0.846931\n",
      "[344]\tTrain-rmse:0.83777\tVal-rmse:0.846829\n",
      "[345]\tTrain-rmse:0.837722\tVal-rmse:0.84681\n",
      "[346]\tTrain-rmse:0.837644\tVal-rmse:0.846736\n",
      "[347]\tTrain-rmse:0.83757\tVal-rmse:0.846698\n",
      "[348]\tTrain-rmse:0.837513\tVal-rmse:0.846652\n",
      "[349]\tTrain-rmse:0.837503\tVal-rmse:0.846649\n",
      "[350]\tTrain-rmse:0.837453\tVal-rmse:0.846635\n",
      "[351]\tTrain-rmse:0.837382\tVal-rmse:0.846595\n",
      "[352]\tTrain-rmse:0.837239\tVal-rmse:0.846483\n",
      "[353]\tTrain-rmse:0.837088\tVal-rmse:0.846361\n",
      "[354]\tTrain-rmse:0.836859\tVal-rmse:0.846176\n",
      "[355]\tTrain-rmse:0.836807\tVal-rmse:0.846136\n",
      "[356]\tTrain-rmse:0.836763\tVal-rmse:0.846124\n",
      "[357]\tTrain-rmse:0.836698\tVal-rmse:0.846089\n",
      "[358]\tTrain-rmse:0.836546\tVal-rmse:0.845936\n",
      "[359]\tTrain-rmse:0.836514\tVal-rmse:0.845934\n",
      "[360]\tTrain-rmse:0.836455\tVal-rmse:0.845902\n",
      "[361]\tTrain-rmse:0.836414\tVal-rmse:0.845868\n",
      "[362]\tTrain-rmse:0.836309\tVal-rmse:0.84579\n",
      "[363]\tTrain-rmse:0.836204\tVal-rmse:0.845685\n",
      "[364]\tTrain-rmse:0.836081\tVal-rmse:0.845576\n",
      "[365]\tTrain-rmse:0.83603\tVal-rmse:0.845554\n",
      "[366]\tTrain-rmse:0.835998\tVal-rmse:0.845542\n",
      "[367]\tTrain-rmse:0.835735\tVal-rmse:0.845295\n",
      "[368]\tTrain-rmse:0.835704\tVal-rmse:0.845291\n",
      "[369]\tTrain-rmse:0.835674\tVal-rmse:0.845274\n",
      "[370]\tTrain-rmse:0.835642\tVal-rmse:0.845265\n",
      "[371]\tTrain-rmse:0.835558\tVal-rmse:0.8452\n"
     ]
    },
    {
     "name": "stdout",
     "output_type": "stream",
     "text": [
      "[372]\tTrain-rmse:0.835508\tVal-rmse:0.845181\n",
      "[373]\tTrain-rmse:0.835444\tVal-rmse:0.845146\n",
      "[374]\tTrain-rmse:0.835293\tVal-rmse:0.845027\n",
      "[375]\tTrain-rmse:0.835203\tVal-rmse:0.844939\n",
      "[376]\tTrain-rmse:0.835083\tVal-rmse:0.844871\n",
      "[377]\tTrain-rmse:0.834997\tVal-rmse:0.844812\n",
      "[378]\tTrain-rmse:0.834877\tVal-rmse:0.844716\n",
      "[379]\tTrain-rmse:0.834838\tVal-rmse:0.844694\n",
      "[380]\tTrain-rmse:0.834807\tVal-rmse:0.844679\n",
      "[381]\tTrain-rmse:0.834701\tVal-rmse:0.844577\n",
      "[382]\tTrain-rmse:0.834656\tVal-rmse:0.844549\n",
      "[383]\tTrain-rmse:0.834608\tVal-rmse:0.84453\n",
      "[384]\tTrain-rmse:0.834553\tVal-rmse:0.844487\n",
      "[385]\tTrain-rmse:0.834408\tVal-rmse:0.844369\n",
      "[386]\tTrain-rmse:0.834345\tVal-rmse:0.844315\n",
      "[387]\tTrain-rmse:0.834287\tVal-rmse:0.844269\n",
      "[388]\tTrain-rmse:0.834167\tVal-rmse:0.84418\n",
      "[389]\tTrain-rmse:0.834106\tVal-rmse:0.844146\n",
      "[390]\tTrain-rmse:0.833982\tVal-rmse:0.844071\n",
      "[391]\tTrain-rmse:0.833933\tVal-rmse:0.844045\n",
      "[392]\tTrain-rmse:0.83387\tVal-rmse:0.844024\n",
      "[393]\tTrain-rmse:0.833819\tVal-rmse:0.843992\n",
      "[394]\tTrain-rmse:0.833758\tVal-rmse:0.843952\n",
      "[395]\tTrain-rmse:0.833688\tVal-rmse:0.843899\n",
      "[396]\tTrain-rmse:0.833642\tVal-rmse:0.843882\n",
      "[397]\tTrain-rmse:0.833627\tVal-rmse:0.84387\n",
      "[398]\tTrain-rmse:0.8336\tVal-rmse:0.843862\n",
      "[399]\tTrain-rmse:0.833507\tVal-rmse:0.843779\n",
      "[400]\tTrain-rmse:0.833453\tVal-rmse:0.843742\n",
      "[401]\tTrain-rmse:0.833076\tVal-rmse:0.843396\n",
      "[402]\tTrain-rmse:0.832909\tVal-rmse:0.843278\n",
      "[403]\tTrain-rmse:0.83261\tVal-rmse:0.842991\n",
      "[404]\tTrain-rmse:0.832138\tVal-rmse:0.842572\n",
      "[405]\tTrain-rmse:0.832063\tVal-rmse:0.842503\n",
      "[406]\tTrain-rmse:0.831997\tVal-rmse:0.842461\n",
      "[407]\tTrain-rmse:0.831928\tVal-rmse:0.842398\n",
      "[408]\tTrain-rmse:0.8319\tVal-rmse:0.842401\n",
      "[409]\tTrain-rmse:0.831855\tVal-rmse:0.842369\n",
      "[410]\tTrain-rmse:0.831809\tVal-rmse:0.842348\n",
      "[411]\tTrain-rmse:0.831722\tVal-rmse:0.842269\n",
      "[412]\tTrain-rmse:0.831569\tVal-rmse:0.842151\n",
      "[413]\tTrain-rmse:0.831513\tVal-rmse:0.842135\n",
      "[414]\tTrain-rmse:0.831478\tVal-rmse:0.842131\n",
      "[415]\tTrain-rmse:0.831408\tVal-rmse:0.842083\n",
      "[416]\tTrain-rmse:0.831338\tVal-rmse:0.842052\n",
      "[417]\tTrain-rmse:0.831195\tVal-rmse:0.841929\n",
      "[418]\tTrain-rmse:0.831007\tVal-rmse:0.841755\n",
      "[419]\tTrain-rmse:0.830911\tVal-rmse:0.841665\n",
      "[420]\tTrain-rmse:0.830787\tVal-rmse:0.841551\n",
      "[421]\tTrain-rmse:0.830771\tVal-rmse:0.841538\n",
      "[422]\tTrain-rmse:0.830668\tVal-rmse:0.841431\n",
      "[423]\tTrain-rmse:0.830607\tVal-rmse:0.841397\n",
      "[424]\tTrain-rmse:0.830518\tVal-rmse:0.84135\n",
      "[425]\tTrain-rmse:0.83046\tVal-rmse:0.841295\n",
      "[426]\tTrain-rmse:0.830244\tVal-rmse:0.841129\n",
      "[427]\tTrain-rmse:0.830223\tVal-rmse:0.841129\n",
      "[428]\tTrain-rmse:0.830162\tVal-rmse:0.8411\n",
      "[429]\tTrain-rmse:0.830094\tVal-rmse:0.841035\n",
      "[430]\tTrain-rmse:0.830033\tVal-rmse:0.840992\n",
      "[431]\tTrain-rmse:0.829944\tVal-rmse:0.840918\n",
      "[432]\tTrain-rmse:0.82982\tVal-rmse:0.840802\n",
      "[433]\tTrain-rmse:0.829713\tVal-rmse:0.840716\n",
      "[434]\tTrain-rmse:0.829693\tVal-rmse:0.84071\n",
      "[435]\tTrain-rmse:0.829561\tVal-rmse:0.840611\n",
      "[436]\tTrain-rmse:0.829538\tVal-rmse:0.8406\n",
      "[437]\tTrain-rmse:0.829472\tVal-rmse:0.840563\n",
      "[438]\tTrain-rmse:0.829418\tVal-rmse:0.840537\n",
      "[439]\tTrain-rmse:0.829299\tVal-rmse:0.840443\n",
      "[440]\tTrain-rmse:0.829258\tVal-rmse:0.84043\n",
      "[441]\tTrain-rmse:0.829228\tVal-rmse:0.840416\n",
      "[442]\tTrain-rmse:0.829012\tVal-rmse:0.840209\n",
      "[443]\tTrain-rmse:0.828971\tVal-rmse:0.840182\n",
      "[444]\tTrain-rmse:0.828892\tVal-rmse:0.840115\n",
      "[445]\tTrain-rmse:0.828771\tVal-rmse:0.840016\n",
      "[446]\tTrain-rmse:0.828703\tVal-rmse:0.839962\n",
      "[447]\tTrain-rmse:0.828644\tVal-rmse:0.839909\n",
      "[448]\tTrain-rmse:0.828617\tVal-rmse:0.839902\n",
      "[449]\tTrain-rmse:0.828586\tVal-rmse:0.839891\n",
      "[450]\tTrain-rmse:0.828486\tVal-rmse:0.839801\n",
      "[451]\tTrain-rmse:0.828416\tVal-rmse:0.839736\n",
      "[452]\tTrain-rmse:0.828377\tVal-rmse:0.839711\n",
      "[453]\tTrain-rmse:0.82825\tVal-rmse:0.839619\n",
      "[454]\tTrain-rmse:0.828158\tVal-rmse:0.839524\n",
      "[455]\tTrain-rmse:0.828072\tVal-rmse:0.839444\n",
      "[456]\tTrain-rmse:0.828043\tVal-rmse:0.839433\n",
      "[457]\tTrain-rmse:0.827686\tVal-rmse:0.839077\n",
      "[458]\tTrain-rmse:0.82761\tVal-rmse:0.839018\n",
      "[459]\tTrain-rmse:0.827547\tVal-rmse:0.838979\n",
      "[460]\tTrain-rmse:0.827486\tVal-rmse:0.838934\n",
      "[461]\tTrain-rmse:0.827446\tVal-rmse:0.838914\n",
      "[462]\tTrain-rmse:0.827426\tVal-rmse:0.838905\n",
      "[463]\tTrain-rmse:0.827379\tVal-rmse:0.838876\n",
      "[464]\tTrain-rmse:0.827308\tVal-rmse:0.838816\n",
      "[465]\tTrain-rmse:0.827285\tVal-rmse:0.838817\n",
      "[466]\tTrain-rmse:0.827178\tVal-rmse:0.838724\n",
      "[467]\tTrain-rmse:0.827125\tVal-rmse:0.838686\n",
      "[468]\tTrain-rmse:0.827039\tVal-rmse:0.838606\n",
      "[469]\tTrain-rmse:0.82698\tVal-rmse:0.83856\n",
      "[470]\tTrain-rmse:0.82691\tVal-rmse:0.838511\n",
      "[471]\tTrain-rmse:0.826858\tVal-rmse:0.83848\n",
      "[472]\tTrain-rmse:0.826756\tVal-rmse:0.838405\n",
      "[473]\tTrain-rmse:0.826713\tVal-rmse:0.838384\n",
      "[474]\tTrain-rmse:0.826538\tVal-rmse:0.838244\n",
      "[475]\tTrain-rmse:0.826506\tVal-rmse:0.838231\n",
      "[476]\tTrain-rmse:0.826453\tVal-rmse:0.838198\n",
      "[477]\tTrain-rmse:0.826284\tVal-rmse:0.838051\n",
      "[478]\tTrain-rmse:0.826236\tVal-rmse:0.838022\n",
      "[479]\tTrain-rmse:0.826223\tVal-rmse:0.838016\n",
      "[480]\tTrain-rmse:0.826073\tVal-rmse:0.837888\n",
      "[481]\tTrain-rmse:0.826034\tVal-rmse:0.837862\n",
      "[482]\tTrain-rmse:0.825994\tVal-rmse:0.837842\n",
      "[483]\tTrain-rmse:0.825927\tVal-rmse:0.837781\n",
      "[484]\tTrain-rmse:0.825842\tVal-rmse:0.837711\n",
      "[485]\tTrain-rmse:0.825767\tVal-rmse:0.837662\n",
      "[486]\tTrain-rmse:0.825703\tVal-rmse:0.837623\n",
      "[487]\tTrain-rmse:0.825624\tVal-rmse:0.837581\n",
      "[488]\tTrain-rmse:0.825589\tVal-rmse:0.837576\n",
      "[489]\tTrain-rmse:0.825538\tVal-rmse:0.837553\n",
      "[490]\tTrain-rmse:0.825449\tVal-rmse:0.837464\n",
      "[491]\tTrain-rmse:0.825407\tVal-rmse:0.837456\n",
      "[492]\tTrain-rmse:0.825372\tVal-rmse:0.837429\n",
      "[493]\tTrain-rmse:0.825359\tVal-rmse:0.837421\n",
      "[494]\tTrain-rmse:0.825333\tVal-rmse:0.83741\n",
      "[495]\tTrain-rmse:0.825225\tVal-rmse:0.837328\n",
      "[496]\tTrain-rmse:0.825154\tVal-rmse:0.837268\n",
      "[497]\tTrain-rmse:0.825075\tVal-rmse:0.83722\n",
      "[498]\tTrain-rmse:0.825045\tVal-rmse:0.837211\n",
      "[499]\tTrain-rmse:0.824974\tVal-rmse:0.837148\n",
      "[500]\tTrain-rmse:0.824903\tVal-rmse:0.837092\n",
      "[501]\tTrain-rmse:0.824798\tVal-rmse:0.837017\n",
      "[502]\tTrain-rmse:0.824666\tVal-rmse:0.83691\n",
      "[503]\tTrain-rmse:0.824591\tVal-rmse:0.83684\n",
      "[504]\tTrain-rmse:0.824354\tVal-rmse:0.83663\n",
      "[505]\tTrain-rmse:0.824237\tVal-rmse:0.836536\n",
      "[506]\tTrain-rmse:0.824198\tVal-rmse:0.836509\n",
      "[507]\tTrain-rmse:0.824144\tVal-rmse:0.836474\n",
      "[508]\tTrain-rmse:0.824031\tVal-rmse:0.836372\n",
      "[509]\tTrain-rmse:0.82399\tVal-rmse:0.836351\n",
      "[510]\tTrain-rmse:0.823962\tVal-rmse:0.836334\n",
      "[511]\tTrain-rmse:0.823927\tVal-rmse:0.836327\n",
      "[512]\tTrain-rmse:0.823779\tVal-rmse:0.836205\n",
      "[513]\tTrain-rmse:0.823707\tVal-rmse:0.836164\n",
      "[514]\tTrain-rmse:0.823456\tVal-rmse:0.835945\n",
      "[515]\tTrain-rmse:0.823394\tVal-rmse:0.835912\n",
      "[516]\tTrain-rmse:0.823257\tVal-rmse:0.835811\n",
      "[517]\tTrain-rmse:0.823185\tVal-rmse:0.835757\n",
      "[518]\tTrain-rmse:0.823152\tVal-rmse:0.835745\n",
      "[519]\tTrain-rmse:0.823112\tVal-rmse:0.835726\n",
      "[520]\tTrain-rmse:0.822908\tVal-rmse:0.835556\n",
      "[521]\tTrain-rmse:0.82286\tVal-rmse:0.835526\n",
      "[522]\tTrain-rmse:0.822782\tVal-rmse:0.835468\n",
      "[523]\tTrain-rmse:0.822713\tVal-rmse:0.835402\n",
      "[524]\tTrain-rmse:0.822647\tVal-rmse:0.835363\n",
      "[525]\tTrain-rmse:0.822624\tVal-rmse:0.835355\n",
      "[526]\tTrain-rmse:0.822582\tVal-rmse:0.835339\n",
      "[527]\tTrain-rmse:0.822305\tVal-rmse:0.835062\n",
      "[528]\tTrain-rmse:0.822272\tVal-rmse:0.83506\n",
      "[529]\tTrain-rmse:0.822256\tVal-rmse:0.835048\n",
      "[530]\tTrain-rmse:0.822184\tVal-rmse:0.835007\n",
      "[531]\tTrain-rmse:0.822134\tVal-rmse:0.834981\n",
      "[532]\tTrain-rmse:0.822082\tVal-rmse:0.834961\n",
      "[533]\tTrain-rmse:0.822022\tVal-rmse:0.834919\n",
      "[534]\tTrain-rmse:0.821985\tVal-rmse:0.834896\n",
      "[535]\tTrain-rmse:0.821924\tVal-rmse:0.834862\n",
      "[536]\tTrain-rmse:0.821867\tVal-rmse:0.834841\n",
      "[537]\tTrain-rmse:0.821849\tVal-rmse:0.834841\n",
      "[538]\tTrain-rmse:0.821741\tVal-rmse:0.834744\n",
      "[539]\tTrain-rmse:0.821677\tVal-rmse:0.834711\n",
      "[540]\tTrain-rmse:0.821659\tVal-rmse:0.834707\n",
      "[541]\tTrain-rmse:0.821584\tVal-rmse:0.834657\n",
      "[542]\tTrain-rmse:0.821519\tVal-rmse:0.834605\n",
      "[543]\tTrain-rmse:0.821498\tVal-rmse:0.834596\n",
      "[544]\tTrain-rmse:0.821434\tVal-rmse:0.834556\n",
      "[545]\tTrain-rmse:0.821391\tVal-rmse:0.834527\n",
      "[546]\tTrain-rmse:0.821325\tVal-rmse:0.8345\n",
      "[547]\tTrain-rmse:0.821026\tVal-rmse:0.834215\n",
      "[548]\tTrain-rmse:0.820988\tVal-rmse:0.834193\n",
      "[549]\tTrain-rmse:0.820919\tVal-rmse:0.834128\n",
      "[550]\tTrain-rmse:0.820855\tVal-rmse:0.834083\n",
      "[551]\tTrain-rmse:0.820805\tVal-rmse:0.834064\n",
      "[552]\tTrain-rmse:0.820761\tVal-rmse:0.834037\n",
      "[553]\tTrain-rmse:0.82055\tVal-rmse:0.833841\n",
      "[554]\tTrain-rmse:0.82046\tVal-rmse:0.83377\n",
      "[555]\tTrain-rmse:0.820259\tVal-rmse:0.833576\n",
      "[556]\tTrain-rmse:0.820158\tVal-rmse:0.833519\n",
      "[557]\tTrain-rmse:0.820008\tVal-rmse:0.83339\n",
      "[558]\tTrain-rmse:0.819952\tVal-rmse:0.83336\n",
      "[559]\tTrain-rmse:0.819912\tVal-rmse:0.833336\n"
     ]
    },
    {
     "name": "stdout",
     "output_type": "stream",
     "text": [
      "[560]\tTrain-rmse:0.819859\tVal-rmse:0.833312\n",
      "[561]\tTrain-rmse:0.819678\tVal-rmse:0.833165\n",
      "[562]\tTrain-rmse:0.819598\tVal-rmse:0.833076\n",
      "[563]\tTrain-rmse:0.819551\tVal-rmse:0.833049\n",
      "[564]\tTrain-rmse:0.819493\tVal-rmse:0.833016\n",
      "[565]\tTrain-rmse:0.819448\tVal-rmse:0.832995\n",
      "[566]\tTrain-rmse:0.819379\tVal-rmse:0.832971\n",
      "[567]\tTrain-rmse:0.819309\tVal-rmse:0.832905\n",
      "[568]\tTrain-rmse:0.819277\tVal-rmse:0.832903\n",
      "[569]\tTrain-rmse:0.819223\tVal-rmse:0.832874\n",
      "[570]\tTrain-rmse:0.81919\tVal-rmse:0.832864\n",
      "[571]\tTrain-rmse:0.819152\tVal-rmse:0.832862\n",
      "[572]\tTrain-rmse:0.81904\tVal-rmse:0.83278\n",
      "[573]\tTrain-rmse:0.818995\tVal-rmse:0.83274\n",
      "[574]\tTrain-rmse:0.818962\tVal-rmse:0.832727\n",
      "[575]\tTrain-rmse:0.818854\tVal-rmse:0.832627\n",
      "[576]\tTrain-rmse:0.818822\tVal-rmse:0.832629\n",
      "[577]\tTrain-rmse:0.818767\tVal-rmse:0.832592\n",
      "[578]\tTrain-rmse:0.818738\tVal-rmse:0.832577\n",
      "[579]\tTrain-rmse:0.818695\tVal-rmse:0.83255\n",
      "[580]\tTrain-rmse:0.818648\tVal-rmse:0.832535\n",
      "[581]\tTrain-rmse:0.818609\tVal-rmse:0.832511\n",
      "[582]\tTrain-rmse:0.818492\tVal-rmse:0.832425\n",
      "[583]\tTrain-rmse:0.818437\tVal-rmse:0.832404\n",
      "[584]\tTrain-rmse:0.818326\tVal-rmse:0.832314\n",
      "[585]\tTrain-rmse:0.818225\tVal-rmse:0.832245\n",
      "[586]\tTrain-rmse:0.818185\tVal-rmse:0.832213\n",
      "[587]\tTrain-rmse:0.818087\tVal-rmse:0.832125\n",
      "[588]\tTrain-rmse:0.818063\tVal-rmse:0.832118\n",
      "[589]\tTrain-rmse:0.818041\tVal-rmse:0.832104\n",
      "[590]\tTrain-rmse:0.818009\tVal-rmse:0.832098\n",
      "[591]\tTrain-rmse:0.817955\tVal-rmse:0.832073\n",
      "[592]\tTrain-rmse:0.817918\tVal-rmse:0.832047\n",
      "[593]\tTrain-rmse:0.817811\tVal-rmse:0.83197\n",
      "[594]\tTrain-rmse:0.817726\tVal-rmse:0.831908\n",
      "[595]\tTrain-rmse:0.817663\tVal-rmse:0.831876\n",
      "[596]\tTrain-rmse:0.817631\tVal-rmse:0.831857\n",
      "[597]\tTrain-rmse:0.81759\tVal-rmse:0.831827\n",
      "[598]\tTrain-rmse:0.817553\tVal-rmse:0.8318\n",
      "[599]\tTrain-rmse:0.817512\tVal-rmse:0.831775\n",
      "[600]\tTrain-rmse:0.817425\tVal-rmse:0.831707\n",
      "[601]\tTrain-rmse:0.817398\tVal-rmse:0.831699\n",
      "[602]\tTrain-rmse:0.817378\tVal-rmse:0.831687\n",
      "[603]\tTrain-rmse:0.817346\tVal-rmse:0.831662\n",
      "[604]\tTrain-rmse:0.817315\tVal-rmse:0.831642\n",
      "[605]\tTrain-rmse:0.817231\tVal-rmse:0.831577\n",
      "[606]\tTrain-rmse:0.817209\tVal-rmse:0.831574\n",
      "[607]\tTrain-rmse:0.817169\tVal-rmse:0.831553\n",
      "[608]\tTrain-rmse:0.81713\tVal-rmse:0.831537\n",
      "[609]\tTrain-rmse:0.817094\tVal-rmse:0.831502\n",
      "[610]\tTrain-rmse:0.817064\tVal-rmse:0.831478\n",
      "[611]\tTrain-rmse:0.816985\tVal-rmse:0.83143\n",
      "[612]\tTrain-rmse:0.816945\tVal-rmse:0.831423\n",
      "[613]\tTrain-rmse:0.816786\tVal-rmse:0.831319\n",
      "[614]\tTrain-rmse:0.816693\tVal-rmse:0.831253\n",
      "[615]\tTrain-rmse:0.816635\tVal-rmse:0.831215\n",
      "[616]\tTrain-rmse:0.816599\tVal-rmse:0.831191\n",
      "[617]\tTrain-rmse:0.816565\tVal-rmse:0.831174\n",
      "[618]\tTrain-rmse:0.816528\tVal-rmse:0.831161\n",
      "[619]\tTrain-rmse:0.81646\tVal-rmse:0.831109\n",
      "[620]\tTrain-rmse:0.816414\tVal-rmse:0.831075\n",
      "[621]\tTrain-rmse:0.816368\tVal-rmse:0.831048\n",
      "[622]\tTrain-rmse:0.816318\tVal-rmse:0.831006\n",
      "[623]\tTrain-rmse:0.81629\tVal-rmse:0.830991\n",
      "[624]\tTrain-rmse:0.816194\tVal-rmse:0.830911\n",
      "[625]\tTrain-rmse:0.816143\tVal-rmse:0.830881\n",
      "[626]\tTrain-rmse:0.816121\tVal-rmse:0.83088\n",
      "[627]\tTrain-rmse:0.81608\tVal-rmse:0.83086\n",
      "[628]\tTrain-rmse:0.815821\tVal-rmse:0.830618\n",
      "[629]\tTrain-rmse:0.815789\tVal-rmse:0.830607\n",
      "[630]\tTrain-rmse:0.815749\tVal-rmse:0.830592\n",
      "[631]\tTrain-rmse:0.815702\tVal-rmse:0.830569\n",
      "[632]\tTrain-rmse:0.81565\tVal-rmse:0.83053\n",
      "[633]\tTrain-rmse:0.815619\tVal-rmse:0.83051\n",
      "[634]\tTrain-rmse:0.815597\tVal-rmse:0.830501\n",
      "[635]\tTrain-rmse:0.815572\tVal-rmse:0.830492\n",
      "[636]\tTrain-rmse:0.815524\tVal-rmse:0.830473\n",
      "[637]\tTrain-rmse:0.815495\tVal-rmse:0.830456\n",
      "[638]\tTrain-rmse:0.815408\tVal-rmse:0.830386\n",
      "[639]\tTrain-rmse:0.815368\tVal-rmse:0.830367\n",
      "[640]\tTrain-rmse:0.815341\tVal-rmse:0.830351\n",
      "[641]\tTrain-rmse:0.815292\tVal-rmse:0.830324\n",
      "[642]\tTrain-rmse:0.815156\tVal-rmse:0.830203\n",
      "[643]\tTrain-rmse:0.815092\tVal-rmse:0.830168\n",
      "[644]\tTrain-rmse:0.815046\tVal-rmse:0.830145\n",
      "[645]\tTrain-rmse:0.815032\tVal-rmse:0.830143\n",
      "[646]\tTrain-rmse:0.814981\tVal-rmse:0.830117\n",
      "[647]\tTrain-rmse:0.814955\tVal-rmse:0.830108\n",
      "[648]\tTrain-rmse:0.814915\tVal-rmse:0.830085\n",
      "[649]\tTrain-rmse:0.814736\tVal-rmse:0.82993\n",
      "[650]\tTrain-rmse:0.814307\tVal-rmse:0.829583\n",
      "[651]\tTrain-rmse:0.814257\tVal-rmse:0.82955\n",
      "[652]\tTrain-rmse:0.814231\tVal-rmse:0.829528\n",
      "[653]\tTrain-rmse:0.8142\tVal-rmse:0.829507\n",
      "[654]\tTrain-rmse:0.814155\tVal-rmse:0.829481\n",
      "[655]\tTrain-rmse:0.814141\tVal-rmse:0.829471\n",
      "[656]\tTrain-rmse:0.8141\tVal-rmse:0.829455\n",
      "[657]\tTrain-rmse:0.814051\tVal-rmse:0.829432\n",
      "[658]\tTrain-rmse:0.813937\tVal-rmse:0.829342\n",
      "[659]\tTrain-rmse:0.813903\tVal-rmse:0.829317\n",
      "[660]\tTrain-rmse:0.813879\tVal-rmse:0.829304\n",
      "[661]\tTrain-rmse:0.813837\tVal-rmse:0.829286\n",
      "[662]\tTrain-rmse:0.813786\tVal-rmse:0.829254\n",
      "[663]\tTrain-rmse:0.813752\tVal-rmse:0.829237\n",
      "[664]\tTrain-rmse:0.813708\tVal-rmse:0.82923\n",
      "[665]\tTrain-rmse:0.813683\tVal-rmse:0.829223\n",
      "[666]\tTrain-rmse:0.813664\tVal-rmse:0.829206\n",
      "[667]\tTrain-rmse:0.813616\tVal-rmse:0.829202\n",
      "[668]\tTrain-rmse:0.813575\tVal-rmse:0.829183\n",
      "[669]\tTrain-rmse:0.81354\tVal-rmse:0.829181\n",
      "[670]\tTrain-rmse:0.813204\tVal-rmse:0.828891\n",
      "[671]\tTrain-rmse:0.813176\tVal-rmse:0.82888\n",
      "[672]\tTrain-rmse:0.813134\tVal-rmse:0.828863\n",
      "[673]\tTrain-rmse:0.813117\tVal-rmse:0.828864\n",
      "[674]\tTrain-rmse:0.813078\tVal-rmse:0.828842\n",
      "[675]\tTrain-rmse:0.813041\tVal-rmse:0.828825\n",
      "[676]\tTrain-rmse:0.812983\tVal-rmse:0.828773\n",
      "[677]\tTrain-rmse:0.812912\tVal-rmse:0.828718\n",
      "[678]\tTrain-rmse:0.812871\tVal-rmse:0.828694\n",
      "[679]\tTrain-rmse:0.812836\tVal-rmse:0.828675\n",
      "[680]\tTrain-rmse:0.812787\tVal-rmse:0.828639\n",
      "[681]\tTrain-rmse:0.812753\tVal-rmse:0.828636\n",
      "[682]\tTrain-rmse:0.81268\tVal-rmse:0.828586\n",
      "[683]\tTrain-rmse:0.812662\tVal-rmse:0.828581\n",
      "[684]\tTrain-rmse:0.812639\tVal-rmse:0.828571\n",
      "[685]\tTrain-rmse:0.812587\tVal-rmse:0.82854\n",
      "[686]\tTrain-rmse:0.812553\tVal-rmse:0.828525\n",
      "[687]\tTrain-rmse:0.812471\tVal-rmse:0.828457\n",
      "[688]\tTrain-rmse:0.812418\tVal-rmse:0.828419\n",
      "[689]\tTrain-rmse:0.812392\tVal-rmse:0.828412\n",
      "[690]\tTrain-rmse:0.812333\tVal-rmse:0.828385\n",
      "[691]\tTrain-rmse:0.812301\tVal-rmse:0.828369\n",
      "[692]\tTrain-rmse:0.812252\tVal-rmse:0.828336\n",
      "[693]\tTrain-rmse:0.812194\tVal-rmse:0.828284\n",
      "[694]\tTrain-rmse:0.812177\tVal-rmse:0.828283\n",
      "[695]\tTrain-rmse:0.812129\tVal-rmse:0.828255\n",
      "[696]\tTrain-rmse:0.812106\tVal-rmse:0.828244\n",
      "[697]\tTrain-rmse:0.812016\tVal-rmse:0.828185\n",
      "[698]\tTrain-rmse:0.811968\tVal-rmse:0.828147\n",
      "[699]\tTrain-rmse:0.811931\tVal-rmse:0.828113\n",
      "[700]\tTrain-rmse:0.811893\tVal-rmse:0.82809\n",
      "[701]\tTrain-rmse:0.81185\tVal-rmse:0.828065\n",
      "[702]\tTrain-rmse:0.811825\tVal-rmse:0.828054\n",
      "[703]\tTrain-rmse:0.811346\tVal-rmse:0.827623\n",
      "[704]\tTrain-rmse:0.811301\tVal-rmse:0.82762\n",
      "[705]\tTrain-rmse:0.811245\tVal-rmse:0.827589\n",
      "[706]\tTrain-rmse:0.811204\tVal-rmse:0.827576\n",
      "[707]\tTrain-rmse:0.811175\tVal-rmse:0.827558\n",
      "[708]\tTrain-rmse:0.811134\tVal-rmse:0.827528\n",
      "[709]\tTrain-rmse:0.811092\tVal-rmse:0.827508\n",
      "[710]\tTrain-rmse:0.811034\tVal-rmse:0.827493\n",
      "[711]\tTrain-rmse:0.811001\tVal-rmse:0.827483\n",
      "[712]\tTrain-rmse:0.810936\tVal-rmse:0.827441\n",
      "[713]\tTrain-rmse:0.810877\tVal-rmse:0.827415\n",
      "[714]\tTrain-rmse:0.810829\tVal-rmse:0.827386\n",
      "[715]\tTrain-rmse:0.81077\tVal-rmse:0.827363\n",
      "[716]\tTrain-rmse:0.810749\tVal-rmse:0.827355\n",
      "[717]\tTrain-rmse:0.810702\tVal-rmse:0.827321\n",
      "[718]\tTrain-rmse:0.810666\tVal-rmse:0.827302\n",
      "[719]\tTrain-rmse:0.810629\tVal-rmse:0.827304\n",
      "[720]\tTrain-rmse:0.810603\tVal-rmse:0.827297\n",
      "[721]\tTrain-rmse:0.810573\tVal-rmse:0.82728\n",
      "[722]\tTrain-rmse:0.810538\tVal-rmse:0.827258\n",
      "[723]\tTrain-rmse:0.81049\tVal-rmse:0.82723\n",
      "[724]\tTrain-rmse:0.810455\tVal-rmse:0.827211\n",
      "[725]\tTrain-rmse:0.810414\tVal-rmse:0.827182\n",
      "[726]\tTrain-rmse:0.810396\tVal-rmse:0.827182\n",
      "[727]\tTrain-rmse:0.810325\tVal-rmse:0.827128\n",
      "[728]\tTrain-rmse:0.810288\tVal-rmse:0.827099\n",
      "[729]\tTrain-rmse:0.810238\tVal-rmse:0.827063\n",
      "[730]\tTrain-rmse:0.810179\tVal-rmse:0.827026\n",
      "[731]\tTrain-rmse:0.810145\tVal-rmse:0.827016\n",
      "[732]\tTrain-rmse:0.810072\tVal-rmse:0.826935\n",
      "[733]\tTrain-rmse:0.809981\tVal-rmse:0.826856\n",
      "[734]\tTrain-rmse:0.809947\tVal-rmse:0.826839\n",
      "[735]\tTrain-rmse:0.809863\tVal-rmse:0.826785\n",
      "[736]\tTrain-rmse:0.809723\tVal-rmse:0.826665\n",
      "[737]\tTrain-rmse:0.80969\tVal-rmse:0.826656\n",
      "[738]\tTrain-rmse:0.809655\tVal-rmse:0.826635\n",
      "[739]\tTrain-rmse:0.809629\tVal-rmse:0.826617\n",
      "[740]\tTrain-rmse:0.80958\tVal-rmse:0.826568\n",
      "[741]\tTrain-rmse:0.809542\tVal-rmse:0.826543\n",
      "[742]\tTrain-rmse:0.80951\tVal-rmse:0.826536\n",
      "[743]\tTrain-rmse:0.809467\tVal-rmse:0.826497\n",
      "[744]\tTrain-rmse:0.809409\tVal-rmse:0.826445\n",
      "[745]\tTrain-rmse:0.80934\tVal-rmse:0.826385\n",
      "[746]\tTrain-rmse:0.809265\tVal-rmse:0.826303\n",
      "[747]\tTrain-rmse:0.809246\tVal-rmse:0.826297\n"
     ]
    },
    {
     "name": "stdout",
     "output_type": "stream",
     "text": [
      "[748]\tTrain-rmse:0.809195\tVal-rmse:0.826257\n",
      "[749]\tTrain-rmse:0.809134\tVal-rmse:0.826202\n",
      "[750]\tTrain-rmse:0.809129\tVal-rmse:0.826201\n",
      "[751]\tTrain-rmse:0.809057\tVal-rmse:0.826111\n",
      "[752]\tTrain-rmse:0.809038\tVal-rmse:0.826099\n",
      "[753]\tTrain-rmse:0.808989\tVal-rmse:0.826076\n",
      "[754]\tTrain-rmse:0.808962\tVal-rmse:0.82608\n",
      "[755]\tTrain-rmse:0.808914\tVal-rmse:0.826052\n",
      "[756]\tTrain-rmse:0.808874\tVal-rmse:0.826045\n",
      "[757]\tTrain-rmse:0.808841\tVal-rmse:0.826032\n",
      "[758]\tTrain-rmse:0.808825\tVal-rmse:0.826026\n",
      "[759]\tTrain-rmse:0.808746\tVal-rmse:0.825964\n",
      "[760]\tTrain-rmse:0.808613\tVal-rmse:0.825859\n",
      "[761]\tTrain-rmse:0.808576\tVal-rmse:0.825844\n",
      "[762]\tTrain-rmse:0.80838\tVal-rmse:0.825683\n",
      "[763]\tTrain-rmse:0.808365\tVal-rmse:0.825688\n",
      "[764]\tTrain-rmse:0.808229\tVal-rmse:0.825554\n",
      "[765]\tTrain-rmse:0.808194\tVal-rmse:0.825531\n",
      "[766]\tTrain-rmse:0.808183\tVal-rmse:0.82553\n",
      "[767]\tTrain-rmse:0.808126\tVal-rmse:0.825495\n",
      "[768]\tTrain-rmse:0.80807\tVal-rmse:0.825461\n",
      "[769]\tTrain-rmse:0.808042\tVal-rmse:0.825457\n",
      "[770]\tTrain-rmse:0.808004\tVal-rmse:0.825439\n",
      "[771]\tTrain-rmse:0.80798\tVal-rmse:0.825429\n",
      "[772]\tTrain-rmse:0.807927\tVal-rmse:0.825391\n",
      "[773]\tTrain-rmse:0.807904\tVal-rmse:0.825386\n",
      "[774]\tTrain-rmse:0.807879\tVal-rmse:0.825374\n",
      "[775]\tTrain-rmse:0.807831\tVal-rmse:0.825334\n",
      "[776]\tTrain-rmse:0.8078\tVal-rmse:0.825328\n",
      "[777]\tTrain-rmse:0.807765\tVal-rmse:0.8253\n",
      "[778]\tTrain-rmse:0.807738\tVal-rmse:0.825291\n",
      "[779]\tTrain-rmse:0.807724\tVal-rmse:0.825288\n",
      "[780]\tTrain-rmse:0.807685\tVal-rmse:0.825278\n",
      "[781]\tTrain-rmse:0.807663\tVal-rmse:0.825274\n",
      "[782]\tTrain-rmse:0.807608\tVal-rmse:0.82524\n",
      "[783]\tTrain-rmse:0.807541\tVal-rmse:0.825177\n",
      "[784]\tTrain-rmse:0.80747\tVal-rmse:0.825114\n",
      "[785]\tTrain-rmse:0.807456\tVal-rmse:0.825112\n",
      "[786]\tTrain-rmse:0.807398\tVal-rmse:0.825074\n",
      "[787]\tTrain-rmse:0.80733\tVal-rmse:0.825018\n",
      "[788]\tTrain-rmse:0.807296\tVal-rmse:0.824996\n",
      "[789]\tTrain-rmse:0.807207\tVal-rmse:0.824935\n",
      "[790]\tTrain-rmse:0.80717\tVal-rmse:0.824923\n",
      "[791]\tTrain-rmse:0.807124\tVal-rmse:0.824928\n",
      "[792]\tTrain-rmse:0.807092\tVal-rmse:0.824911\n",
      "[793]\tTrain-rmse:0.807061\tVal-rmse:0.824895\n",
      "[794]\tTrain-rmse:0.807037\tVal-rmse:0.824878\n",
      "[795]\tTrain-rmse:0.806998\tVal-rmse:0.82487\n",
      "[796]\tTrain-rmse:0.806972\tVal-rmse:0.824851\n",
      "[797]\tTrain-rmse:0.806955\tVal-rmse:0.824838\n",
      "[798]\tTrain-rmse:0.806931\tVal-rmse:0.824814\n",
      "[799]\tTrain-rmse:0.806902\tVal-rmse:0.8248\n",
      "[800]\tTrain-rmse:0.806884\tVal-rmse:0.824787\n",
      "[801]\tTrain-rmse:0.806824\tVal-rmse:0.824731\n",
      "[802]\tTrain-rmse:0.806793\tVal-rmse:0.824723\n",
      "[803]\tTrain-rmse:0.806627\tVal-rmse:0.824603\n",
      "[804]\tTrain-rmse:0.806575\tVal-rmse:0.824559\n",
      "[805]\tTrain-rmse:0.806524\tVal-rmse:0.824515\n",
      "[806]\tTrain-rmse:0.806454\tVal-rmse:0.824471\n",
      "[807]\tTrain-rmse:0.806425\tVal-rmse:0.824457\n",
      "[808]\tTrain-rmse:0.80636\tVal-rmse:0.824423\n",
      "[809]\tTrain-rmse:0.806311\tVal-rmse:0.824395\n",
      "[810]\tTrain-rmse:0.806293\tVal-rmse:0.824386\n",
      "[811]\tTrain-rmse:0.806265\tVal-rmse:0.82438\n",
      "[812]\tTrain-rmse:0.806234\tVal-rmse:0.824362\n",
      "[813]\tTrain-rmse:0.806169\tVal-rmse:0.824314\n",
      "[814]\tTrain-rmse:0.806084\tVal-rmse:0.824237\n",
      "[815]\tTrain-rmse:0.80604\tVal-rmse:0.824214\n",
      "[816]\tTrain-rmse:0.805914\tVal-rmse:0.824138\n",
      "[817]\tTrain-rmse:0.805709\tVal-rmse:0.824001\n",
      "[818]\tTrain-rmse:0.805685\tVal-rmse:0.82399\n",
      "[819]\tTrain-rmse:0.805653\tVal-rmse:0.823973\n",
      "[820]\tTrain-rmse:0.805572\tVal-rmse:0.823907\n",
      "[821]\tTrain-rmse:0.805532\tVal-rmse:0.823887\n",
      "[822]\tTrain-rmse:0.8055\tVal-rmse:0.823879\n",
      "[823]\tTrain-rmse:0.805463\tVal-rmse:0.82386\n",
      "[824]\tTrain-rmse:0.805435\tVal-rmse:0.823853\n",
      "[825]\tTrain-rmse:0.805374\tVal-rmse:0.823796\n",
      "[826]\tTrain-rmse:0.805331\tVal-rmse:0.823767\n",
      "[827]\tTrain-rmse:0.805267\tVal-rmse:0.82373\n",
      "[828]\tTrain-rmse:0.805264\tVal-rmse:0.823731\n",
      "[829]\tTrain-rmse:0.805196\tVal-rmse:0.823689\n",
      "[830]\tTrain-rmse:0.805173\tVal-rmse:0.823683\n",
      "[831]\tTrain-rmse:0.80516\tVal-rmse:0.823677\n",
      "[832]\tTrain-rmse:0.805032\tVal-rmse:0.823567\n",
      "[833]\tTrain-rmse:0.805009\tVal-rmse:0.823563\n",
      "[834]\tTrain-rmse:0.804965\tVal-rmse:0.823529\n",
      "[835]\tTrain-rmse:0.804933\tVal-rmse:0.823517\n",
      "[836]\tTrain-rmse:0.804913\tVal-rmse:0.823503\n",
      "[837]\tTrain-rmse:0.804861\tVal-rmse:0.82349\n",
      "[838]\tTrain-rmse:0.804839\tVal-rmse:0.823489\n",
      "[839]\tTrain-rmse:0.804804\tVal-rmse:0.823477\n",
      "[840]\tTrain-rmse:0.804791\tVal-rmse:0.823473\n",
      "[841]\tTrain-rmse:0.804751\tVal-rmse:0.823442\n",
      "[842]\tTrain-rmse:0.80473\tVal-rmse:0.82344\n",
      "[843]\tTrain-rmse:0.804694\tVal-rmse:0.823428\n",
      "[844]\tTrain-rmse:0.804567\tVal-rmse:0.823346\n",
      "[845]\tTrain-rmse:0.804548\tVal-rmse:0.823342\n",
      "[846]\tTrain-rmse:0.804515\tVal-rmse:0.823326\n",
      "[847]\tTrain-rmse:0.8045\tVal-rmse:0.823321\n",
      "[848]\tTrain-rmse:0.804479\tVal-rmse:0.823323\n",
      "[849]\tTrain-rmse:0.804449\tVal-rmse:0.823323\n",
      "[850]\tTrain-rmse:0.804395\tVal-rmse:0.82329\n",
      "[851]\tTrain-rmse:0.804374\tVal-rmse:0.823286\n",
      "[852]\tTrain-rmse:0.804331\tVal-rmse:0.823253\n",
      "[853]\tTrain-rmse:0.804289\tVal-rmse:0.823217\n",
      "[854]\tTrain-rmse:0.804249\tVal-rmse:0.823196\n",
      "[855]\tTrain-rmse:0.804176\tVal-rmse:0.823129\n",
      "[856]\tTrain-rmse:0.804144\tVal-rmse:0.823116\n",
      "[857]\tTrain-rmse:0.804132\tVal-rmse:0.823109\n",
      "[858]\tTrain-rmse:0.804111\tVal-rmse:0.823099\n",
      "[859]\tTrain-rmse:0.804055\tVal-rmse:0.823052\n",
      "[860]\tTrain-rmse:0.804028\tVal-rmse:0.82304\n",
      "[861]\tTrain-rmse:0.804\tVal-rmse:0.823019\n",
      "[862]\tTrain-rmse:0.803988\tVal-rmse:0.823012\n",
      "[863]\tTrain-rmse:0.803973\tVal-rmse:0.823005\n",
      "[864]\tTrain-rmse:0.803952\tVal-rmse:0.823005\n",
      "[865]\tTrain-rmse:0.803913\tVal-rmse:0.823001\n",
      "[866]\tTrain-rmse:0.803872\tVal-rmse:0.822971\n",
      "[867]\tTrain-rmse:0.803844\tVal-rmse:0.822976\n",
      "[868]\tTrain-rmse:0.803823\tVal-rmse:0.822976\n",
      "[869]\tTrain-rmse:0.803739\tVal-rmse:0.822924\n",
      "[870]\tTrain-rmse:0.80373\tVal-rmse:0.822929\n",
      "[871]\tTrain-rmse:0.803656\tVal-rmse:0.822848\n",
      "[872]\tTrain-rmse:0.803626\tVal-rmse:0.822832\n",
      "[873]\tTrain-rmse:0.80361\tVal-rmse:0.82282\n",
      "[874]\tTrain-rmse:0.803551\tVal-rmse:0.822777\n",
      "[875]\tTrain-rmse:0.803526\tVal-rmse:0.822772\n",
      "[876]\tTrain-rmse:0.8035\tVal-rmse:0.822748\n",
      "[877]\tTrain-rmse:0.803455\tVal-rmse:0.822717\n",
      "[878]\tTrain-rmse:0.80344\tVal-rmse:0.822721\n",
      "[879]\tTrain-rmse:0.803397\tVal-rmse:0.822687\n",
      "[880]\tTrain-rmse:0.803372\tVal-rmse:0.822674\n",
      "[881]\tTrain-rmse:0.803337\tVal-rmse:0.822648\n",
      "[882]\tTrain-rmse:0.80331\tVal-rmse:0.822638\n",
      "[883]\tTrain-rmse:0.803147\tVal-rmse:0.822503\n",
      "[884]\tTrain-rmse:0.80312\tVal-rmse:0.822483\n",
      "[885]\tTrain-rmse:0.803112\tVal-rmse:0.822483\n",
      "[886]\tTrain-rmse:0.803082\tVal-rmse:0.822467\n",
      "[887]\tTrain-rmse:0.803068\tVal-rmse:0.822471\n",
      "[888]\tTrain-rmse:0.803032\tVal-rmse:0.822454\n",
      "[889]\tTrain-rmse:0.80299\tVal-rmse:0.822421\n",
      "[890]\tTrain-rmse:0.802947\tVal-rmse:0.82242\n",
      "[891]\tTrain-rmse:0.802935\tVal-rmse:0.822421\n",
      "[892]\tTrain-rmse:0.802898\tVal-rmse:0.82239\n",
      "[893]\tTrain-rmse:0.802852\tVal-rmse:0.822362\n",
      "[894]\tTrain-rmse:0.802836\tVal-rmse:0.822357\n",
      "[895]\tTrain-rmse:0.802768\tVal-rmse:0.8223\n",
      "[896]\tTrain-rmse:0.802759\tVal-rmse:0.822301\n",
      "[897]\tTrain-rmse:0.802745\tVal-rmse:0.822294\n",
      "[898]\tTrain-rmse:0.802706\tVal-rmse:0.822264\n",
      "[899]\tTrain-rmse:0.802696\tVal-rmse:0.822267\n",
      "[900]\tTrain-rmse:0.802671\tVal-rmse:0.822263\n",
      "[901]\tTrain-rmse:0.802644\tVal-rmse:0.822248\n",
      "[902]\tTrain-rmse:0.802607\tVal-rmse:0.822235\n",
      "[903]\tTrain-rmse:0.802598\tVal-rmse:0.822235\n",
      "[904]\tTrain-rmse:0.802581\tVal-rmse:0.822226\n",
      "[905]\tTrain-rmse:0.802553\tVal-rmse:0.822217\n",
      "[906]\tTrain-rmse:0.802507\tVal-rmse:0.822175\n",
      "[907]\tTrain-rmse:0.802381\tVal-rmse:0.822064\n",
      "[908]\tTrain-rmse:0.802342\tVal-rmse:0.822033\n",
      "[909]\tTrain-rmse:0.802261\tVal-rmse:0.821969\n",
      "[910]\tTrain-rmse:0.8022\tVal-rmse:0.821909\n",
      "[911]\tTrain-rmse:0.802172\tVal-rmse:0.821893\n",
      "[912]\tTrain-rmse:0.802159\tVal-rmse:0.821892\n",
      "[913]\tTrain-rmse:0.802108\tVal-rmse:0.821855\n",
      "[914]\tTrain-rmse:0.802071\tVal-rmse:0.82185\n",
      "[915]\tTrain-rmse:0.801929\tVal-rmse:0.821721\n",
      "[916]\tTrain-rmse:0.8019\tVal-rmse:0.82172\n",
      "[917]\tTrain-rmse:0.801843\tVal-rmse:0.821681\n",
      "[918]\tTrain-rmse:0.801805\tVal-rmse:0.82166\n",
      "[919]\tTrain-rmse:0.801779\tVal-rmse:0.821647\n",
      "[920]\tTrain-rmse:0.801728\tVal-rmse:0.821618\n",
      "[921]\tTrain-rmse:0.801652\tVal-rmse:0.821554\n",
      "[922]\tTrain-rmse:0.801643\tVal-rmse:0.821556\n",
      "[923]\tTrain-rmse:0.801596\tVal-rmse:0.821513\n",
      "[924]\tTrain-rmse:0.801543\tVal-rmse:0.821478\n",
      "[925]\tTrain-rmse:0.801525\tVal-rmse:0.821473\n",
      "[926]\tTrain-rmse:0.801464\tVal-rmse:0.821428\n",
      "[927]\tTrain-rmse:0.801441\tVal-rmse:0.82143\n",
      "[928]\tTrain-rmse:0.801424\tVal-rmse:0.821425\n",
      "[929]\tTrain-rmse:0.801369\tVal-rmse:0.821385\n",
      "[930]\tTrain-rmse:0.801345\tVal-rmse:0.821375\n",
      "[931]\tTrain-rmse:0.801316\tVal-rmse:0.821364\n",
      "[932]\tTrain-rmse:0.801297\tVal-rmse:0.82136\n",
      "[933]\tTrain-rmse:0.801275\tVal-rmse:0.821348\n",
      "[934]\tTrain-rmse:0.801256\tVal-rmse:0.821341\n",
      "[935]\tTrain-rmse:0.801084\tVal-rmse:0.821176\n"
     ]
    },
    {
     "name": "stdout",
     "output_type": "stream",
     "text": [
      "[936]\tTrain-rmse:0.801027\tVal-rmse:0.82113\n",
      "[937]\tTrain-rmse:0.800951\tVal-rmse:0.821055\n",
      "[938]\tTrain-rmse:0.80093\tVal-rmse:0.821051\n",
      "[939]\tTrain-rmse:0.800736\tVal-rmse:0.820875\n",
      "[940]\tTrain-rmse:0.800694\tVal-rmse:0.820838\n",
      "[941]\tTrain-rmse:0.800643\tVal-rmse:0.820802\n",
      "[942]\tTrain-rmse:0.800617\tVal-rmse:0.820785\n",
      "[943]\tTrain-rmse:0.800547\tVal-rmse:0.820727\n",
      "[944]\tTrain-rmse:0.8005\tVal-rmse:0.820695\n",
      "[945]\tTrain-rmse:0.800487\tVal-rmse:0.820691\n",
      "[946]\tTrain-rmse:0.800464\tVal-rmse:0.820687\n",
      "[947]\tTrain-rmse:0.800449\tVal-rmse:0.820676\n",
      "[948]\tTrain-rmse:0.800392\tVal-rmse:0.820644\n",
      "[949]\tTrain-rmse:0.800343\tVal-rmse:0.820607\n",
      "[950]\tTrain-rmse:0.800318\tVal-rmse:0.820603\n",
      "[951]\tTrain-rmse:0.799917\tVal-rmse:0.820238\n",
      "[952]\tTrain-rmse:0.799899\tVal-rmse:0.82024\n",
      "[953]\tTrain-rmse:0.799869\tVal-rmse:0.820227\n",
      "[954]\tTrain-rmse:0.799851\tVal-rmse:0.820224\n",
      "[955]\tTrain-rmse:0.799844\tVal-rmse:0.820225\n",
      "[956]\tTrain-rmse:0.799831\tVal-rmse:0.820228\n",
      "[957]\tTrain-rmse:0.799801\tVal-rmse:0.820212\n",
      "[958]\tTrain-rmse:0.799785\tVal-rmse:0.820204\n",
      "[959]\tTrain-rmse:0.799772\tVal-rmse:0.820202\n",
      "[960]\tTrain-rmse:0.799752\tVal-rmse:0.820188\n",
      "[961]\tTrain-rmse:0.799732\tVal-rmse:0.820185\n",
      "[962]\tTrain-rmse:0.799707\tVal-rmse:0.820183\n",
      "[963]\tTrain-rmse:0.799695\tVal-rmse:0.820183\n",
      "[964]\tTrain-rmse:0.799675\tVal-rmse:0.820175\n",
      "[965]\tTrain-rmse:0.799645\tVal-rmse:0.820162\n",
      "[966]\tTrain-rmse:0.799611\tVal-rmse:0.820153\n",
      "[967]\tTrain-rmse:0.79958\tVal-rmse:0.820126\n",
      "[968]\tTrain-rmse:0.799561\tVal-rmse:0.820119\n",
      "[969]\tTrain-rmse:0.799545\tVal-rmse:0.820119\n",
      "[970]\tTrain-rmse:0.799543\tVal-rmse:0.82012\n",
      "[971]\tTrain-rmse:0.799506\tVal-rmse:0.820096\n",
      "[972]\tTrain-rmse:0.799488\tVal-rmse:0.820084\n",
      "[973]\tTrain-rmse:0.799453\tVal-rmse:0.820069\n",
      "[974]\tTrain-rmse:0.79932\tVal-rmse:0.819953\n",
      "[975]\tTrain-rmse:0.799164\tVal-rmse:0.819796\n",
      "[976]\tTrain-rmse:0.799133\tVal-rmse:0.819774\n",
      "[977]\tTrain-rmse:0.799088\tVal-rmse:0.819738\n",
      "[978]\tTrain-rmse:0.799086\tVal-rmse:0.819738\n",
      "[979]\tTrain-rmse:0.799049\tVal-rmse:0.819696\n",
      "[980]\tTrain-rmse:0.799019\tVal-rmse:0.819674\n",
      "[981]\tTrain-rmse:0.799006\tVal-rmse:0.819668\n",
      "[982]\tTrain-rmse:0.798983\tVal-rmse:0.819659\n",
      "[983]\tTrain-rmse:0.798897\tVal-rmse:0.819593\n",
      "[984]\tTrain-rmse:0.798855\tVal-rmse:0.819557\n",
      "[985]\tTrain-rmse:0.798841\tVal-rmse:0.819554\n",
      "[986]\tTrain-rmse:0.798684\tVal-rmse:0.819406\n",
      "[987]\tTrain-rmse:0.79867\tVal-rmse:0.819403\n",
      "[988]\tTrain-rmse:0.798652\tVal-rmse:0.819395\n",
      "[989]\tTrain-rmse:0.798625\tVal-rmse:0.819369\n",
      "[990]\tTrain-rmse:0.798606\tVal-rmse:0.819362\n",
      "[991]\tTrain-rmse:0.798568\tVal-rmse:0.819324\n",
      "[992]\tTrain-rmse:0.79843\tVal-rmse:0.819197\n",
      "[993]\tTrain-rmse:0.798419\tVal-rmse:0.819196\n",
      "[994]\tTrain-rmse:0.798405\tVal-rmse:0.819183\n",
      "[995]\tTrain-rmse:0.798386\tVal-rmse:0.819184\n",
      "[996]\tTrain-rmse:0.798381\tVal-rmse:0.819184\n",
      "[997]\tTrain-rmse:0.798366\tVal-rmse:0.819183\n",
      "[998]\tTrain-rmse:0.798326\tVal-rmse:0.819149\n",
      "[999]\tTrain-rmse:0.79831\tVal-rmse:0.819147\n",
      "Wall time: 4min 45s\n"
     ]
    }
   ],
   "source": [
    "%%time\n",
    "\n",
    "xgb_params = {'booster': 'gbtree',\n",
    "          'eta': .1,\n",
    "          'min_child_weight': 100,\n",
    "          'max_depth': 6,  ##6\n",
    "          'objective': 'reg:linear',\n",
    "          'eval_metric': 'rmse',\n",
    "          'silent': False,\n",
    "          'nthread': 8,\n",
    "          'tree_method': 'gpu_hist'}\n",
    "\n",
    "model = xgb.train(xgb_params, Train, 1000, [(Train, 'Train'), (Val, 'Val')], early_stopping_rounds=10, verbose_eval=1 )\n",
    "\n",
    "test['item_cnt_month'] = model.predict(Test).clip(0, 20)\n",
    "test[['ID', 'item_cnt_month']].sort_values('ID').to_csv('boost_pred.csv', index=False)"
   ]
  },
  {
   "cell_type": "code",
   "execution_count": 6,
   "metadata": {
    "_uuid": "98a12a5e03f404a01804a14aa3971a03091da75b"
   },
   "outputs": [],
   "source": [
    "#pickle.dump(model, open(\"xgb.pickle\", \"wb\"))"
   ]
  },
  {
   "cell_type": "code",
   "execution_count": 7,
   "metadata": {
    "_uuid": "6512397401f9b5e471c43ac0a11d469effc005c9"
   },
   "outputs": [],
   "source": [
    "#model = pickle.load(open(\"xgb.pickle\", \"rb\"))"
   ]
  },
  {
   "cell_type": "markdown",
   "metadata": {
    "_uuid": "f590516efb86433857962af6cd38d55057860589"
   },
   "source": [
    "**item_id**, **date_block_num** and **month** have quite a predictive power :)"
   ]
  },
  {
   "cell_type": "code",
   "execution_count": 9,
   "metadata": {
    "_uuid": "8744c96671cd81308395377452dc2aada93d26b5"
   },
   "outputs": [
    {
     "data": {
      "text/plain": [
       "<matplotlib.axes._subplots.AxesSubplot at 0x2b91d4d64e0>"
      ]
     },
     "execution_count": 9,
     "metadata": {},
     "output_type": "execute_result"
    },
    {
     "data": {
      "image/png": "[encoded data removed]",
      "text/plain": [
       "<Figure size 432x288 with 1 Axes>"
      ]
     },
     "metadata": {
      "needs_background": "light"
     },
     "output_type": "display_data"
    }
   ],
   "source": [
    "xgb.plot_importance(booster=model, max_num_features=20) ##12"
   ]
  },
  {
   "cell_type": "markdown",
   "metadata": {},
   "source": [
    "### This method score on LeaderBoard is 0.88338."
   ]
  }
 ],
 "metadata": {
  "kernelspec": {
   "display_name": "Python 3",
   "language": "python",
   "name": "python3"
  },
  "language_info": {
   "codemirror_mode": {
    "name": "ipython",
    "version": 3
   },
   "file_extension": ".py",
   "mimetype": "text/x-python",
   "name": "python",
   "nbconvert_exporter": "python",
   "pygments_lexer": "ipython3",
   "version": "3.6.4"
  }
 },
 "nbformat": 4,
 "nbformat_minor": 1
}
