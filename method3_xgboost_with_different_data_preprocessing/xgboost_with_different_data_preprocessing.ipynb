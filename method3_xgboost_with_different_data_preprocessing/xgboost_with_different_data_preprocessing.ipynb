{
 "cells": [
  {
   "cell_type": "markdown",
   "metadata": {
    "_uuid": "d7396efb3a93915ad52b65601b4ee167476ada2d"
   },
   "source": [
    "# xgboost with different data preprocessing and training parameter\n",
    "* This method have the score on LeaderBoard = 0.88338"
   ]
  },
  {
   "cell_type": "markdown",
   "metadata": {},
   "source": [
    "# Load the data"
   ]
  },
  {
   "cell_type": "code",
   "execution_count": 2,
   "metadata": {
    "_uuid": "50d6de7d338002b358397845fb15f490f224b37a"
   },
   "outputs": [],
   "source": [
    "import pandas as pd\n",
    "import numpy as np\n",
    "import gc\n",
    "import itertools\n",
    "from tqdm import tqdm_notebook\n",
    "import seaborn as sns\n",
    "import matplotlib.pyplot as plt\n",
    "%matplotlib inline\n",
    "\n",
    "import os\n",
    "DATA_FOLDER = '../input/'\n",
    "train     = pd.read_csv(os.path.join(DATA_FOLDER, 'sales_train_v2.csv'))\n",
    "items     = pd.read_csv(os.path.join(DATA_FOLDER, 'items.csv'))\n",
    "item_cats = pd.read_csv(os.path.join(DATA_FOLDER, 'item_categories.csv'))\n",
    "shops     = pd.read_csv(os.path.join(DATA_FOLDER, 'shops.csv'))\n",
    "test      = pd.read_csv(os.path.join(DATA_FOLDER, 'test.csv'))\n",
    "test['date_block_num'] = 34\n",
    "groupby_cols = ['date_block_num', 'shop_id', 'item_id']"
   ]
  },
  {
   "cell_type": "markdown",
   "metadata": {
    "_uuid": "7edd17e1972f85b384dcd13c17fae0b5929aabd1"
   },
   "source": [
    "# Add some features\n",
    "\n",
    "I did not extract too much information from text fields, just 2 features:\n",
    "**city** (which is also encoded in **shop_id**),\n",
    "and **meta_cat** (some meta category, higher level aggregation of a **category** field)"
   ]
  },
  {
   "cell_type": "code",
   "execution_count": 3,
   "metadata": {
    "_uuid": "930b7285014176e475312a1114320e41c2f68f9a"
   },
   "outputs": [],
   "source": [
    "#category\n",
    "cat = items[['item_id', 'item_category_id']].drop_duplicates()\n",
    "cat.set_index(['item_id'], inplace=True)\n",
    "cat = cat.item_category_id\n",
    "train['cat'] = train.item_id.map(cat)\n",
    "\n",
    "#meta_category   games, gifts, work, etc.\n",
    "item_cats['meta_cat'] = item_cats.item_category_name.apply(lambda x: x.split(' ')[0])\n",
    "item_cats['meta_cat'] = pd.Categorical(item_cats.meta_cat).codes\n",
    "item_cats.set_index(['item_category_id'], inplace=True)\n",
    "meta_cat = item_cats.meta_cat\n",
    "train['meta_cat'] = train.cat.map(meta_cat)\n",
    "\n",
    "#city\n",
    "shops['city'] = shops.shop_name.apply(lambda x: str.replace(x, '!', '')).apply(lambda x: x.split(' ')[0])\n",
    "shops['city'] = pd.Categorical(shops['city']).codes\n",
    "city = shops.city\n",
    "train['city'] = train.shop_id.map(city)\n",
    "\n",
    "#year\n",
    "year = pd.concat([train.date_block_num, train.date.apply(lambda x: int(x.split('.')[2]))], axis=1).drop_duplicates()\n",
    "year.set_index(['date_block_num'], inplace=True)\n",
    "year = year.date.append( pd.Series([2015], index=[34]) )\n",
    "\n",
    "#month\n",
    "month = pd.concat([train.date_block_num, train.date.apply(lambda x: int(x.split('.')[1]))], axis=1).drop_duplicates()\n",
    "month.set_index(['date_block_num'], inplace=True)\n",
    "month = month.date.append( pd.Series([11], index=[34]) )"
   ]
  },
  {
   "cell_type": "code",
   "execution_count": 4,
   "metadata": {
    "_uuid": "2e79fceb9498b99523292171924a3dcec9e07d6f"
   },
   "outputs": [
    {
     "name": "stderr",
     "output_type": "stream",
     "text": [
      "e:\\pycharmproject\\dsai\\venv\\lib\\site-packages\\pandas\\core\\frame.py:6692: FutureWarning: Sorting because non-concatenation axis is not aligned. A future version\n",
      "of pandas will change to not sort by default.\n",
      "\n",
      "To accept the future behavior, pass 'sort=False'.\n",
      "\n",
      "To retain the current behavior and silence the warning, pass 'sort=True'.\n",
      "\n",
      "  sort=sort)\n"
     ]
    }
   ],
   "source": [
    "all_shops_items = []\n",
    "\n",
    "for block_num in train['date_block_num'].unique():\n",
    "    unique_shops = train[ train['date_block_num']==block_num ]['shop_id'].unique()\n",
    "    unique_items = train[ train['date_block_num']==block_num ]['item_id'].unique()\n",
    "    all_shops_items.append( np.array( list( itertools.product([block_num], unique_shops, unique_items) ), dtype='int32' ) )\n",
    "\n",
    "df = pd.DataFrame( np.vstack( all_shops_items ), columns=groupby_cols , dtype='int32')\n",
    "df = df.append(test )\n",
    "\n",
    "df['ID'] = df.ID.fillna(-1).astype('int32')\n",
    "\n",
    "df['year'] = df.date_block_num.map(year)\n",
    "df['month'] = df.date_block_num.map(month)\n",
    "df['cat'] = df.item_id.map(cat)\n",
    "df['meta_cat'] = df.cat.map(meta_cat)\n",
    "df['city'] = df.shop_id.map(city)\n",
    "train['cat'] = train.item_id.map(cat)"
   ]
  },
  {
   "cell_type": "code",
   "execution_count": 5,
   "metadata": {
    "_uuid": "7a2518066e4c36b1db41a7b6eca04534a1115018"
   },
   "outputs": [
    {
     "data": {
      "text/html": [
       "<div>\n",
       "<style scoped>\n",
       "    .dataframe tbody tr th:only-of-type {\n",
       "        vertical-align: middle;\n",
       "    }\n",
       "\n",
       "    .dataframe tbody tr th {\n",
       "        vertical-align: top;\n",
       "    }\n",
       "\n",
       "    .dataframe thead th {\n",
       "        text-align: right;\n",
       "    }\n",
       "</style>\n",
       "<table border=\"1\" class=\"dataframe\">\n",
       "  <thead>\n",
       "    <tr style=\"text-align: right;\">\n",
       "      <th></th>\n",
       "      <th>ID</th>\n",
       "      <th>date_block_num</th>\n",
       "      <th>item_id</th>\n",
       "      <th>shop_id</th>\n",
       "      <th>year</th>\n",
       "      <th>month</th>\n",
       "      <th>cat</th>\n",
       "      <th>meta_cat</th>\n",
       "      <th>city</th>\n",
       "    </tr>\n",
       "  </thead>\n",
       "  <tbody>\n",
       "    <tr>\n",
       "      <th>1700944</th>\n",
       "      <td>-1</td>\n",
       "      <td>4</td>\n",
       "      <td>2108</td>\n",
       "      <td>50</td>\n",
       "      <td>2013</td>\n",
       "      <td>5</td>\n",
       "      <td>55</td>\n",
       "      <td>9</td>\n",
       "      <td>24</td>\n",
       "    </tr>\n",
       "    <tr>\n",
       "      <th>8272334</th>\n",
       "      <td>-1</td>\n",
       "      <td>23</td>\n",
       "      <td>16542</td>\n",
       "      <td>30</td>\n",
       "      <td>2014</td>\n",
       "      <td>12</td>\n",
       "      <td>55</td>\n",
       "      <td>9</td>\n",
       "      <td>13</td>\n",
       "    </tr>\n",
       "    <tr>\n",
       "      <th>2966124</th>\n",
       "      <td>-1</td>\n",
       "      <td>7</td>\n",
       "      <td>8285</td>\n",
       "      <td>2</td>\n",
       "      <td>2013</td>\n",
       "      <td>8</td>\n",
       "      <td>40</td>\n",
       "      <td>7</td>\n",
       "      <td>0</td>\n",
       "    </tr>\n",
       "    <tr>\n",
       "      <th>5404202</th>\n",
       "      <td>-1</td>\n",
       "      <td>14</td>\n",
       "      <td>10407</td>\n",
       "      <td>41</td>\n",
       "      <td>2014</td>\n",
       "      <td>3</td>\n",
       "      <td>40</td>\n",
       "      <td>7</td>\n",
       "      <td>18</td>\n",
       "    </tr>\n",
       "    <tr>\n",
       "      <th>8246201</th>\n",
       "      <td>-1</td>\n",
       "      <td>23</td>\n",
       "      <td>4701</td>\n",
       "      <td>27</td>\n",
       "      <td>2014</td>\n",
       "      <td>12</td>\n",
       "      <td>57</td>\n",
       "      <td>9</td>\n",
       "      <td>13</td>\n",
       "    </tr>\n",
       "  </tbody>\n",
       "</table>\n",
       "</div>"
      ],
      "text/plain": [
       "         ID  date_block_num  item_id  shop_id  year  month  cat  meta_cat  \\\n",
       "1700944  -1               4     2108       50  2013      5   55         9   \n",
       "8272334  -1              23    16542       30  2014     12   55         9   \n",
       "2966124  -1               7     8285        2  2013      8   40         7   \n",
       "5404202  -1              14    10407       41  2014      3   40         7   \n",
       "8246201  -1              23     4701       27  2014     12   57         9   \n",
       "\n",
       "         city  \n",
       "1700944    24  \n",
       "8272334    13  \n",
       "2966124     0  \n",
       "5404202    18  \n",
       "8246201    13  "
      ]
     },
     "execution_count": 5,
     "metadata": {},
     "output_type": "execute_result"
    }
   ],
   "source": [
    "df.sample(5)"
   ]
  },
  {
   "cell_type": "markdown",
   "metadata": {
    "_uuid": "3828dea4b64a9bd3f1e5fd8eaff8e26be6273738"
   },
   "source": [
    "# Some plots.\n",
    "Overall trend - the sales are decreasing. Peaks on December. date_block_num's [0: 12] contain quite a lot of training data, it is useful to keep them in the training set."
   ]
  },
  {
   "cell_type": "code",
   "execution_count": 6,
   "metadata": {
    "_uuid": "0098f5c3dda4e925c18261613dbf1dc66a980f65"
   },
   "outputs": [
    {
     "data": {
      "text/plain": [
       "<matplotlib.axes._subplots.AxesSubplot at 0x18308235860>"
      ]
     },
     "execution_count": 6,
     "metadata": {},
     "output_type": "execute_result"
    },
    {
     "data": {
      "image/png": "[encoded data removed]",
      "text/plain": [
       "<Figure size 432x288 with 1 Axes>"
      ]
     },
     "metadata": {
      "needs_background": "light"
     },
     "output_type": "display_data"
    }
   ],
   "source": [
    "gb = train.groupby(by=['date_block_num'], as_index=False).agg({ 'item_cnt_day': ['sum']})\n",
    "sns.barplot(x=gb['date_block_num'], y=gb['item_cnt_day']['sum'])"
   ]
  },
  {
   "cell_type": "markdown",
   "metadata": {
    "_uuid": "37b698e7d92333e2d16b3259e1ff500a6480c5e9"
   },
   "source": [
    "Most of the target values are just Zeros."
   ]
  },
  {
   "cell_type": "code",
   "execution_count": 7,
   "metadata": {
    "_uuid": "7a7069bd4176bc8efa2c0a66968a8f6cd77590e5"
   },
   "outputs": [
    {
     "data": {
      "text/plain": [
       "<matplotlib.axes._subplots.AxesSubplot at 0x1830048bda0>"
      ]
     },
     "execution_count": 7,
     "metadata": {},
     "output_type": "execute_result"
    },
    {
     "data": {
      "image/png": "[encoded data removed]",
      "text/plain": [
       "<Figure size 432x288 with 1 Axes>"
      ]
     },
     "metadata": {
      "needs_background": "light"
     },
     "output_type": "display_data"
    }
   ],
   "source": [
    "sns.distplot(train['item_cnt_day'])"
   ]
  },
  {
   "cell_type": "markdown",
   "metadata": {
    "_uuid": "e87b88f84eef8cb25ad3f92400cfa15b74cb9491"
   },
   "source": [
    "Zeros and ones are just dominating."
   ]
  },
  {
   "cell_type": "code",
   "execution_count": 8,
   "metadata": {
    "_uuid": "e6d63d8f488683bc8aea4d4bccc6828d298d0162"
   },
   "outputs": [
    {
     "data": {
      "text/plain": [
       "<matplotlib.axes._subplots.AxesSubplot at 0x18300577358>"
      ]
     },
     "execution_count": 8,
     "metadata": {},
     "output_type": "execute_result"
    },
    {
     "data": {
      "image/png": "[encoded data removed]",
      "text/plain": [
       "<Figure size 432x288 with 1 Axes>"
      ]
     },
     "metadata": {
      "needs_background": "light"
     },
     "output_type": "display_data"
    }
   ],
   "source": [
    "sns.distplot( train[ train['item_cnt_day'] > 0 ]['item_cnt_day'].clip(0, 20) )"
   ]
  },
  {
   "cell_type": "markdown",
   "metadata": {
    "_uuid": "08cbc6746ccd6b4207227deb819f827d71ec5344"
   },
   "source": [
    "# Calculating different aggregations"
   ]
  },
  {
   "cell_type": "code",
   "execution_count": 9,
   "metadata": {
    "_uuid": "3e48859dce636c1d35cec059c01dccd4a45ea700"
   },
   "outputs": [],
   "source": [
    "gb = train.groupby(by=groupby_cols, as_index=False).agg({ 'item_cnt_day': ['sum']})\n",
    "gb.columns = [val[0] if val[-1]=='' else '_'.join(val) for val in gb.columns.values]\n",
    "gb.rename(columns={'item_cnt_day_sum':'target'}, inplace=True)\n",
    "df = pd.merge(df, gb, how='left', on=groupby_cols)\n",
    "\n",
    "gb = train.groupby(by=['date_block_num', 'item_id'], as_index=False).agg({'item_cnt_day':['sum']})\n",
    "gb.columns = [val[0] if val[-1]=='' else '_'.join(val) for val in gb.columns.values]\n",
    "gb.rename(columns={'item_cnt_day_sum':'target_item'}, inplace=True)\n",
    "df = pd.merge(df, gb, how='left', on=['date_block_num', 'item_id'])\n",
    "\n",
    "gb = train.groupby(by=['date_block_num', 'shop_id'], as_index=False).agg({'item_cnt_day':['sum']})\n",
    "gb.columns = [val[0] if val[-1]=='' else '_'.join(val) for val in gb.columns.values]\n",
    "gb.rename(columns={'item_cnt_day_sum':'target_shop'}, inplace=True)\n",
    "df = pd.merge(df, gb, how='left', on=['date_block_num', 'shop_id'])\n",
    "\n",
    "gb = train.groupby( by=['date_block_num', 'cat'], as_index=False).agg({ 'item_cnt_day': ['sum'] })\n",
    "gb.columns = [val[0] if val[-1]=='' else '_'.join(val) for val in gb.columns.values]\n",
    "gb.rename(columns={'item_cnt_day_sum':'target_cat'}, inplace=True)\n",
    "df = pd.merge(df, gb, how='left', on=['date_block_num', 'cat'])\n",
    "\n",
    "gb = train.groupby(by=['date_block_num', 'item_id'], as_index=False).agg({'item_price':['mean', 'max']})\n",
    "gb.columns = [val[0] if val[-1]=='' else '_'.join(val) for val in gb.columns.values]\n",
    "gb.rename(columns={'item_price_mean':'target_price_mean', 'item_price_max':'target_price_max'}, inplace=True)\n",
    "df = pd.merge(df, gb, how='left', on=['date_block_num', 'item_id'])"
   ]
  },
  {
   "cell_type": "markdown",
   "metadata": {
    "_uuid": "dcb1bb256c0c72b8f6f321a54163c3736c23b14d"
   },
   "source": [
    "# Clipping some outlier prices"
   ]
  },
  {
   "cell_type": "code",
   "execution_count": 10,
   "metadata": {
    "_uuid": "8a3610afd19f2f9ecaf03346c880030a2008f6b7"
   },
   "outputs": [
    {
     "name": "stderr",
     "output_type": "stream",
     "text": [
      "e:\\pycharmproject\\dsai\\venv\\lib\\site-packages\\ipykernel_launcher.py:1: RuntimeWarning: invalid value encountered in minimum\n",
      "  \"\"\"Entry point for launching an IPython kernel.\n",
      "e:\\pycharmproject\\dsai\\venv\\lib\\site-packages\\ipykernel_launcher.py:2: RuntimeWarning: invalid value encountered in minimum\n",
      "  \n"
     ]
    }
   ],
   "source": [
    "df['target_price_mean'] = np.minimum(df['target_price_mean'], df['target_price_mean'].quantile(0.99))\n",
    "df['target_price_max'] = np.minimum(df['target_price_max'], df['target_price_max'].quantile(0.99))\n",
    "\n",
    "df.fillna(0, inplace=True)\n",
    "df['target'] = df['target'].clip(0, 20)\n",
    "df['target_zero'] = (df['target'] > 0).astype(\"int32\")"
   ]
  },
  {
   "cell_type": "markdown",
   "metadata": {
    "_uuid": "32105b35366e1e73c496c65a9822bdc3cc565490"
   },
   "source": [
    "# Mean Encodings"
   ]
  },
  {
   "cell_type": "code",
   "execution_count": 11,
   "metadata": {
    "_uuid": "acd9fa75a7d8216ccea0df4ec8448548911b41d1"
   },
   "outputs": [
    {
     "name": "stdout",
     "output_type": "stream",
     "text": [
      "enc_shop_id_cat enc_max_shop_id_cat\n"
     ]
    },
    {
     "data": {
      "application/vnd.jupyter.widget-view+json": {
       "model_id": "0031569c9ddf4652b70ce97570831ef9",
       "version_major": 2,
       "version_minor": 0
      },
      "text/plain": [
       "HBox(children=(IntProgress(value=0, max=35), HTML(value='')))"
      ]
     },
     "metadata": {},
     "output_type": "display_data"
    },
    {
     "name": "stdout",
     "output_type": "stream",
     "text": [
      "\n",
      "enc_shop_id_item_id enc_max_shop_id_item_id\n"
     ]
    },
    {
     "data": {
      "application/vnd.jupyter.widget-view+json": {
       "model_id": "5eb4f1a01b754c26914d8f6d613e3070",
       "version_major": 2,
       "version_minor": 0
      },
      "text/plain": [
       "HBox(children=(IntProgress(value=0, max=35), HTML(value='')))"
      ]
     },
     "metadata": {},
     "output_type": "display_data"
    },
    {
     "name": "stdout",
     "output_type": "stream",
     "text": [
      "\n",
      "enc_shop_id enc_max_shop_id\n"
     ]
    },
    {
     "data": {
      "application/vnd.jupyter.widget-view+json": {
       "model_id": "3e370e7d82294511865a7b31f917407a",
       "version_major": 2,
       "version_minor": 0
      },
      "text/plain": [
       "HBox(children=(IntProgress(value=0, max=35), HTML(value='')))"
      ]
     },
     "metadata": {},
     "output_type": "display_data"
    },
    {
     "name": "stdout",
     "output_type": "stream",
     "text": [
      "\n",
      "enc_item_id enc_max_item_id\n"
     ]
    },
    {
     "data": {
      "application/vnd.jupyter.widget-view+json": {
       "model_id": "e3a5ec4cba254019a1e66db829aa1d2a",
       "version_major": 2,
       "version_minor": 0
      },
      "text/plain": [
       "HBox(children=(IntProgress(value=0, max=35), HTML(value='')))"
      ]
     },
     "metadata": {},
     "output_type": "display_data"
    },
    {
     "name": "stdout",
     "output_type": "stream",
     "text": [
      "\n",
      "Wall time: 4min 46s\n"
     ]
    }
   ],
   "source": [
    "%%time\n",
    "for enc_cols in [['shop_id', 'cat'], ['shop_id', 'item_id'], ['shop_id'], ['item_id']]:\n",
    "    \n",
    "    col = '_'.join(['enc', *enc_cols])\n",
    "    col2 = '_'.join(['enc_max', *enc_cols])\n",
    "    df[col] = np.nan\n",
    "    df[col2] = np.nan\n",
    "    \n",
    "    print(col, col2)\n",
    "    \n",
    "    for d in tqdm_notebook(df.date_block_num.unique()):\n",
    "        \n",
    "\n",
    "        f1 = df.date_block_num < d\n",
    "        f2 = df.date_block_num == d\n",
    "\n",
    "        gb = df.loc[f1].groupby(enc_cols)[['target']].mean().reset_index()\n",
    "        enc = df.loc[f2][enc_cols].merge(gb, on=enc_cols, how='left' )[['target']].copy()\n",
    "        enc.set_index(df.loc[f2].index, inplace=True)\n",
    "        df.loc[f2, col] = enc['target']\n",
    "        \n",
    "        gb = df.loc[f1].groupby(enc_cols)[['target']].max().reset_index()\n",
    "        enc = df.loc[f2][enc_cols].merge(gb, on=enc_cols, how='left' )[['target']].copy()\n",
    "        enc.set_index(df.loc[f2].index, inplace=True)\n",
    "        df.loc[f2, col2] = enc['target']\n",
    "        "
   ]
  },
  {
   "cell_type": "code",
   "execution_count": 12,
   "metadata": {
    "_uuid": "61d1589d71469250aab1d85cde8ce149d652f4df"
   },
   "outputs": [],
   "source": [
    "def downcast_dtypes(df):\n",
    "    '''\n",
    "        Changes column types in the dataframe: \n",
    "                \n",
    "                `float64` type to `float32`\n",
    "                `int64`   type to `int32`\n",
    "    '''\n",
    "    \n",
    "    # Select columns to downcast\n",
    "    float32_cols = [c for c in df if df[c].dtype == \"float64\"]\n",
    "    int32_cols = [c for c in df if df[c].dtype in [\"int64\", \"int16\", \"int8\"] ]\n",
    "            \n",
    "    # Downcast\n",
    "    df[float32_cols] = df[float32_cols].astype(np.float32)\n",
    "    df[int32_cols]   = df[int32_cols].astype(np.int32)\n",
    "        \n",
    "    return df"
   ]
  },
  {
   "cell_type": "code",
   "execution_count": 13,
   "metadata": {
    "_uuid": "9e81606ef442f104cecb3d8099b70f062e62871e"
   },
   "outputs": [],
   "source": [
    "df.fillna(0, inplace=True)\n",
    "df = downcast_dtypes(df)"
   ]
  },
  {
   "cell_type": "markdown",
   "metadata": {
    "_uuid": "b820a86a1e5eed3edc5767accac596d45a16d75a"
   },
   "source": [
    "# Historical values"
   ]
  },
  {
   "cell_type": "code",
   "execution_count": 18,
   "metadata": {
    "_uuid": "80152e6508c3bc836d78c5ecd22b4de774fc3f7e"
   },
   "outputs": [
    {
     "name": "stdout",
     "output_type": "stream",
     "text": [
      "['target', 'target_item', 'target_shop', 'target_cat', 'target_price_mean', 'target_price_max', 'target_zero']\n"
     ]
    }
   ],
   "source": [
    "import pandas as pd\n",
    "import numpy as np\n",
    "from tqdm import tqdm_notebook\n",
    "import os\n",
    "import gc\n",
    "from time import sleep\n",
    "\n",
    "groupby_cols = ['date_block_num', 'shop_id', 'item_id']\n",
    "shift_range = [1, 2, 3, 4, 5, 12]\n",
    "shifted_columns = [c for c in df if 'target' in c]\n",
    "print(shifted_columns)"
   ]
  },
  {
   "cell_type": "code",
   "execution_count": 23,
   "metadata": {
    "_uuid": "590855e988e77c12c31e04d7a5cc4d2adbb9c05e"
   },
   "outputs": [
    {
     "data": {
      "application/vnd.jupyter.widget-view+json": {
       "model_id": "7fe72c9922334438a6a0cc30b49aeaf4",
       "version_major": 2,
       "version_minor": 0
      },
      "text/plain": [
       "HBox(children=(IntProgress(value=0, max=6), HTML(value='')))"
      ]
     },
     "metadata": {},
     "output_type": "display_data"
    },
    {
     "name": "stdout",
     "output_type": "stream",
     "text": [
      "1\n",
      "2\n",
      "3\n",
      "4\n",
      "5\n",
      "12\n",
      "\n"
     ]
    }
   ],
   "source": [
    "#%%time\n",
    "for shift in tqdm_notebook(shift_range):\n",
    "    print(shift)\n",
    "    shifted_data = df[groupby_cols + shifted_columns].copy()\n",
    "    shifted_data['date_block_num'] = shifted_data['date_block_num'] + shift\n",
    "    \n",
    "    foo = lambda x: '{}_lag_{}'.format(x, shift) if x in shifted_columns else x\n",
    "    shifted_data = shifted_data.rename(columns=foo)\n",
    "    \n",
    "    \n",
    "    df = pd.merge(df, shifted_data, how='left', on=groupby_cols).fillna(0)\n",
    "    df = downcast_dtypes(df)\n",
    "\n",
    "    del shifted_data\n",
    "    gc.collect()\n",
    "    sleep(1)"
   ]
  },
  {
   "cell_type": "markdown",
   "metadata": {
    "_uuid": "d1eadefd3618b8228cb2bb2130510525c5d2f299"
   },
   "source": [
    "# Features Interaction\n",
    "A big breakthrough happened, when i encoded these interactions. Check it out."
   ]
  },
  {
   "cell_type": "code",
   "execution_count": 24,
   "metadata": {
    "_uuid": "dd93d74516e079f6d68ae9694ccbc1425f6be889"
   },
   "outputs": [],
   "source": [
    "df['target_trend_1_2'] = df['target_lag_1'] - df['target_lag_2']\n",
    "df['target_predict_1_2'] = df['target_lag_1']*2 - df['target_lag_2']\n",
    "\n",
    "df['target_trend_3_4'] = df['target_lag_1'] + df['target_lag_2'] - df['target_lag_3'] - df['target_lag_4']\n",
    "df['target_predict_3_4'] = (df['target_lag_1'] + df['target_lag_2'])*2 - df['target_lag_3'] - df['target_lag_4']\n",
    "\n",
    "df['target_item_trend_1_2'] = df['target_item_lag_1'] - df['target_item_lag_2']\n",
    "df['target_item_trend_3_4'] = df['target_item_lag_1'] + df['target_item_lag_2'] - df['target_item_lag_3'] - df['target_item_lag_4']\n",
    "df['target_shop_trend_1_2'] = df['target_shop_lag_1'] - df['target_shop_lag_2']\n",
    "df['target_shop_trend_3_4'] = df['target_shop_lag_1'] + df['target_shop_lag_2'] - df['target_shop_lag_3'] - df['target_shop_lag_4']"
   ]
  },
  {
   "cell_type": "code",
   "execution_count": 25,
   "metadata": {
    "_uuid": "a32cf11e3fa66b2e1b282e34a4e11f8c671d991e"
   },
   "outputs": [],
   "source": [
    "df = downcast_dtypes(df)\n",
    "df.to_pickle(\"df.pkl\")"
   ]
  },
  {
   "cell_type": "markdown",
   "metadata": {
    "_uuid": "1e6e2ea4020d19b0f5a26133b75564a8010d9ca6"
   },
   "source": [
    "# XGBoost part"
   ]
  },
  {
   "cell_type": "code",
   "execution_count": 1,
   "metadata": {
    "_uuid": "8fef6e29f9f68652e1731cb3ddd28487f13a8f99"
   },
   "outputs": [],
   "source": [
    "import pandas as pd\n",
    "import numpy as np\n",
    "import os\n",
    "from sklearn.metrics import mean_squared_error, log_loss, accuracy_score, roc_curve, roc_auc_score\n",
    "import gc\n",
    "import xgboost as xgb\n",
    "from sklearn.model_selection import train_test_split\n",
    "import scipy.stats as st\n",
    "import seaborn as sns\n",
    "import matplotlib.pyplot as plt\n",
    "import pickle\n",
    "%matplotlib inline"
   ]
  },
  {
   "cell_type": "code",
   "execution_count": 2,
   "metadata": {
    "_uuid": "94672e7385a95cbe805f31b91adfee548ca16576"
   },
   "outputs": [],
   "source": [
    "df = pd.read_pickle(\"df.pkl\")\n",
    "\n",
    "drop_columns = [c for c in df if c[-1] not in ['1', '2', '3', '4', '5', '6', '7', '8', '9', '0'] and c.startswith('target')]\n",
    "drop_columns += ['ID']\n",
    "features = df.columns.difference( drop_columns )\n",
    "\n",
    "f0 = df.date_block_num < 34\n",
    "f1 = df.date_block_num == 34\n",
    "\n",
    "train, val = train_test_split(df[f0], test_size=0.2, stratify=df[f0]['target'])\n",
    "test = df[f1]\n"
   ]
  },
  {
   "cell_type": "code",
   "execution_count": 3,
   "metadata": {
    "_uuid": "8a6b574f8d0520f7b8e1b4cd2417748c2f960a92"
   },
   "outputs": [
    {
     "name": "stderr",
     "output_type": "stream",
     "text": [
      "e:\\pycharmproject\\dsai\\venv\\lib\\site-packages\\xgboost-0.83.dev0-py3.6.egg\\xgboost\\core.py:587: FutureWarning: Series.base is deprecated and will be removed in a future version\n",
      "  if getattr(data, 'base', None) is not None and \\\n",
      "e:\\pycharmproject\\dsai\\venv\\lib\\site-packages\\xgboost-0.83.dev0-py3.6.egg\\xgboost\\core.py:588: FutureWarning: Series.base is deprecated and will be removed in a future version\n",
      "  data.base is not None and isinstance(data, np.ndarray) \\\n"
     ]
    }
   ],
   "source": [
    "Train = xgb.DMatrix( train[features], train['target'] )\n",
    "Val = xgb.DMatrix( val[features], val['target'] )\n",
    "Test = xgb.DMatrix( test[features])"
   ]
  },
  {
   "cell_type": "code",
   "execution_count": 4,
   "metadata": {
    "_uuid": "b3591ea190e85a84e38bd6b40e29ed9a6c5ed80e"
   },
   "outputs": [
    {
     "data": {
      "text/plain": [
       "25"
      ]
     },
     "execution_count": 4,
     "metadata": {},
     "output_type": "execute_result"
    }
   ],
   "source": [
    "del df\n",
    "gc.collect()"
   ]
  },
  {
   "cell_type": "markdown",
   "metadata": {
    "_uuid": "4bcd9c3ec6dfd55b32b9224fb22c79036e26d2e4"
   },
   "source": [
    "For the hyperparameters optimization see the Hyperopt section below. Here are the parameters, which turned out to be optimal."
   ]
  },
  {
   "cell_type": "code",
   "execution_count": 5,
   "metadata": {
    "_uuid": "082909d70241f64d4bd990e337bd6c582dc3fcd8"
   },
   "outputs": [
    {
     "name": "stdout",
     "output_type": "stream",
     "text": [
      "[11:36:13] WARNING: C:/dev/libs/xgboost/src/objective/regression_obj.cu:152: reg:linear is now deprecated in favor of reg:squarederror.\n",
      "[0]\tTrain-rmse:1.18922\tVal-rmse:1.1892\n",
      "Multiple eval metrics have been passed: 'Val-rmse' will be used for early stopping.\n",
      "\n",
      "Will train until Val-rmse hasn't improved in 10 rounds.\n",
      "[1]\tTrain-rmse:1.14695\tVal-rmse:1.14702\n",
      "[2]\tTrain-rmse:1.1112\tVal-rmse:1.11137\n",
      "[3]\tTrain-rmse:1.08075\tVal-rmse:1.08093\n",
      "[4]\tTrain-rmse:1.05519\tVal-rmse:1.05533\n",
      "[5]\tTrain-rmse:1.03315\tVal-rmse:1.03331\n",
      "[6]\tTrain-rmse:1.01488\tVal-rmse:1.0151\n",
      "[7]\tTrain-rmse:0.999349\tVal-rmse:0.999569\n",
      "[8]\tTrain-rmse:0.985756\tVal-rmse:0.985992\n",
      "[9]\tTrain-rmse:0.974669\tVal-rmse:0.974927\n",
      "[10]\tTrain-rmse:0.964936\tVal-rmse:0.965195\n",
      "[11]\tTrain-rmse:0.956958\tVal-rmse:0.957264\n",
      "[12]\tTrain-rmse:0.950104\tVal-rmse:0.950427\n",
      "[13]\tTrain-rmse:0.943943\tVal-rmse:0.944308\n",
      "[14]\tTrain-rmse:0.939047\tVal-rmse:0.939491\n",
      "[15]\tTrain-rmse:0.934458\tVal-rmse:0.934876\n",
      "[16]\tTrain-rmse:0.930571\tVal-rmse:0.931101\n",
      "[17]\tTrain-rmse:0.927271\tVal-rmse:0.927866\n",
      "[18]\tTrain-rmse:0.924341\tVal-rmse:0.924913\n",
      "[19]\tTrain-rmse:0.92173\tVal-rmse:0.92228\n",
      "[20]\tTrain-rmse:0.919301\tVal-rmse:0.919944\n",
      "[21]\tTrain-rmse:0.917033\tVal-rmse:0.917683\n",
      "[22]\tTrain-rmse:0.91512\tVal-rmse:0.915874\n",
      "[23]\tTrain-rmse:0.91341\tVal-rmse:0.914192\n",
      "[24]\tTrain-rmse:0.911827\tVal-rmse:0.912673\n",
      "[25]\tTrain-rmse:0.910231\tVal-rmse:0.911013\n",
      "[26]\tTrain-rmse:0.909001\tVal-rmse:0.909833\n",
      "[27]\tTrain-rmse:0.907856\tVal-rmse:0.908691\n",
      "[28]\tTrain-rmse:0.906886\tVal-rmse:0.907784\n",
      "[29]\tTrain-rmse:0.905637\tVal-rmse:0.906554\n",
      "[30]\tTrain-rmse:0.904598\tVal-rmse:0.905566\n",
      "[31]\tTrain-rmse:0.903683\tVal-rmse:0.904695\n",
      "[32]\tTrain-rmse:0.902743\tVal-rmse:0.903736\n",
      "[33]\tTrain-rmse:0.901901\tVal-rmse:0.90297\n",
      "[34]\tTrain-rmse:0.901236\tVal-rmse:0.902391\n",
      "[35]\tTrain-rmse:0.900548\tVal-rmse:0.901733\n",
      "[36]\tTrain-rmse:0.899985\tVal-rmse:0.901141\n",
      "[37]\tTrain-rmse:0.89902\tVal-rmse:0.900248\n",
      "[38]\tTrain-rmse:0.898208\tVal-rmse:0.899465\n",
      "[39]\tTrain-rmse:0.897489\tVal-rmse:0.898753\n",
      "[40]\tTrain-rmse:0.896891\tVal-rmse:0.898185\n",
      "[41]\tTrain-rmse:0.896347\tVal-rmse:0.897718\n",
      "[42]\tTrain-rmse:0.895417\tVal-rmse:0.896819\n",
      "[43]\tTrain-rmse:0.894794\tVal-rmse:0.896265\n",
      "[44]\tTrain-rmse:0.894444\tVal-rmse:0.895967\n",
      "[45]\tTrain-rmse:0.893813\tVal-rmse:0.89534\n",
      "[46]\tTrain-rmse:0.892967\tVal-rmse:0.894557\n",
      "[47]\tTrain-rmse:0.892436\tVal-rmse:0.894073\n",
      "[48]\tTrain-rmse:0.891891\tVal-rmse:0.893567\n",
      "[49]\tTrain-rmse:0.891617\tVal-rmse:0.893359\n",
      "[50]\tTrain-rmse:0.89124\tVal-rmse:0.89304\n",
      "[51]\tTrain-rmse:0.890458\tVal-rmse:0.892267\n",
      "[52]\tTrain-rmse:0.889988\tVal-rmse:0.891841\n",
      "[53]\tTrain-rmse:0.889465\tVal-rmse:0.891353\n",
      "[54]\tTrain-rmse:0.88909\tVal-rmse:0.891024\n",
      "[55]\tTrain-rmse:0.888642\tVal-rmse:0.890574\n",
      "[56]\tTrain-rmse:0.887936\tVal-rmse:0.889911\n",
      "[57]\tTrain-rmse:0.887596\tVal-rmse:0.889613\n",
      "[58]\tTrain-rmse:0.887289\tVal-rmse:0.889363\n",
      "[59]\tTrain-rmse:0.886609\tVal-rmse:0.888703\n",
      "[60]\tTrain-rmse:0.886449\tVal-rmse:0.888589\n",
      "[61]\tTrain-rmse:0.885563\tVal-rmse:0.887812\n",
      "[62]\tTrain-rmse:0.885347\tVal-rmse:0.887629\n",
      "[63]\tTrain-rmse:0.885081\tVal-rmse:0.887381\n",
      "[64]\tTrain-rmse:0.884669\tVal-rmse:0.886996\n",
      "[65]\tTrain-rmse:0.884066\tVal-rmse:0.886429\n",
      "[66]\tTrain-rmse:0.88359\tVal-rmse:0.88598\n",
      "[67]\tTrain-rmse:0.883339\tVal-rmse:0.88578\n",
      "[68]\tTrain-rmse:0.882921\tVal-rmse:0.885405\n",
      "[69]\tTrain-rmse:0.882748\tVal-rmse:0.88525\n",
      "[70]\tTrain-rmse:0.882474\tVal-rmse:0.885006\n",
      "[71]\tTrain-rmse:0.882256\tVal-rmse:0.884832\n",
      "[72]\tTrain-rmse:0.882084\tVal-rmse:0.884668\n",
      "[73]\tTrain-rmse:0.881857\tVal-rmse:0.884484\n",
      "[74]\tTrain-rmse:0.881488\tVal-rmse:0.884144\n",
      "[75]\tTrain-rmse:0.881283\tVal-rmse:0.884005\n",
      "[76]\tTrain-rmse:0.880735\tVal-rmse:0.883506\n",
      "[77]\tTrain-rmse:0.880595\tVal-rmse:0.883391\n",
      "[78]\tTrain-rmse:0.880412\tVal-rmse:0.883218\n",
      "[79]\tTrain-rmse:0.88031\tVal-rmse:0.88314\n",
      "[80]\tTrain-rmse:0.880104\tVal-rmse:0.882958\n",
      "[81]\tTrain-rmse:0.879897\tVal-rmse:0.882774\n",
      "[82]\tTrain-rmse:0.87944\tVal-rmse:0.882291\n",
      "[83]\tTrain-rmse:0.879313\tVal-rmse:0.882193\n",
      "[84]\tTrain-rmse:0.879003\tVal-rmse:0.881913\n",
      "[85]\tTrain-rmse:0.878813\tVal-rmse:0.881729\n",
      "[86]\tTrain-rmse:0.878647\tVal-rmse:0.881598\n",
      "[87]\tTrain-rmse:0.877756\tVal-rmse:0.880822\n",
      "[88]\tTrain-rmse:0.877406\tVal-rmse:0.880507\n",
      "[89]\tTrain-rmse:0.876998\tVal-rmse:0.880157\n",
      "[90]\tTrain-rmse:0.876499\tVal-rmse:0.879698\n",
      "[91]\tTrain-rmse:0.87639\tVal-rmse:0.879605\n",
      "[92]\tTrain-rmse:0.876098\tVal-rmse:0.879357\n",
      "[93]\tTrain-rmse:0.875877\tVal-rmse:0.879146\n",
      "[94]\tTrain-rmse:0.87539\tVal-rmse:0.878702\n",
      "[95]\tTrain-rmse:0.875122\tVal-rmse:0.87845\n",
      "[96]\tTrain-rmse:0.874896\tVal-rmse:0.878211\n",
      "[97]\tTrain-rmse:0.874787\tVal-rmse:0.878148\n",
      "[98]\tTrain-rmse:0.874624\tVal-rmse:0.878024\n",
      "[99]\tTrain-rmse:0.874347\tVal-rmse:0.877756\n",
      "[100]\tTrain-rmse:0.874132\tVal-rmse:0.877584\n",
      "[101]\tTrain-rmse:0.873951\tVal-rmse:0.877433\n",
      "[102]\tTrain-rmse:0.873787\tVal-rmse:0.877284\n",
      "[103]\tTrain-rmse:0.873652\tVal-rmse:0.877161\n",
      "[104]\tTrain-rmse:0.873549\tVal-rmse:0.877081\n",
      "[105]\tTrain-rmse:0.873386\tVal-rmse:0.876967\n",
      "[106]\tTrain-rmse:0.873209\tVal-rmse:0.876808\n",
      "[107]\tTrain-rmse:0.873052\tVal-rmse:0.876704\n",
      "[108]\tTrain-rmse:0.872805\tVal-rmse:0.876494\n",
      "[109]\tTrain-rmse:0.872678\tVal-rmse:0.876393\n",
      "[110]\tTrain-rmse:0.872245\tVal-rmse:0.876037\n",
      "[111]\tTrain-rmse:0.872087\tVal-rmse:0.875885\n",
      "[112]\tTrain-rmse:0.871805\tVal-rmse:0.875622\n",
      "[113]\tTrain-rmse:0.871696\tVal-rmse:0.875531\n",
      "[114]\tTrain-rmse:0.871258\tVal-rmse:0.875188\n",
      "[115]\tTrain-rmse:0.871154\tVal-rmse:0.8751\n",
      "[116]\tTrain-rmse:0.870866\tVal-rmse:0.874841\n",
      "[117]\tTrain-rmse:0.870669\tVal-rmse:0.874653\n",
      "[118]\tTrain-rmse:0.870449\tVal-rmse:0.87449\n",
      "[119]\tTrain-rmse:0.870114\tVal-rmse:0.874187\n",
      "[120]\tTrain-rmse:0.869957\tVal-rmse:0.874064\n",
      "[121]\tTrain-rmse:0.869834\tVal-rmse:0.873966\n",
      "[122]\tTrain-rmse:0.869709\tVal-rmse:0.873877\n",
      "[123]\tTrain-rmse:0.869424\tVal-rmse:0.873628\n",
      "[124]\tTrain-rmse:0.869225\tVal-rmse:0.873432\n",
      "[125]\tTrain-rmse:0.869027\tVal-rmse:0.873275\n",
      "[126]\tTrain-rmse:0.868859\tVal-rmse:0.873139\n",
      "[127]\tTrain-rmse:0.868691\tVal-rmse:0.872998\n",
      "[128]\tTrain-rmse:0.868447\tVal-rmse:0.872772\n",
      "[129]\tTrain-rmse:0.868258\tVal-rmse:0.872642\n",
      "[130]\tTrain-rmse:0.868024\tVal-rmse:0.872399\n",
      "[131]\tTrain-rmse:0.867881\tVal-rmse:0.872283\n",
      "[132]\tTrain-rmse:0.867793\tVal-rmse:0.87222\n",
      "[133]\tTrain-rmse:0.867712\tVal-rmse:0.872164\n",
      "[134]\tTrain-rmse:0.867617\tVal-rmse:0.872115\n",
      "[135]\tTrain-rmse:0.867487\tVal-rmse:0.872031\n",
      "[136]\tTrain-rmse:0.867253\tVal-rmse:0.87184\n",
      "[137]\tTrain-rmse:0.867178\tVal-rmse:0.871787\n",
      "[138]\tTrain-rmse:0.86702\tVal-rmse:0.871656\n",
      "[139]\tTrain-rmse:0.866852\tVal-rmse:0.871503\n",
      "[140]\tTrain-rmse:0.866717\tVal-rmse:0.871402\n",
      "[141]\tTrain-rmse:0.866457\tVal-rmse:0.871174\n",
      "[142]\tTrain-rmse:0.866231\tVal-rmse:0.870991\n",
      "[143]\tTrain-rmse:0.866133\tVal-rmse:0.87094\n",
      "[144]\tTrain-rmse:0.865958\tVal-rmse:0.870804\n",
      "[145]\tTrain-rmse:0.865806\tVal-rmse:0.870698\n",
      "[146]\tTrain-rmse:0.86548\tVal-rmse:0.870438\n",
      "[147]\tTrain-rmse:0.865381\tVal-rmse:0.870377\n",
      "[148]\tTrain-rmse:0.865183\tVal-rmse:0.870178\n",
      "[149]\tTrain-rmse:0.865062\tVal-rmse:0.870098\n",
      "[150]\tTrain-rmse:0.864937\tVal-rmse:0.870012\n",
      "[151]\tTrain-rmse:0.864799\tVal-rmse:0.869899\n",
      "[152]\tTrain-rmse:0.86461\tVal-rmse:0.869714\n",
      "[153]\tTrain-rmse:0.864384\tVal-rmse:0.869531\n",
      "[154]\tTrain-rmse:0.864236\tVal-rmse:0.869415\n",
      "[155]\tTrain-rmse:0.86416\tVal-rmse:0.86938\n",
      "[156]\tTrain-rmse:0.864071\tVal-rmse:0.869326\n",
      "[157]\tTrain-rmse:0.863902\tVal-rmse:0.869178\n",
      "[158]\tTrain-rmse:0.863726\tVal-rmse:0.869059\n",
      "[159]\tTrain-rmse:0.863669\tVal-rmse:0.869024\n",
      "[160]\tTrain-rmse:0.863488\tVal-rmse:0.868877\n",
      "[161]\tTrain-rmse:0.863383\tVal-rmse:0.868776\n",
      "[162]\tTrain-rmse:0.863301\tVal-rmse:0.868724\n",
      "[163]\tTrain-rmse:0.863235\tVal-rmse:0.86867\n",
      "[164]\tTrain-rmse:0.863098\tVal-rmse:0.868588\n",
      "[165]\tTrain-rmse:0.862932\tVal-rmse:0.868426\n",
      "[166]\tTrain-rmse:0.862868\tVal-rmse:0.868401\n",
      "[167]\tTrain-rmse:0.862757\tVal-rmse:0.868315\n",
      "[168]\tTrain-rmse:0.862602\tVal-rmse:0.868198\n",
      "[169]\tTrain-rmse:0.862464\tVal-rmse:0.868096\n",
      "[170]\tTrain-rmse:0.862239\tVal-rmse:0.867907\n",
      "[171]\tTrain-rmse:0.862115\tVal-rmse:0.86782\n",
      "[172]\tTrain-rmse:0.862021\tVal-rmse:0.867751\n",
      "[173]\tTrain-rmse:0.861851\tVal-rmse:0.867621\n",
      "[174]\tTrain-rmse:0.861715\tVal-rmse:0.867476\n",
      "[175]\tTrain-rmse:0.860793\tVal-rmse:0.866517\n",
      "[176]\tTrain-rmse:0.860614\tVal-rmse:0.866351\n",
      "[177]\tTrain-rmse:0.860508\tVal-rmse:0.866287\n",
      "[178]\tTrain-rmse:0.860376\tVal-rmse:0.86619\n",
      "[179]\tTrain-rmse:0.859997\tVal-rmse:0.865822\n",
      "[180]\tTrain-rmse:0.859852\tVal-rmse:0.865701\n",
      "[181]\tTrain-rmse:0.859544\tVal-rmse:0.865435\n",
      "[182]\tTrain-rmse:0.859377\tVal-rmse:0.865302\n",
      "[183]\tTrain-rmse:0.859253\tVal-rmse:0.865213\n"
     ]
    },
    {
     "name": "stdout",
     "output_type": "stream",
     "text": [
      "[184]\tTrain-rmse:0.859146\tVal-rmse:0.865135\n",
      "[185]\tTrain-rmse:0.858965\tVal-rmse:0.864984\n",
      "[186]\tTrain-rmse:0.858801\tVal-rmse:0.864821\n",
      "[187]\tTrain-rmse:0.85814\tVal-rmse:0.864218\n",
      "[188]\tTrain-rmse:0.85791\tVal-rmse:0.863955\n",
      "[189]\tTrain-rmse:0.857714\tVal-rmse:0.863753\n",
      "[190]\tTrain-rmse:0.857014\tVal-rmse:0.863035\n",
      "[191]\tTrain-rmse:0.856893\tVal-rmse:0.862921\n",
      "[192]\tTrain-rmse:0.856763\tVal-rmse:0.862794\n",
      "[193]\tTrain-rmse:0.856644\tVal-rmse:0.862699\n",
      "[194]\tTrain-rmse:0.856507\tVal-rmse:0.862561\n",
      "[195]\tTrain-rmse:0.856438\tVal-rmse:0.862531\n",
      "[196]\tTrain-rmse:0.856285\tVal-rmse:0.862391\n",
      "[197]\tTrain-rmse:0.855995\tVal-rmse:0.862146\n",
      "[198]\tTrain-rmse:0.855922\tVal-rmse:0.862087\n",
      "[199]\tTrain-rmse:0.855802\tVal-rmse:0.862025\n",
      "[200]\tTrain-rmse:0.855741\tVal-rmse:0.861985\n",
      "[201]\tTrain-rmse:0.855585\tVal-rmse:0.861856\n",
      "[202]\tTrain-rmse:0.855369\tVal-rmse:0.861668\n",
      "[203]\tTrain-rmse:0.855283\tVal-rmse:0.861612\n",
      "[204]\tTrain-rmse:0.85521\tVal-rmse:0.861577\n",
      "[205]\tTrain-rmse:0.855166\tVal-rmse:0.861557\n",
      "[206]\tTrain-rmse:0.855121\tVal-rmse:0.86153\n",
      "[207]\tTrain-rmse:0.854978\tVal-rmse:0.861448\n",
      "[208]\tTrain-rmse:0.854874\tVal-rmse:0.861356\n",
      "[209]\tTrain-rmse:0.854819\tVal-rmse:0.861341\n",
      "[210]\tTrain-rmse:0.85472\tVal-rmse:0.861254\n",
      "[211]\tTrain-rmse:0.854613\tVal-rmse:0.86117\n",
      "[212]\tTrain-rmse:0.854499\tVal-rmse:0.861076\n",
      "[213]\tTrain-rmse:0.854066\tVal-rmse:0.860671\n",
      "[214]\tTrain-rmse:0.853984\tVal-rmse:0.860614\n",
      "[215]\tTrain-rmse:0.85391\tVal-rmse:0.860563\n",
      "[216]\tTrain-rmse:0.853555\tVal-rmse:0.860255\n",
      "[217]\tTrain-rmse:0.85345\tVal-rmse:0.860191\n",
      "[218]\tTrain-rmse:0.853392\tVal-rmse:0.860154\n",
      "[219]\tTrain-rmse:0.853298\tVal-rmse:0.860068\n",
      "[220]\tTrain-rmse:0.853207\tVal-rmse:0.860006\n",
      "[221]\tTrain-rmse:0.853052\tVal-rmse:0.859865\n",
      "[222]\tTrain-rmse:0.852762\tVal-rmse:0.85959\n",
      "[223]\tTrain-rmse:0.852648\tVal-rmse:0.85951\n",
      "[224]\tTrain-rmse:0.852567\tVal-rmse:0.859467\n",
      "[225]\tTrain-rmse:0.852405\tVal-rmse:0.859322\n",
      "[226]\tTrain-rmse:0.852037\tVal-rmse:0.858966\n",
      "[227]\tTrain-rmse:0.851945\tVal-rmse:0.858921\n",
      "[228]\tTrain-rmse:0.851493\tVal-rmse:0.858448\n",
      "[229]\tTrain-rmse:0.851151\tVal-rmse:0.858134\n",
      "[230]\tTrain-rmse:0.850684\tVal-rmse:0.857648\n",
      "[231]\tTrain-rmse:0.850618\tVal-rmse:0.857623\n",
      "[232]\tTrain-rmse:0.850447\tVal-rmse:0.857476\n",
      "[233]\tTrain-rmse:0.85035\tVal-rmse:0.857409\n",
      "[234]\tTrain-rmse:0.850232\tVal-rmse:0.857321\n",
      "[235]\tTrain-rmse:0.849979\tVal-rmse:0.857099\n",
      "[236]\tTrain-rmse:0.849794\tVal-rmse:0.856925\n",
      "[237]\tTrain-rmse:0.849752\tVal-rmse:0.856918\n",
      "[238]\tTrain-rmse:0.84952\tVal-rmse:0.8567\n",
      "[239]\tTrain-rmse:0.849469\tVal-rmse:0.856683\n",
      "[240]\tTrain-rmse:0.849379\tVal-rmse:0.856613\n",
      "[241]\tTrain-rmse:0.849279\tVal-rmse:0.856535\n",
      "[242]\tTrain-rmse:0.84923\tVal-rmse:0.856496\n",
      "[243]\tTrain-rmse:0.849053\tVal-rmse:0.856348\n",
      "[244]\tTrain-rmse:0.848927\tVal-rmse:0.856241\n",
      "[245]\tTrain-rmse:0.848896\tVal-rmse:0.856222\n",
      "[246]\tTrain-rmse:0.848511\tVal-rmse:0.855873\n",
      "[247]\tTrain-rmse:0.848442\tVal-rmse:0.855822\n",
      "[248]\tTrain-rmse:0.848298\tVal-rmse:0.85573\n",
      "[249]\tTrain-rmse:0.848194\tVal-rmse:0.855656\n",
      "[250]\tTrain-rmse:0.848082\tVal-rmse:0.855587\n",
      "[251]\tTrain-rmse:0.848044\tVal-rmse:0.855567\n",
      "[252]\tTrain-rmse:0.847954\tVal-rmse:0.855552\n",
      "[253]\tTrain-rmse:0.847749\tVal-rmse:0.855374\n",
      "[254]\tTrain-rmse:0.847681\tVal-rmse:0.855319\n",
      "[255]\tTrain-rmse:0.847409\tVal-rmse:0.855071\n",
      "[256]\tTrain-rmse:0.847156\tVal-rmse:0.85484\n",
      "[257]\tTrain-rmse:0.847017\tVal-rmse:0.854716\n",
      "[258]\tTrain-rmse:0.846943\tVal-rmse:0.854664\n",
      "[259]\tTrain-rmse:0.846744\tVal-rmse:0.854491\n",
      "[260]\tTrain-rmse:0.846541\tVal-rmse:0.854298\n",
      "[261]\tTrain-rmse:0.846374\tVal-rmse:0.854173\n",
      "[262]\tTrain-rmse:0.846148\tVal-rmse:0.853977\n",
      "[263]\tTrain-rmse:0.845978\tVal-rmse:0.853859\n",
      "[264]\tTrain-rmse:0.845858\tVal-rmse:0.853755\n",
      "[265]\tTrain-rmse:0.845564\tVal-rmse:0.85347\n",
      "[266]\tTrain-rmse:0.845457\tVal-rmse:0.853372\n",
      "[267]\tTrain-rmse:0.845354\tVal-rmse:0.85329\n",
      "[268]\tTrain-rmse:0.845333\tVal-rmse:0.853286\n",
      "[269]\tTrain-rmse:0.845283\tVal-rmse:0.853242\n",
      "[270]\tTrain-rmse:0.84525\tVal-rmse:0.85322\n",
      "[271]\tTrain-rmse:0.845175\tVal-rmse:0.853151\n",
      "[272]\tTrain-rmse:0.84501\tVal-rmse:0.853008\n",
      "[273]\tTrain-rmse:0.844987\tVal-rmse:0.853003\n",
      "[274]\tTrain-rmse:0.84494\tVal-rmse:0.852973\n",
      "[275]\tTrain-rmse:0.84491\tVal-rmse:0.85295\n",
      "[276]\tTrain-rmse:0.844714\tVal-rmse:0.852791\n",
      "[277]\tTrain-rmse:0.844529\tVal-rmse:0.852643\n",
      "[278]\tTrain-rmse:0.844421\tVal-rmse:0.852556\n",
      "[279]\tTrain-rmse:0.844346\tVal-rmse:0.852485\n",
      "[280]\tTrain-rmse:0.844258\tVal-rmse:0.852412\n",
      "[281]\tTrain-rmse:0.844165\tVal-rmse:0.852333\n",
      "[282]\tTrain-rmse:0.844088\tVal-rmse:0.852281\n",
      "[283]\tTrain-rmse:0.843901\tVal-rmse:0.852187\n",
      "[284]\tTrain-rmse:0.843787\tVal-rmse:0.852081\n",
      "[285]\tTrain-rmse:0.843747\tVal-rmse:0.852049\n",
      "[286]\tTrain-rmse:0.84368\tVal-rmse:0.852005\n",
      "[287]\tTrain-rmse:0.843373\tVal-rmse:0.85175\n",
      "[288]\tTrain-rmse:0.842931\tVal-rmse:0.851278\n",
      "[289]\tTrain-rmse:0.842807\tVal-rmse:0.85117\n",
      "[290]\tTrain-rmse:0.842739\tVal-rmse:0.851134\n",
      "[291]\tTrain-rmse:0.84251\tVal-rmse:0.850921\n",
      "[292]\tTrain-rmse:0.842436\tVal-rmse:0.850879\n",
      "[293]\tTrain-rmse:0.842337\tVal-rmse:0.850794\n",
      "[294]\tTrain-rmse:0.84219\tVal-rmse:0.85068\n",
      "[295]\tTrain-rmse:0.842167\tVal-rmse:0.850677\n",
      "[296]\tTrain-rmse:0.842048\tVal-rmse:0.850591\n",
      "[297]\tTrain-rmse:0.841875\tVal-rmse:0.850452\n",
      "[298]\tTrain-rmse:0.841847\tVal-rmse:0.850445\n",
      "[299]\tTrain-rmse:0.841793\tVal-rmse:0.850413\n",
      "[300]\tTrain-rmse:0.84176\tVal-rmse:0.850388\n",
      "[301]\tTrain-rmse:0.841665\tVal-rmse:0.850323\n",
      "[302]\tTrain-rmse:0.841607\tVal-rmse:0.850281\n",
      "[303]\tTrain-rmse:0.841526\tVal-rmse:0.850222\n",
      "[304]\tTrain-rmse:0.841437\tVal-rmse:0.850179\n",
      "[305]\tTrain-rmse:0.841385\tVal-rmse:0.850154\n",
      "[306]\tTrain-rmse:0.841314\tVal-rmse:0.850098\n",
      "[307]\tTrain-rmse:0.841182\tVal-rmse:0.850009\n",
      "[308]\tTrain-rmse:0.8411\tVal-rmse:0.849949\n",
      "[309]\tTrain-rmse:0.841066\tVal-rmse:0.849937\n",
      "[310]\tTrain-rmse:0.840924\tVal-rmse:0.849824\n",
      "[311]\tTrain-rmse:0.840858\tVal-rmse:0.849796\n",
      "[312]\tTrain-rmse:0.840738\tVal-rmse:0.849686\n",
      "[313]\tTrain-rmse:0.840644\tVal-rmse:0.84962\n",
      "[314]\tTrain-rmse:0.840587\tVal-rmse:0.849581\n",
      "[315]\tTrain-rmse:0.84048\tVal-rmse:0.849511\n",
      "[316]\tTrain-rmse:0.840323\tVal-rmse:0.849359\n",
      "[317]\tTrain-rmse:0.840253\tVal-rmse:0.849319\n",
      "[318]\tTrain-rmse:0.84019\tVal-rmse:0.849298\n",
      "[319]\tTrain-rmse:0.840058\tVal-rmse:0.849197\n",
      "[320]\tTrain-rmse:0.83993\tVal-rmse:0.849085\n",
      "[321]\tTrain-rmse:0.839861\tVal-rmse:0.84905\n",
      "[322]\tTrain-rmse:0.839729\tVal-rmse:0.848974\n",
      "[323]\tTrain-rmse:0.839622\tVal-rmse:0.848884\n",
      "[324]\tTrain-rmse:0.839571\tVal-rmse:0.848842\n",
      "[325]\tTrain-rmse:0.839512\tVal-rmse:0.848805\n",
      "[326]\tTrain-rmse:0.839357\tVal-rmse:0.848701\n",
      "[327]\tTrain-rmse:0.839307\tVal-rmse:0.848671\n",
      "[328]\tTrain-rmse:0.839254\tVal-rmse:0.848634\n",
      "[329]\tTrain-rmse:0.83917\tVal-rmse:0.848573\n",
      "[330]\tTrain-rmse:0.839137\tVal-rmse:0.84858\n",
      "[331]\tTrain-rmse:0.83905\tVal-rmse:0.848518\n",
      "[332]\tTrain-rmse:0.839015\tVal-rmse:0.84849\n",
      "[333]\tTrain-rmse:0.838922\tVal-rmse:0.84842\n",
      "[334]\tTrain-rmse:0.838864\tVal-rmse:0.84836\n",
      "[335]\tTrain-rmse:0.838812\tVal-rmse:0.848333\n",
      "[336]\tTrain-rmse:0.838765\tVal-rmse:0.848298\n",
      "[337]\tTrain-rmse:0.838682\tVal-rmse:0.848243\n",
      "[338]\tTrain-rmse:0.838643\tVal-rmse:0.84823\n",
      "[339]\tTrain-rmse:0.838611\tVal-rmse:0.848217\n",
      "[340]\tTrain-rmse:0.83857\tVal-rmse:0.848197\n",
      "[341]\tTrain-rmse:0.838523\tVal-rmse:0.848188\n",
      "[342]\tTrain-rmse:0.838473\tVal-rmse:0.848157\n",
      "[343]\tTrain-rmse:0.838356\tVal-rmse:0.848049\n",
      "[344]\tTrain-rmse:0.838274\tVal-rmse:0.847998\n",
      "[345]\tTrain-rmse:0.838141\tVal-rmse:0.847897\n",
      "[346]\tTrain-rmse:0.838003\tVal-rmse:0.847775\n",
      "[347]\tTrain-rmse:0.8377\tVal-rmse:0.847538\n",
      "[348]\tTrain-rmse:0.837543\tVal-rmse:0.847381\n",
      "[349]\tTrain-rmse:0.837467\tVal-rmse:0.847315\n",
      "[350]\tTrain-rmse:0.837403\tVal-rmse:0.847265\n",
      "[351]\tTrain-rmse:0.837351\tVal-rmse:0.847251\n",
      "[352]\tTrain-rmse:0.837304\tVal-rmse:0.847241\n",
      "[353]\tTrain-rmse:0.837211\tVal-rmse:0.84715\n",
      "[354]\tTrain-rmse:0.837141\tVal-rmse:0.847114\n",
      "[355]\tTrain-rmse:0.837051\tVal-rmse:0.847044\n",
      "[356]\tTrain-rmse:0.836954\tVal-rmse:0.846951\n",
      "[357]\tTrain-rmse:0.836915\tVal-rmse:0.846944\n",
      "[358]\tTrain-rmse:0.836891\tVal-rmse:0.846942\n",
      "[359]\tTrain-rmse:0.836842\tVal-rmse:0.846918\n",
      "[360]\tTrain-rmse:0.836798\tVal-rmse:0.846897\n",
      "[361]\tTrain-rmse:0.83665\tVal-rmse:0.846783\n",
      "[362]\tTrain-rmse:0.836594\tVal-rmse:0.84675\n",
      "[363]\tTrain-rmse:0.83653\tVal-rmse:0.846706\n",
      "[364]\tTrain-rmse:0.836454\tVal-rmse:0.846651\n",
      "[365]\tTrain-rmse:0.836414\tVal-rmse:0.84663\n",
      "[366]\tTrain-rmse:0.83625\tVal-rmse:0.846496\n",
      "[367]\tTrain-rmse:0.836197\tVal-rmse:0.846476\n",
      "[368]\tTrain-rmse:0.836169\tVal-rmse:0.846462\n",
      "[369]\tTrain-rmse:0.836149\tVal-rmse:0.846461\n",
      "[370]\tTrain-rmse:0.836103\tVal-rmse:0.846445\n",
      "[371]\tTrain-rmse:0.83603\tVal-rmse:0.846383\n"
     ]
    },
    {
     "name": "stdout",
     "output_type": "stream",
     "text": [
      "[372]\tTrain-rmse:0.835987\tVal-rmse:0.846349\n",
      "[373]\tTrain-rmse:0.835908\tVal-rmse:0.846286\n",
      "[374]\tTrain-rmse:0.835808\tVal-rmse:0.846203\n",
      "[375]\tTrain-rmse:0.835717\tVal-rmse:0.846121\n",
      "[376]\tTrain-rmse:0.835629\tVal-rmse:0.846044\n",
      "[377]\tTrain-rmse:0.835529\tVal-rmse:0.845978\n",
      "[378]\tTrain-rmse:0.835431\tVal-rmse:0.8459\n",
      "[379]\tTrain-rmse:0.835396\tVal-rmse:0.845879\n",
      "[380]\tTrain-rmse:0.835328\tVal-rmse:0.845827\n",
      "[381]\tTrain-rmse:0.835307\tVal-rmse:0.845821\n",
      "[382]\tTrain-rmse:0.834948\tVal-rmse:0.845454\n",
      "[383]\tTrain-rmse:0.834851\tVal-rmse:0.845393\n",
      "[384]\tTrain-rmse:0.834803\tVal-rmse:0.84536\n",
      "[385]\tTrain-rmse:0.834569\tVal-rmse:0.84517\n",
      "[386]\tTrain-rmse:0.83427\tVal-rmse:0.844859\n",
      "[387]\tTrain-rmse:0.834174\tVal-rmse:0.844772\n",
      "[388]\tTrain-rmse:0.834106\tVal-rmse:0.844725\n",
      "[389]\tTrain-rmse:0.834087\tVal-rmse:0.844717\n",
      "[390]\tTrain-rmse:0.834012\tVal-rmse:0.844681\n",
      "[391]\tTrain-rmse:0.833979\tVal-rmse:0.844676\n",
      "[392]\tTrain-rmse:0.833906\tVal-rmse:0.844624\n",
      "[393]\tTrain-rmse:0.833828\tVal-rmse:0.844576\n",
      "[394]\tTrain-rmse:0.833754\tVal-rmse:0.844522\n",
      "[395]\tTrain-rmse:0.83369\tVal-rmse:0.844486\n",
      "[396]\tTrain-rmse:0.833577\tVal-rmse:0.844402\n",
      "[397]\tTrain-rmse:0.833518\tVal-rmse:0.844367\n",
      "[398]\tTrain-rmse:0.833496\tVal-rmse:0.844353\n",
      "[399]\tTrain-rmse:0.833401\tVal-rmse:0.844284\n",
      "[400]\tTrain-rmse:0.833335\tVal-rmse:0.844215\n",
      "[401]\tTrain-rmse:0.833318\tVal-rmse:0.844216\n",
      "[402]\tTrain-rmse:0.833291\tVal-rmse:0.844205\n",
      "[403]\tTrain-rmse:0.832826\tVal-rmse:0.843711\n",
      "[404]\tTrain-rmse:0.832774\tVal-rmse:0.843682\n",
      "[405]\tTrain-rmse:0.832677\tVal-rmse:0.843611\n",
      "[406]\tTrain-rmse:0.832503\tVal-rmse:0.843461\n",
      "[407]\tTrain-rmse:0.832465\tVal-rmse:0.843449\n",
      "[408]\tTrain-rmse:0.832352\tVal-rmse:0.843343\n",
      "[409]\tTrain-rmse:0.832321\tVal-rmse:0.843328\n",
      "[410]\tTrain-rmse:0.832264\tVal-rmse:0.843283\n",
      "[411]\tTrain-rmse:0.832177\tVal-rmse:0.843208\n",
      "[412]\tTrain-rmse:0.832124\tVal-rmse:0.843167\n",
      "[413]\tTrain-rmse:0.832077\tVal-rmse:0.843127\n",
      "[414]\tTrain-rmse:0.832004\tVal-rmse:0.84306\n",
      "[415]\tTrain-rmse:0.831846\tVal-rmse:0.842908\n",
      "[416]\tTrain-rmse:0.83172\tVal-rmse:0.8428\n",
      "[417]\tTrain-rmse:0.831488\tVal-rmse:0.842604\n",
      "[418]\tTrain-rmse:0.831408\tVal-rmse:0.84257\n",
      "[419]\tTrain-rmse:0.83135\tVal-rmse:0.842537\n",
      "[420]\tTrain-rmse:0.831299\tVal-rmse:0.842509\n",
      "[421]\tTrain-rmse:0.831171\tVal-rmse:0.842409\n",
      "[422]\tTrain-rmse:0.83076\tVal-rmse:0.842056\n",
      "[423]\tTrain-rmse:0.830671\tVal-rmse:0.841986\n",
      "[424]\tTrain-rmse:0.83056\tVal-rmse:0.841872\n",
      "[425]\tTrain-rmse:0.830474\tVal-rmse:0.841792\n",
      "[426]\tTrain-rmse:0.830449\tVal-rmse:0.841788\n",
      "[427]\tTrain-rmse:0.830379\tVal-rmse:0.841757\n",
      "[428]\tTrain-rmse:0.830307\tVal-rmse:0.841698\n",
      "[429]\tTrain-rmse:0.830229\tVal-rmse:0.84161\n",
      "[430]\tTrain-rmse:0.830181\tVal-rmse:0.841588\n",
      "[431]\tTrain-rmse:0.830167\tVal-rmse:0.841585\n",
      "[432]\tTrain-rmse:0.829705\tVal-rmse:0.841131\n",
      "[433]\tTrain-rmse:0.82966\tVal-rmse:0.841098\n",
      "[434]\tTrain-rmse:0.82953\tVal-rmse:0.840973\n",
      "[435]\tTrain-rmse:0.829481\tVal-rmse:0.840942\n",
      "[436]\tTrain-rmse:0.829453\tVal-rmse:0.840941\n",
      "[437]\tTrain-rmse:0.82935\tVal-rmse:0.840878\n",
      "[438]\tTrain-rmse:0.829178\tVal-rmse:0.840786\n",
      "[439]\tTrain-rmse:0.829129\tVal-rmse:0.84076\n",
      "[440]\tTrain-rmse:0.829103\tVal-rmse:0.840761\n",
      "[441]\tTrain-rmse:0.829085\tVal-rmse:0.840762\n",
      "[442]\tTrain-rmse:0.829051\tVal-rmse:0.840751\n",
      "[443]\tTrain-rmse:0.828992\tVal-rmse:0.840714\n",
      "[444]\tTrain-rmse:0.828951\tVal-rmse:0.840689\n",
      "[445]\tTrain-rmse:0.828881\tVal-rmse:0.840654\n",
      "[446]\tTrain-rmse:0.828839\tVal-rmse:0.84062\n",
      "[447]\tTrain-rmse:0.828667\tVal-rmse:0.840475\n",
      "[448]\tTrain-rmse:0.828606\tVal-rmse:0.840449\n",
      "[449]\tTrain-rmse:0.828548\tVal-rmse:0.84041\n",
      "[450]\tTrain-rmse:0.828512\tVal-rmse:0.840406\n",
      "[451]\tTrain-rmse:0.828447\tVal-rmse:0.840371\n",
      "[452]\tTrain-rmse:0.828412\tVal-rmse:0.840357\n",
      "[453]\tTrain-rmse:0.828346\tVal-rmse:0.840319\n",
      "[454]\tTrain-rmse:0.828019\tVal-rmse:0.840017\n",
      "[455]\tTrain-rmse:0.827988\tVal-rmse:0.839995\n",
      "[456]\tTrain-rmse:0.827929\tVal-rmse:0.839947\n",
      "[457]\tTrain-rmse:0.827899\tVal-rmse:0.839947\n",
      "[458]\tTrain-rmse:0.827752\tVal-rmse:0.839817\n",
      "[459]\tTrain-rmse:0.827679\tVal-rmse:0.839755\n",
      "[460]\tTrain-rmse:0.827524\tVal-rmse:0.839597\n",
      "[461]\tTrain-rmse:0.827478\tVal-rmse:0.83957\n",
      "[462]\tTrain-rmse:0.827418\tVal-rmse:0.839521\n",
      "[463]\tTrain-rmse:0.826789\tVal-rmse:0.838832\n",
      "[464]\tTrain-rmse:0.826778\tVal-rmse:0.838826\n",
      "[465]\tTrain-rmse:0.826757\tVal-rmse:0.838823\n",
      "[466]\tTrain-rmse:0.826696\tVal-rmse:0.838774\n",
      "[467]\tTrain-rmse:0.826645\tVal-rmse:0.838742\n",
      "[468]\tTrain-rmse:0.826601\tVal-rmse:0.838713\n",
      "[469]\tTrain-rmse:0.826442\tVal-rmse:0.838595\n",
      "[470]\tTrain-rmse:0.826377\tVal-rmse:0.838554\n",
      "[471]\tTrain-rmse:0.826336\tVal-rmse:0.838524\n",
      "[472]\tTrain-rmse:0.826303\tVal-rmse:0.838509\n",
      "[473]\tTrain-rmse:0.826241\tVal-rmse:0.838478\n",
      "[474]\tTrain-rmse:0.826074\tVal-rmse:0.838287\n",
      "[475]\tTrain-rmse:0.826046\tVal-rmse:0.838283\n",
      "[476]\tTrain-rmse:0.825904\tVal-rmse:0.838148\n",
      "[477]\tTrain-rmse:0.82587\tVal-rmse:0.838131\n",
      "[478]\tTrain-rmse:0.825851\tVal-rmse:0.838125\n",
      "[479]\tTrain-rmse:0.825643\tVal-rmse:0.837949\n",
      "[480]\tTrain-rmse:0.82558\tVal-rmse:0.837927\n",
      "[481]\tTrain-rmse:0.825537\tVal-rmse:0.837925\n",
      "[482]\tTrain-rmse:0.825479\tVal-rmse:0.837895\n",
      "[483]\tTrain-rmse:0.825442\tVal-rmse:0.837897\n",
      "[484]\tTrain-rmse:0.825393\tVal-rmse:0.837879\n",
      "[485]\tTrain-rmse:0.825318\tVal-rmse:0.837828\n",
      "[486]\tTrain-rmse:0.825281\tVal-rmse:0.837805\n",
      "[487]\tTrain-rmse:0.825269\tVal-rmse:0.837808\n",
      "[488]\tTrain-rmse:0.825213\tVal-rmse:0.837762\n",
      "[489]\tTrain-rmse:0.825162\tVal-rmse:0.837732\n",
      "[490]\tTrain-rmse:0.82503\tVal-rmse:0.837611\n",
      "[491]\tTrain-rmse:0.824958\tVal-rmse:0.837571\n",
      "[492]\tTrain-rmse:0.82492\tVal-rmse:0.837555\n",
      "[493]\tTrain-rmse:0.824893\tVal-rmse:0.837539\n",
      "[494]\tTrain-rmse:0.824634\tVal-rmse:0.837284\n",
      "[495]\tTrain-rmse:0.824495\tVal-rmse:0.837176\n",
      "[496]\tTrain-rmse:0.824447\tVal-rmse:0.837161\n",
      "[497]\tTrain-rmse:0.824371\tVal-rmse:0.837113\n",
      "[498]\tTrain-rmse:0.824298\tVal-rmse:0.837067\n",
      "[499]\tTrain-rmse:0.8242\tVal-rmse:0.837004\n",
      "[500]\tTrain-rmse:0.824096\tVal-rmse:0.83693\n",
      "[501]\tTrain-rmse:0.824036\tVal-rmse:0.836897\n",
      "[502]\tTrain-rmse:0.823987\tVal-rmse:0.83687\n",
      "[503]\tTrain-rmse:0.823802\tVal-rmse:0.836721\n",
      "[504]\tTrain-rmse:0.823709\tVal-rmse:0.836655\n",
      "[505]\tTrain-rmse:0.823636\tVal-rmse:0.836598\n",
      "[506]\tTrain-rmse:0.823564\tVal-rmse:0.836547\n",
      "[507]\tTrain-rmse:0.823373\tVal-rmse:0.836398\n",
      "[508]\tTrain-rmse:0.823311\tVal-rmse:0.836351\n",
      "[509]\tTrain-rmse:0.823252\tVal-rmse:0.836309\n",
      "[510]\tTrain-rmse:0.823157\tVal-rmse:0.836214\n",
      "[511]\tTrain-rmse:0.823039\tVal-rmse:0.836112\n",
      "[512]\tTrain-rmse:0.822965\tVal-rmse:0.836065\n",
      "[513]\tTrain-rmse:0.822873\tVal-rmse:0.835972\n",
      "[514]\tTrain-rmse:0.822782\tVal-rmse:0.835895\n",
      "[515]\tTrain-rmse:0.822554\tVal-rmse:0.835643\n",
      "[516]\tTrain-rmse:0.822459\tVal-rmse:0.835567\n",
      "[517]\tTrain-rmse:0.822342\tVal-rmse:0.835449\n",
      "[518]\tTrain-rmse:0.822294\tVal-rmse:0.835429\n",
      "[519]\tTrain-rmse:0.822272\tVal-rmse:0.835432\n",
      "[520]\tTrain-rmse:0.82223\tVal-rmse:0.835423\n",
      "[521]\tTrain-rmse:0.822178\tVal-rmse:0.835412\n",
      "[522]\tTrain-rmse:0.82199\tVal-rmse:0.835219\n",
      "[523]\tTrain-rmse:0.82197\tVal-rmse:0.835205\n",
      "[524]\tTrain-rmse:0.821902\tVal-rmse:0.835167\n",
      "[525]\tTrain-rmse:0.821875\tVal-rmse:0.835166\n",
      "[526]\tTrain-rmse:0.821818\tVal-rmse:0.835119\n",
      "[527]\tTrain-rmse:0.821753\tVal-rmse:0.835086\n",
      "[528]\tTrain-rmse:0.82166\tVal-rmse:0.834991\n",
      "[529]\tTrain-rmse:0.821618\tVal-rmse:0.834977\n",
      "[530]\tTrain-rmse:0.821564\tVal-rmse:0.834943\n",
      "[531]\tTrain-rmse:0.821541\tVal-rmse:0.834938\n",
      "[532]\tTrain-rmse:0.821531\tVal-rmse:0.834943\n",
      "[533]\tTrain-rmse:0.821482\tVal-rmse:0.834906\n",
      "[534]\tTrain-rmse:0.821453\tVal-rmse:0.834894\n",
      "[535]\tTrain-rmse:0.821312\tVal-rmse:0.834752\n",
      "[536]\tTrain-rmse:0.821269\tVal-rmse:0.83472\n",
      "[537]\tTrain-rmse:0.821213\tVal-rmse:0.834674\n",
      "[538]\tTrain-rmse:0.821194\tVal-rmse:0.834675\n",
      "[539]\tTrain-rmse:0.821174\tVal-rmse:0.834671\n",
      "[540]\tTrain-rmse:0.821111\tVal-rmse:0.834618\n",
      "[541]\tTrain-rmse:0.821073\tVal-rmse:0.834602\n",
      "[542]\tTrain-rmse:0.821025\tVal-rmse:0.834565\n",
      "[543]\tTrain-rmse:0.820969\tVal-rmse:0.834537\n",
      "[544]\tTrain-rmse:0.82091\tVal-rmse:0.8345\n",
      "[545]\tTrain-rmse:0.820869\tVal-rmse:0.834491\n",
      "[546]\tTrain-rmse:0.820837\tVal-rmse:0.834477\n",
      "[547]\tTrain-rmse:0.820755\tVal-rmse:0.834437\n",
      "[548]\tTrain-rmse:0.820718\tVal-rmse:0.834438\n",
      "[549]\tTrain-rmse:0.820693\tVal-rmse:0.834433\n",
      "[550]\tTrain-rmse:0.820668\tVal-rmse:0.834436\n",
      "[551]\tTrain-rmse:0.820645\tVal-rmse:0.834428\n",
      "[552]\tTrain-rmse:0.820621\tVal-rmse:0.834426\n",
      "[553]\tTrain-rmse:0.820562\tVal-rmse:0.834376\n",
      "[554]\tTrain-rmse:0.820514\tVal-rmse:0.834333\n",
      "[555]\tTrain-rmse:0.820454\tVal-rmse:0.83428\n",
      "[556]\tTrain-rmse:0.820365\tVal-rmse:0.834204\n",
      "[557]\tTrain-rmse:0.82033\tVal-rmse:0.834181\n",
      "[558]\tTrain-rmse:0.820281\tVal-rmse:0.834155\n",
      "[559]\tTrain-rmse:0.820005\tVal-rmse:0.833892\n"
     ]
    },
    {
     "name": "stdout",
     "output_type": "stream",
     "text": [
      "[560]\tTrain-rmse:0.819974\tVal-rmse:0.833888\n",
      "[561]\tTrain-rmse:0.819961\tVal-rmse:0.833885\n",
      "[562]\tTrain-rmse:0.819835\tVal-rmse:0.833786\n",
      "[563]\tTrain-rmse:0.819807\tVal-rmse:0.833774\n",
      "[564]\tTrain-rmse:0.819752\tVal-rmse:0.833772\n",
      "[565]\tTrain-rmse:0.819635\tVal-rmse:0.833682\n",
      "[566]\tTrain-rmse:0.81957\tVal-rmse:0.833635\n",
      "[567]\tTrain-rmse:0.819293\tVal-rmse:0.833378\n",
      "[568]\tTrain-rmse:0.819048\tVal-rmse:0.833179\n",
      "[569]\tTrain-rmse:0.819018\tVal-rmse:0.833166\n",
      "[570]\tTrain-rmse:0.818984\tVal-rmse:0.833172\n",
      "[571]\tTrain-rmse:0.818957\tVal-rmse:0.833162\n",
      "[572]\tTrain-rmse:0.818887\tVal-rmse:0.833123\n",
      "[573]\tTrain-rmse:0.818841\tVal-rmse:0.833096\n",
      "[574]\tTrain-rmse:0.818816\tVal-rmse:0.833093\n",
      "[575]\tTrain-rmse:0.818783\tVal-rmse:0.833074\n",
      "[576]\tTrain-rmse:0.818709\tVal-rmse:0.833023\n",
      "[577]\tTrain-rmse:0.818659\tVal-rmse:0.832997\n",
      "[578]\tTrain-rmse:0.818634\tVal-rmse:0.832984\n",
      "[579]\tTrain-rmse:0.818547\tVal-rmse:0.832904\n",
      "[580]\tTrain-rmse:0.818473\tVal-rmse:0.832859\n",
      "[581]\tTrain-rmse:0.81844\tVal-rmse:0.832856\n",
      "[582]\tTrain-rmse:0.818222\tVal-rmse:0.832655\n",
      "[583]\tTrain-rmse:0.818187\tVal-rmse:0.832637\n",
      "[584]\tTrain-rmse:0.818157\tVal-rmse:0.832635\n",
      "[585]\tTrain-rmse:0.818114\tVal-rmse:0.832603\n",
      "[586]\tTrain-rmse:0.818075\tVal-rmse:0.832589\n",
      "[587]\tTrain-rmse:0.818005\tVal-rmse:0.832534\n",
      "[588]\tTrain-rmse:0.817974\tVal-rmse:0.832521\n",
      "[589]\tTrain-rmse:0.817921\tVal-rmse:0.832489\n",
      "[590]\tTrain-rmse:0.817881\tVal-rmse:0.83248\n",
      "[591]\tTrain-rmse:0.817849\tVal-rmse:0.832466\n",
      "[592]\tTrain-rmse:0.817821\tVal-rmse:0.832456\n",
      "[593]\tTrain-rmse:0.817793\tVal-rmse:0.832446\n",
      "[594]\tTrain-rmse:0.817762\tVal-rmse:0.832443\n",
      "[595]\tTrain-rmse:0.817713\tVal-rmse:0.832406\n",
      "[596]\tTrain-rmse:0.817687\tVal-rmse:0.832408\n",
      "[597]\tTrain-rmse:0.81767\tVal-rmse:0.832404\n",
      "[598]\tTrain-rmse:0.817609\tVal-rmse:0.832372\n",
      "[599]\tTrain-rmse:0.817504\tVal-rmse:0.832291\n",
      "[600]\tTrain-rmse:0.817457\tVal-rmse:0.832267\n",
      "[601]\tTrain-rmse:0.817426\tVal-rmse:0.832247\n",
      "[602]\tTrain-rmse:0.817383\tVal-rmse:0.832229\n",
      "[603]\tTrain-rmse:0.817297\tVal-rmse:0.832192\n",
      "[604]\tTrain-rmse:0.817233\tVal-rmse:0.832151\n",
      "[605]\tTrain-rmse:0.817155\tVal-rmse:0.832091\n",
      "[606]\tTrain-rmse:0.817086\tVal-rmse:0.832026\n",
      "[607]\tTrain-rmse:0.816991\tVal-rmse:0.831969\n",
      "[608]\tTrain-rmse:0.81684\tVal-rmse:0.831809\n",
      "[609]\tTrain-rmse:0.816792\tVal-rmse:0.831773\n",
      "[610]\tTrain-rmse:0.816728\tVal-rmse:0.831725\n",
      "[611]\tTrain-rmse:0.816713\tVal-rmse:0.831724\n",
      "[612]\tTrain-rmse:0.816618\tVal-rmse:0.831643\n",
      "[613]\tTrain-rmse:0.816533\tVal-rmse:0.831578\n",
      "[614]\tTrain-rmse:0.81648\tVal-rmse:0.831549\n",
      "[615]\tTrain-rmse:0.816413\tVal-rmse:0.8315\n",
      "[616]\tTrain-rmse:0.81638\tVal-rmse:0.831476\n",
      "[617]\tTrain-rmse:0.816268\tVal-rmse:0.831365\n",
      "[618]\tTrain-rmse:0.816225\tVal-rmse:0.831329\n",
      "[619]\tTrain-rmse:0.816182\tVal-rmse:0.831308\n",
      "[620]\tTrain-rmse:0.816082\tVal-rmse:0.831231\n",
      "[621]\tTrain-rmse:0.816045\tVal-rmse:0.831213\n",
      "[622]\tTrain-rmse:0.815914\tVal-rmse:0.831102\n",
      "[623]\tTrain-rmse:0.815833\tVal-rmse:0.831041\n",
      "[624]\tTrain-rmse:0.815818\tVal-rmse:0.831038\n",
      "[625]\tTrain-rmse:0.815706\tVal-rmse:0.83094\n",
      "[626]\tTrain-rmse:0.815658\tVal-rmse:0.830915\n",
      "[627]\tTrain-rmse:0.815629\tVal-rmse:0.830902\n",
      "[628]\tTrain-rmse:0.81561\tVal-rmse:0.830894\n",
      "[629]\tTrain-rmse:0.815529\tVal-rmse:0.830827\n",
      "[630]\tTrain-rmse:0.815498\tVal-rmse:0.830812\n",
      "[631]\tTrain-rmse:0.815422\tVal-rmse:0.830751\n",
      "[632]\tTrain-rmse:0.815391\tVal-rmse:0.830741\n",
      "[633]\tTrain-rmse:0.815314\tVal-rmse:0.830683\n",
      "[634]\tTrain-rmse:0.815219\tVal-rmse:0.830593\n",
      "[635]\tTrain-rmse:0.815112\tVal-rmse:0.830489\n",
      "[636]\tTrain-rmse:0.815001\tVal-rmse:0.830391\n",
      "[637]\tTrain-rmse:0.814964\tVal-rmse:0.830372\n",
      "[638]\tTrain-rmse:0.814939\tVal-rmse:0.830359\n",
      "[639]\tTrain-rmse:0.814912\tVal-rmse:0.830353\n",
      "[640]\tTrain-rmse:0.814875\tVal-rmse:0.830347\n",
      "[641]\tTrain-rmse:0.814712\tVal-rmse:0.830194\n",
      "[642]\tTrain-rmse:0.814661\tVal-rmse:0.830167\n",
      "[643]\tTrain-rmse:0.814636\tVal-rmse:0.830169\n",
      "[644]\tTrain-rmse:0.814552\tVal-rmse:0.830108\n",
      "[645]\tTrain-rmse:0.814496\tVal-rmse:0.830071\n",
      "[646]\tTrain-rmse:0.814467\tVal-rmse:0.830056\n",
      "[647]\tTrain-rmse:0.814404\tVal-rmse:0.830009\n",
      "[648]\tTrain-rmse:0.814362\tVal-rmse:0.829978\n",
      "[649]\tTrain-rmse:0.814314\tVal-rmse:0.829949\n",
      "[650]\tTrain-rmse:0.814257\tVal-rmse:0.829897\n",
      "[651]\tTrain-rmse:0.814215\tVal-rmse:0.829881\n",
      "[652]\tTrain-rmse:0.814175\tVal-rmse:0.82986\n",
      "[653]\tTrain-rmse:0.814131\tVal-rmse:0.829839\n",
      "[654]\tTrain-rmse:0.814078\tVal-rmse:0.829792\n",
      "[655]\tTrain-rmse:0.814017\tVal-rmse:0.829742\n",
      "[656]\tTrain-rmse:0.813931\tVal-rmse:0.829675\n",
      "[657]\tTrain-rmse:0.813894\tVal-rmse:0.82966\n",
      "[658]\tTrain-rmse:0.813879\tVal-rmse:0.829655\n",
      "[659]\tTrain-rmse:0.81381\tVal-rmse:0.829608\n",
      "[660]\tTrain-rmse:0.813719\tVal-rmse:0.829527\n",
      "[661]\tTrain-rmse:0.813673\tVal-rmse:0.829496\n",
      "[662]\tTrain-rmse:0.813653\tVal-rmse:0.829488\n",
      "[663]\tTrain-rmse:0.813605\tVal-rmse:0.829465\n",
      "[664]\tTrain-rmse:0.81358\tVal-rmse:0.829444\n",
      "[665]\tTrain-rmse:0.81353\tVal-rmse:0.829419\n",
      "[666]\tTrain-rmse:0.813501\tVal-rmse:0.82941\n",
      "[667]\tTrain-rmse:0.813463\tVal-rmse:0.829395\n",
      "[668]\tTrain-rmse:0.813414\tVal-rmse:0.82937\n",
      "[669]\tTrain-rmse:0.813347\tVal-rmse:0.829328\n",
      "[670]\tTrain-rmse:0.813308\tVal-rmse:0.829313\n",
      "[671]\tTrain-rmse:0.813261\tVal-rmse:0.829305\n",
      "[672]\tTrain-rmse:0.81322\tVal-rmse:0.829274\n",
      "[673]\tTrain-rmse:0.813185\tVal-rmse:0.829254\n",
      "[674]\tTrain-rmse:0.813152\tVal-rmse:0.829237\n",
      "[675]\tTrain-rmse:0.813092\tVal-rmse:0.8292\n",
      "[676]\tTrain-rmse:0.812997\tVal-rmse:0.829128\n",
      "[677]\tTrain-rmse:0.812982\tVal-rmse:0.829132\n",
      "[678]\tTrain-rmse:0.812907\tVal-rmse:0.829082\n",
      "[679]\tTrain-rmse:0.812851\tVal-rmse:0.829058\n",
      "[680]\tTrain-rmse:0.812575\tVal-rmse:0.828835\n",
      "[681]\tTrain-rmse:0.81256\tVal-rmse:0.828834\n",
      "[682]\tTrain-rmse:0.812381\tVal-rmse:0.828625\n",
      "[683]\tTrain-rmse:0.812342\tVal-rmse:0.828601\n",
      "[684]\tTrain-rmse:0.812278\tVal-rmse:0.82856\n",
      "[685]\tTrain-rmse:0.812247\tVal-rmse:0.828543\n",
      "[686]\tTrain-rmse:0.812224\tVal-rmse:0.828543\n",
      "[687]\tTrain-rmse:0.8122\tVal-rmse:0.828539\n",
      "[688]\tTrain-rmse:0.812153\tVal-rmse:0.828516\n",
      "[689]\tTrain-rmse:0.812124\tVal-rmse:0.828498\n",
      "[690]\tTrain-rmse:0.812092\tVal-rmse:0.828471\n",
      "[691]\tTrain-rmse:0.81203\tVal-rmse:0.828425\n",
      "[692]\tTrain-rmse:0.812016\tVal-rmse:0.828425\n",
      "[693]\tTrain-rmse:0.812\tVal-rmse:0.828418\n",
      "[694]\tTrain-rmse:0.811861\tVal-rmse:0.828287\n",
      "[695]\tTrain-rmse:0.811778\tVal-rmse:0.828207\n",
      "[696]\tTrain-rmse:0.81175\tVal-rmse:0.82819\n",
      "[697]\tTrain-rmse:0.811699\tVal-rmse:0.828146\n",
      "[698]\tTrain-rmse:0.811652\tVal-rmse:0.828104\n",
      "[699]\tTrain-rmse:0.811622\tVal-rmse:0.828086\n",
      "[700]\tTrain-rmse:0.8116\tVal-rmse:0.828071\n",
      "[701]\tTrain-rmse:0.811559\tVal-rmse:0.828037\n",
      "[702]\tTrain-rmse:0.811396\tVal-rmse:0.827922\n",
      "[703]\tTrain-rmse:0.811217\tVal-rmse:0.827723\n",
      "[704]\tTrain-rmse:0.811163\tVal-rmse:0.827693\n",
      "[705]\tTrain-rmse:0.811131\tVal-rmse:0.82767\n",
      "[706]\tTrain-rmse:0.811086\tVal-rmse:0.82764\n",
      "[707]\tTrain-rmse:0.811073\tVal-rmse:0.827643\n",
      "[708]\tTrain-rmse:0.811012\tVal-rmse:0.827602\n",
      "[709]\tTrain-rmse:0.810986\tVal-rmse:0.827586\n",
      "[710]\tTrain-rmse:0.810949\tVal-rmse:0.827566\n",
      "[711]\tTrain-rmse:0.81069\tVal-rmse:0.827265\n",
      "[712]\tTrain-rmse:0.81063\tVal-rmse:0.82721\n",
      "[713]\tTrain-rmse:0.810616\tVal-rmse:0.827208\n",
      "[714]\tTrain-rmse:0.810564\tVal-rmse:0.827187\n",
      "[715]\tTrain-rmse:0.810536\tVal-rmse:0.827172\n",
      "[716]\tTrain-rmse:0.810492\tVal-rmse:0.827151\n",
      "[717]\tTrain-rmse:0.81045\tVal-rmse:0.827143\n",
      "[718]\tTrain-rmse:0.810437\tVal-rmse:0.827141\n",
      "[719]\tTrain-rmse:0.810417\tVal-rmse:0.82714\n",
      "[720]\tTrain-rmse:0.810403\tVal-rmse:0.827137\n",
      "[721]\tTrain-rmse:0.810362\tVal-rmse:0.82712\n",
      "[722]\tTrain-rmse:0.810327\tVal-rmse:0.827106\n",
      "[723]\tTrain-rmse:0.810292\tVal-rmse:0.827083\n",
      "[724]\tTrain-rmse:0.810266\tVal-rmse:0.827074\n",
      "[725]\tTrain-rmse:0.810175\tVal-rmse:0.826987\n",
      "[726]\tTrain-rmse:0.810148\tVal-rmse:0.826973\n",
      "[727]\tTrain-rmse:0.8101\tVal-rmse:0.826949\n",
      "[728]\tTrain-rmse:0.810048\tVal-rmse:0.826923\n",
      "[729]\tTrain-rmse:0.810008\tVal-rmse:0.826902\n",
      "[730]\tTrain-rmse:0.80997\tVal-rmse:0.826886\n",
      "[731]\tTrain-rmse:0.809955\tVal-rmse:0.826881\n",
      "[732]\tTrain-rmse:0.809941\tVal-rmse:0.82687\n",
      "[733]\tTrain-rmse:0.80991\tVal-rmse:0.826853\n",
      "[734]\tTrain-rmse:0.80986\tVal-rmse:0.826831\n",
      "[735]\tTrain-rmse:0.809845\tVal-rmse:0.826824\n",
      "[736]\tTrain-rmse:0.809814\tVal-rmse:0.826799\n",
      "[737]\tTrain-rmse:0.809793\tVal-rmse:0.826792\n",
      "[738]\tTrain-rmse:0.80976\tVal-rmse:0.826785\n",
      "[739]\tTrain-rmse:0.80974\tVal-rmse:0.826777\n",
      "[740]\tTrain-rmse:0.809664\tVal-rmse:0.826711\n",
      "[741]\tTrain-rmse:0.809618\tVal-rmse:0.826677\n",
      "[742]\tTrain-rmse:0.809593\tVal-rmse:0.826674\n",
      "[743]\tTrain-rmse:0.809578\tVal-rmse:0.826666\n",
      "[744]\tTrain-rmse:0.809525\tVal-rmse:0.826642\n",
      "[745]\tTrain-rmse:0.809442\tVal-rmse:0.82656\n",
      "[746]\tTrain-rmse:0.809407\tVal-rmse:0.826549\n",
      "[747]\tTrain-rmse:0.809361\tVal-rmse:0.826531\n"
     ]
    },
    {
     "name": "stdout",
     "output_type": "stream",
     "text": [
      "[748]\tTrain-rmse:0.809242\tVal-rmse:0.826402\n",
      "[749]\tTrain-rmse:0.80922\tVal-rmse:0.826393\n",
      "[750]\tTrain-rmse:0.809197\tVal-rmse:0.826383\n",
      "[751]\tTrain-rmse:0.809136\tVal-rmse:0.826339\n",
      "[752]\tTrain-rmse:0.809112\tVal-rmse:0.826328\n",
      "[753]\tTrain-rmse:0.808951\tVal-rmse:0.826166\n",
      "[754]\tTrain-rmse:0.808938\tVal-rmse:0.826166\n",
      "[755]\tTrain-rmse:0.808886\tVal-rmse:0.826146\n",
      "[756]\tTrain-rmse:0.808829\tVal-rmse:0.826087\n",
      "[757]\tTrain-rmse:0.80881\tVal-rmse:0.826088\n",
      "[758]\tTrain-rmse:0.808768\tVal-rmse:0.826062\n",
      "[759]\tTrain-rmse:0.808755\tVal-rmse:0.826055\n",
      "[760]\tTrain-rmse:0.808723\tVal-rmse:0.826036\n",
      "[761]\tTrain-rmse:0.808674\tVal-rmse:0.825992\n",
      "[762]\tTrain-rmse:0.808632\tVal-rmse:0.825958\n",
      "[763]\tTrain-rmse:0.808521\tVal-rmse:0.825852\n",
      "[764]\tTrain-rmse:0.808508\tVal-rmse:0.825843\n",
      "[765]\tTrain-rmse:0.808457\tVal-rmse:0.825816\n",
      "[766]\tTrain-rmse:0.808418\tVal-rmse:0.825798\n",
      "[767]\tTrain-rmse:0.808354\tVal-rmse:0.825744\n",
      "[768]\tTrain-rmse:0.808255\tVal-rmse:0.825655\n",
      "[769]\tTrain-rmse:0.808061\tVal-rmse:0.825441\n",
      "[770]\tTrain-rmse:0.808038\tVal-rmse:0.82542\n",
      "[771]\tTrain-rmse:0.808013\tVal-rmse:0.82541\n",
      "[772]\tTrain-rmse:0.807992\tVal-rmse:0.825396\n",
      "[773]\tTrain-rmse:0.807949\tVal-rmse:0.825367\n",
      "[774]\tTrain-rmse:0.807932\tVal-rmse:0.825357\n",
      "[775]\tTrain-rmse:0.807631\tVal-rmse:0.825082\n",
      "[776]\tTrain-rmse:0.807615\tVal-rmse:0.825077\n",
      "[777]\tTrain-rmse:0.807575\tVal-rmse:0.825052\n",
      "[778]\tTrain-rmse:0.807546\tVal-rmse:0.825039\n",
      "[779]\tTrain-rmse:0.807504\tVal-rmse:0.825004\n",
      "[780]\tTrain-rmse:0.80745\tVal-rmse:0.824973\n",
      "[781]\tTrain-rmse:0.807409\tVal-rmse:0.824933\n",
      "[782]\tTrain-rmse:0.807395\tVal-rmse:0.824928\n",
      "[783]\tTrain-rmse:0.807368\tVal-rmse:0.824916\n",
      "[784]\tTrain-rmse:0.807305\tVal-rmse:0.824864\n",
      "[785]\tTrain-rmse:0.807263\tVal-rmse:0.824841\n",
      "[786]\tTrain-rmse:0.807148\tVal-rmse:0.82476\n",
      "[787]\tTrain-rmse:0.807133\tVal-rmse:0.82476\n",
      "[788]\tTrain-rmse:0.807079\tVal-rmse:0.824735\n",
      "[789]\tTrain-rmse:0.807042\tVal-rmse:0.824718\n",
      "[790]\tTrain-rmse:0.807007\tVal-rmse:0.82469\n",
      "[791]\tTrain-rmse:0.806938\tVal-rmse:0.824645\n",
      "[792]\tTrain-rmse:0.80688\tVal-rmse:0.82459\n",
      "[793]\tTrain-rmse:0.806834\tVal-rmse:0.824564\n",
      "[794]\tTrain-rmse:0.806802\tVal-rmse:0.824553\n",
      "[795]\tTrain-rmse:0.806771\tVal-rmse:0.824553\n",
      "[796]\tTrain-rmse:0.806746\tVal-rmse:0.824542\n",
      "[797]\tTrain-rmse:0.806732\tVal-rmse:0.824539\n",
      "[798]\tTrain-rmse:0.806717\tVal-rmse:0.824532\n",
      "[799]\tTrain-rmse:0.806542\tVal-rmse:0.824359\n",
      "[800]\tTrain-rmse:0.806509\tVal-rmse:0.824345\n",
      "[801]\tTrain-rmse:0.806499\tVal-rmse:0.824341\n",
      "[802]\tTrain-rmse:0.806434\tVal-rmse:0.824276\n",
      "[803]\tTrain-rmse:0.806378\tVal-rmse:0.824238\n",
      "[804]\tTrain-rmse:0.806317\tVal-rmse:0.824197\n",
      "[805]\tTrain-rmse:0.806268\tVal-rmse:0.824145\n",
      "[806]\tTrain-rmse:0.806244\tVal-rmse:0.824138\n",
      "[807]\tTrain-rmse:0.80616\tVal-rmse:0.824081\n",
      "[808]\tTrain-rmse:0.806136\tVal-rmse:0.824062\n",
      "[809]\tTrain-rmse:0.806093\tVal-rmse:0.824043\n",
      "[810]\tTrain-rmse:0.805856\tVal-rmse:0.823809\n",
      "[811]\tTrain-rmse:0.805828\tVal-rmse:0.8238\n",
      "[812]\tTrain-rmse:0.805797\tVal-rmse:0.823781\n",
      "[813]\tTrain-rmse:0.805716\tVal-rmse:0.823711\n",
      "[814]\tTrain-rmse:0.80566\tVal-rmse:0.823672\n",
      "[815]\tTrain-rmse:0.80563\tVal-rmse:0.823653\n",
      "[816]\tTrain-rmse:0.805604\tVal-rmse:0.823647\n",
      "[817]\tTrain-rmse:0.805586\tVal-rmse:0.82364\n",
      "[818]\tTrain-rmse:0.805561\tVal-rmse:0.823632\n",
      "[819]\tTrain-rmse:0.805493\tVal-rmse:0.82358\n",
      "[820]\tTrain-rmse:0.805459\tVal-rmse:0.823566\n",
      "[821]\tTrain-rmse:0.805444\tVal-rmse:0.823557\n",
      "[822]\tTrain-rmse:0.805385\tVal-rmse:0.823498\n",
      "[823]\tTrain-rmse:0.805134\tVal-rmse:0.823263\n",
      "[824]\tTrain-rmse:0.805095\tVal-rmse:0.823233\n",
      "[825]\tTrain-rmse:0.805055\tVal-rmse:0.823214\n",
      "[826]\tTrain-rmse:0.80504\tVal-rmse:0.823211\n",
      "[827]\tTrain-rmse:0.804985\tVal-rmse:0.823178\n",
      "[828]\tTrain-rmse:0.804961\tVal-rmse:0.823169\n",
      "[829]\tTrain-rmse:0.804938\tVal-rmse:0.823154\n",
      "[830]\tTrain-rmse:0.804918\tVal-rmse:0.823135\n",
      "[831]\tTrain-rmse:0.804879\tVal-rmse:0.823099\n",
      "[832]\tTrain-rmse:0.804867\tVal-rmse:0.823094\n",
      "[833]\tTrain-rmse:0.80479\tVal-rmse:0.823047\n",
      "[834]\tTrain-rmse:0.804763\tVal-rmse:0.823041\n",
      "[835]\tTrain-rmse:0.804702\tVal-rmse:0.823005\n",
      "[836]\tTrain-rmse:0.804663\tVal-rmse:0.822996\n",
      "[837]\tTrain-rmse:0.804606\tVal-rmse:0.822951\n",
      "[838]\tTrain-rmse:0.804555\tVal-rmse:0.822914\n",
      "[839]\tTrain-rmse:0.804543\tVal-rmse:0.822905\n",
      "[840]\tTrain-rmse:0.804508\tVal-rmse:0.822888\n",
      "[841]\tTrain-rmse:0.804435\tVal-rmse:0.82284\n",
      "[842]\tTrain-rmse:0.804422\tVal-rmse:0.822834\n",
      "[843]\tTrain-rmse:0.804293\tVal-rmse:0.822691\n",
      "[844]\tTrain-rmse:0.804265\tVal-rmse:0.822675\n",
      "[845]\tTrain-rmse:0.804234\tVal-rmse:0.822662\n",
      "[846]\tTrain-rmse:0.804209\tVal-rmse:0.822649\n",
      "[847]\tTrain-rmse:0.804191\tVal-rmse:0.82264\n",
      "[848]\tTrain-rmse:0.804151\tVal-rmse:0.822631\n",
      "[849]\tTrain-rmse:0.804131\tVal-rmse:0.822625\n",
      "[850]\tTrain-rmse:0.804049\tVal-rmse:0.822567\n",
      "[851]\tTrain-rmse:0.804032\tVal-rmse:0.822566\n",
      "[852]\tTrain-rmse:0.803979\tVal-rmse:0.822515\n",
      "[853]\tTrain-rmse:0.803923\tVal-rmse:0.822482\n",
      "[854]\tTrain-rmse:0.803884\tVal-rmse:0.822462\n",
      "[855]\tTrain-rmse:0.803854\tVal-rmse:0.822447\n",
      "[856]\tTrain-rmse:0.80385\tVal-rmse:0.822444\n",
      "[857]\tTrain-rmse:0.80369\tVal-rmse:0.822278\n",
      "[858]\tTrain-rmse:0.803595\tVal-rmse:0.822206\n",
      "[859]\tTrain-rmse:0.80356\tVal-rmse:0.822202\n",
      "[860]\tTrain-rmse:0.803539\tVal-rmse:0.8222\n",
      "[861]\tTrain-rmse:0.803516\tVal-rmse:0.822187\n",
      "[862]\tTrain-rmse:0.803393\tVal-rmse:0.822068\n",
      "[863]\tTrain-rmse:0.803331\tVal-rmse:0.822015\n",
      "[864]\tTrain-rmse:0.803306\tVal-rmse:0.822004\n",
      "[865]\tTrain-rmse:0.803288\tVal-rmse:0.822\n",
      "[866]\tTrain-rmse:0.803264\tVal-rmse:0.821989\n",
      "[867]\tTrain-rmse:0.803182\tVal-rmse:0.821927\n",
      "[868]\tTrain-rmse:0.803046\tVal-rmse:0.821754\n",
      "[869]\tTrain-rmse:0.802833\tVal-rmse:0.82156\n",
      "[870]\tTrain-rmse:0.802776\tVal-rmse:0.821526\n",
      "[871]\tTrain-rmse:0.802708\tVal-rmse:0.82146\n",
      "[872]\tTrain-rmse:0.802662\tVal-rmse:0.821446\n",
      "[873]\tTrain-rmse:0.8026\tVal-rmse:0.821403\n",
      "[874]\tTrain-rmse:0.802552\tVal-rmse:0.821393\n",
      "[875]\tTrain-rmse:0.802522\tVal-rmse:0.821381\n",
      "[876]\tTrain-rmse:0.802501\tVal-rmse:0.821385\n",
      "[877]\tTrain-rmse:0.802334\tVal-rmse:0.821221\n",
      "[878]\tTrain-rmse:0.802306\tVal-rmse:0.82121\n",
      "[879]\tTrain-rmse:0.802281\tVal-rmse:0.821199\n",
      "[880]\tTrain-rmse:0.802251\tVal-rmse:0.821177\n",
      "[881]\tTrain-rmse:0.802216\tVal-rmse:0.821164\n",
      "[882]\tTrain-rmse:0.802185\tVal-rmse:0.821148\n",
      "[883]\tTrain-rmse:0.802158\tVal-rmse:0.821137\n",
      "[884]\tTrain-rmse:0.802126\tVal-rmse:0.821133\n",
      "[885]\tTrain-rmse:0.802098\tVal-rmse:0.821117\n",
      "[886]\tTrain-rmse:0.802067\tVal-rmse:0.821109\n",
      "[887]\tTrain-rmse:0.802037\tVal-rmse:0.821104\n",
      "[888]\tTrain-rmse:0.802008\tVal-rmse:0.821083\n",
      "[889]\tTrain-rmse:0.801994\tVal-rmse:0.821072\n",
      "[890]\tTrain-rmse:0.801926\tVal-rmse:0.82103\n",
      "[891]\tTrain-rmse:0.801893\tVal-rmse:0.821025\n",
      "[892]\tTrain-rmse:0.80187\tVal-rmse:0.821015\n",
      "[893]\tTrain-rmse:0.801856\tVal-rmse:0.821012\n",
      "[894]\tTrain-rmse:0.801821\tVal-rmse:0.821015\n",
      "[895]\tTrain-rmse:0.801801\tVal-rmse:0.820999\n",
      "[896]\tTrain-rmse:0.801685\tVal-rmse:0.820877\n",
      "[897]\tTrain-rmse:0.801662\tVal-rmse:0.820861\n",
      "[898]\tTrain-rmse:0.801639\tVal-rmse:0.820844\n",
      "[899]\tTrain-rmse:0.801611\tVal-rmse:0.820838\n",
      "[900]\tTrain-rmse:0.801511\tVal-rmse:0.820773\n",
      "[901]\tTrain-rmse:0.801472\tVal-rmse:0.820745\n",
      "[902]\tTrain-rmse:0.801442\tVal-rmse:0.820737\n",
      "[903]\tTrain-rmse:0.801395\tVal-rmse:0.820711\n",
      "[904]\tTrain-rmse:0.801366\tVal-rmse:0.820708\n",
      "[905]\tTrain-rmse:0.801322\tVal-rmse:0.820675\n",
      "[906]\tTrain-rmse:0.801297\tVal-rmse:0.82066\n",
      "[907]\tTrain-rmse:0.801267\tVal-rmse:0.820643\n",
      "[908]\tTrain-rmse:0.801231\tVal-rmse:0.820629\n",
      "[909]\tTrain-rmse:0.80119\tVal-rmse:0.820593\n",
      "[910]\tTrain-rmse:0.801156\tVal-rmse:0.820577\n",
      "[911]\tTrain-rmse:0.801064\tVal-rmse:0.820507\n",
      "[912]\tTrain-rmse:0.801044\tVal-rmse:0.820504\n",
      "[913]\tTrain-rmse:0.801027\tVal-rmse:0.820498\n",
      "[914]\tTrain-rmse:0.800983\tVal-rmse:0.820474\n",
      "[915]\tTrain-rmse:0.800968\tVal-rmse:0.820476\n",
      "[916]\tTrain-rmse:0.80094\tVal-rmse:0.820466\n",
      "[917]\tTrain-rmse:0.800867\tVal-rmse:0.820412\n",
      "[918]\tTrain-rmse:0.80078\tVal-rmse:0.820356\n",
      "[919]\tTrain-rmse:0.800752\tVal-rmse:0.82036\n",
      "[920]\tTrain-rmse:0.800699\tVal-rmse:0.820339\n",
      "[921]\tTrain-rmse:0.800683\tVal-rmse:0.820336\n",
      "[922]\tTrain-rmse:0.800666\tVal-rmse:0.82033\n",
      "[923]\tTrain-rmse:0.800545\tVal-rmse:0.820226\n",
      "[924]\tTrain-rmse:0.800467\tVal-rmse:0.820163\n",
      "[925]\tTrain-rmse:0.800449\tVal-rmse:0.820161\n",
      "[926]\tTrain-rmse:0.800425\tVal-rmse:0.820155\n",
      "[927]\tTrain-rmse:0.800398\tVal-rmse:0.820153\n",
      "[928]\tTrain-rmse:0.800354\tVal-rmse:0.820131\n",
      "[929]\tTrain-rmse:0.800191\tVal-rmse:0.820011\n",
      "[930]\tTrain-rmse:0.800179\tVal-rmse:0.820008\n",
      "[931]\tTrain-rmse:0.800154\tVal-rmse:0.819992\n",
      "[932]\tTrain-rmse:0.799969\tVal-rmse:0.81983\n",
      "[933]\tTrain-rmse:0.799914\tVal-rmse:0.819801\n",
      "[934]\tTrain-rmse:0.799779\tVal-rmse:0.819697\n",
      "[935]\tTrain-rmse:0.799755\tVal-rmse:0.81968\n"
     ]
    },
    {
     "name": "stdout",
     "output_type": "stream",
     "text": [
      "[936]\tTrain-rmse:0.799626\tVal-rmse:0.819583\n",
      "[937]\tTrain-rmse:0.799611\tVal-rmse:0.819576\n",
      "[938]\tTrain-rmse:0.799579\tVal-rmse:0.819554\n",
      "[939]\tTrain-rmse:0.79954\tVal-rmse:0.81953\n",
      "[940]\tTrain-rmse:0.799477\tVal-rmse:0.819491\n",
      "[941]\tTrain-rmse:0.799456\tVal-rmse:0.819482\n",
      "[942]\tTrain-rmse:0.799385\tVal-rmse:0.819438\n",
      "[943]\tTrain-rmse:0.799365\tVal-rmse:0.819437\n",
      "[944]\tTrain-rmse:0.799314\tVal-rmse:0.819397\n",
      "[945]\tTrain-rmse:0.799146\tVal-rmse:0.81926\n",
      "[946]\tTrain-rmse:0.799103\tVal-rmse:0.819228\n",
      "[947]\tTrain-rmse:0.79899\tVal-rmse:0.819122\n",
      "[948]\tTrain-rmse:0.798939\tVal-rmse:0.819104\n",
      "[949]\tTrain-rmse:0.798892\tVal-rmse:0.81908\n",
      "[950]\tTrain-rmse:0.798841\tVal-rmse:0.819046\n",
      "[951]\tTrain-rmse:0.798801\tVal-rmse:0.819021\n",
      "[952]\tTrain-rmse:0.798757\tVal-rmse:0.819002\n",
      "[953]\tTrain-rmse:0.798669\tVal-rmse:0.818952\n",
      "[954]\tTrain-rmse:0.798647\tVal-rmse:0.818944\n",
      "[955]\tTrain-rmse:0.798604\tVal-rmse:0.818913\n",
      "[956]\tTrain-rmse:0.798576\tVal-rmse:0.818895\n",
      "[957]\tTrain-rmse:0.798535\tVal-rmse:0.818884\n",
      "[958]\tTrain-rmse:0.798509\tVal-rmse:0.818889\n",
      "[959]\tTrain-rmse:0.798481\tVal-rmse:0.818883\n",
      "[960]\tTrain-rmse:0.798424\tVal-rmse:0.818865\n",
      "[961]\tTrain-rmse:0.798401\tVal-rmse:0.818866\n",
      "[962]\tTrain-rmse:0.798343\tVal-rmse:0.81882\n",
      "[963]\tTrain-rmse:0.798305\tVal-rmse:0.818807\n",
      "[964]\tTrain-rmse:0.798285\tVal-rmse:0.818798\n",
      "[965]\tTrain-rmse:0.798169\tVal-rmse:0.818693\n",
      "[966]\tTrain-rmse:0.798137\tVal-rmse:0.818688\n",
      "[967]\tTrain-rmse:0.79811\tVal-rmse:0.818675\n",
      "[968]\tTrain-rmse:0.798038\tVal-rmse:0.818632\n",
      "[969]\tTrain-rmse:0.79802\tVal-rmse:0.818627\n",
      "[970]\tTrain-rmse:0.797995\tVal-rmse:0.818615\n",
      "[971]\tTrain-rmse:0.797959\tVal-rmse:0.818595\n",
      "[972]\tTrain-rmse:0.797892\tVal-rmse:0.818539\n",
      "[973]\tTrain-rmse:0.797761\tVal-rmse:0.818429\n",
      "[974]\tTrain-rmse:0.797742\tVal-rmse:0.818426\n",
      "[975]\tTrain-rmse:0.797695\tVal-rmse:0.818411\n",
      "[976]\tTrain-rmse:0.797669\tVal-rmse:0.8184\n",
      "[977]\tTrain-rmse:0.79765\tVal-rmse:0.8184\n",
      "[978]\tTrain-rmse:0.797569\tVal-rmse:0.818326\n",
      "[979]\tTrain-rmse:0.797541\tVal-rmse:0.818311\n",
      "[980]\tTrain-rmse:0.797523\tVal-rmse:0.818307\n",
      "[981]\tTrain-rmse:0.797505\tVal-rmse:0.818303\n",
      "[982]\tTrain-rmse:0.797464\tVal-rmse:0.818272\n",
      "[983]\tTrain-rmse:0.797426\tVal-rmse:0.818244\n",
      "[984]\tTrain-rmse:0.797382\tVal-rmse:0.818219\n",
      "[985]\tTrain-rmse:0.797348\tVal-rmse:0.818199\n",
      "[986]\tTrain-rmse:0.797276\tVal-rmse:0.81814\n",
      "[987]\tTrain-rmse:0.797262\tVal-rmse:0.818139\n",
      "[988]\tTrain-rmse:0.797219\tVal-rmse:0.818112\n",
      "[989]\tTrain-rmse:0.797182\tVal-rmse:0.818095\n",
      "[990]\tTrain-rmse:0.797138\tVal-rmse:0.818081\n",
      "[991]\tTrain-rmse:0.797118\tVal-rmse:0.818073\n",
      "[992]\tTrain-rmse:0.797102\tVal-rmse:0.818069\n",
      "[993]\tTrain-rmse:0.797054\tVal-rmse:0.818021\n",
      "[994]\tTrain-rmse:0.797013\tVal-rmse:0.818008\n",
      "[995]\tTrain-rmse:0.796975\tVal-rmse:0.817987\n",
      "[996]\tTrain-rmse:0.796931\tVal-rmse:0.817937\n",
      "[997]\tTrain-rmse:0.796901\tVal-rmse:0.817925\n",
      "[998]\tTrain-rmse:0.796767\tVal-rmse:0.817818\n",
      "[999]\tTrain-rmse:0.79674\tVal-rmse:0.817815\n"
     ]
    }
   ],
   "source": [
    "#%%time\n",
    "\n",
    "xgb_params = {'booster': 'gbtree',\n",
    "          'eta': .1,\n",
    "          'min_child_weight': 100,\n",
    "          'max_depth': 6,  ##6\n",
    "          'objective': 'reg:linear',\n",
    "          'eval_metric': 'rmse',\n",
    "          'silent': False,\n",
    "          'nthread': 8,\n",
    "          'tree_method': 'gpu_hist'}\n",
    "\n",
    "model = xgb.train(xgb_params, Train, 1000, [(Train, 'Train'), (Val, 'Val')], early_stopping_rounds=10, verbose_eval=1 )\n",
    "\n",
    "test['item_cnt_month'] = model.predict(Test).clip(0, 20)\n",
    "test[['ID', 'item_cnt_month']].sort_values('ID').to_csv('boost_pred.csv', index=False)"
   ]
  },
  {
   "cell_type": "code",
   "execution_count": 6,
   "metadata": {
    "_uuid": "98a12a5e03f404a01804a14aa3971a03091da75b"
   },
   "outputs": [],
   "source": [
    "#pickle.dump(model, open(\"xgb.pickle\", \"wb\"))"
   ]
  },
  {
   "cell_type": "code",
   "execution_count": 7,
   "metadata": {
    "_uuid": "6512397401f9b5e471c43ac0a11d469effc005c9"
   },
   "outputs": [],
   "source": [
    "#model = pickle.load(open(\"xgb.pickle\", \"rb\"))"
   ]
  },
  {
   "cell_type": "markdown",
   "metadata": {
    "_uuid": "f590516efb86433857962af6cd38d55057860589"
   },
   "source": [
    "**item_id**, **date_block_num** and **month** have quite a predictive power :)"
   ]
  },
  {
   "cell_type": "code",
   "execution_count": 10,
   "metadata": {
    "_uuid": "8744c96671cd81308395377452dc2aada93d26b5"
   },
   "outputs": [
    {
     "data": {
      "text/plain": [
       "<matplotlib.axes._subplots.AxesSubplot at 0x1fcb3af5ac8>"
      ]
     },
     "execution_count": 10,
     "metadata": {},
     "output_type": "execute_result"
    },
    {
     "data": {
      "image/png": "[encoded data removed]",
      "text/plain": [
       "<Figure size 432x288 with 1 Axes>"
      ]
     },
     "metadata": {
      "needs_background": "light"
     },
     "output_type": "display_data"
    }
   ],
   "source": [
    "xgb.plot_importance(booster=model, max_num_features=18) ##12"
   ]
  }
 ],
 "metadata": {
  "kernelspec": {
   "display_name": "Python 3",
   "language": "python",
   "name": "python3"
  },
  "language_info": {
   "codemirror_mode": {
    "name": "ipython",
    "version": 3
   },
   "file_extension": ".py",
   "mimetype": "text/x-python",
   "name": "python",
   "nbconvert_exporter": "python",
   "pygments_lexer": "ipython3",
   "version": "3.6.4"
  }
 },
 "nbformat": 4,
 "nbformat_minor": 1
}
